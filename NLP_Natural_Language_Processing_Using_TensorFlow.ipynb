{
  "nbformat": 4,
  "nbformat_minor": 0,
  "metadata": {
    "colab": {
      "name": "NLP - Natural Language Processing Using TensorFlow.ipynb",
      "provenance": [],
      "collapsed_sections": [],
      "authorship_tag": "ABX9TyNa73buV5RBnoZ2SfiCKeCm",
      "include_colab_link": true
    },
    "kernelspec": {
      "name": "python3",
      "display_name": "Python 3"
    }
  },
  "cells": [
    {
      "cell_type": "markdown",
      "metadata": {
        "id": "view-in-github",
        "colab_type": "text"
      },
      "source": [
        "<a href=\"https://colab.research.google.com/github/abidshafee/google.colaboratory_projects/blob/master/NLP_Natural_Language_Processing_Using_TensorFlow.ipynb\" target=\"_parent\"><img src=\"https://colab.research.google.com/assets/colab-badge.svg\" alt=\"Open In Colab\"/></a>"
      ]
    },
    {
      "cell_type": "markdown",
      "metadata": {
        "id": "lmy1OmLTNRIW",
        "colab_type": "text"
      },
      "source": [
        "# Tokenization\n",
        "api involves: **Tokenizer** from **tensorflow->compat.v2->keras->preprocessing.txt**\n",
        "\n",
        "Given sentences encoding into numbers is calles Tokenization"
      ]
    },
    {
      "cell_type": "code",
      "metadata": {
        "id": "CYDGN2atQPZf",
        "colab_type": "code",
        "colab": {}
      },
      "source": [
        "import numpy as np\n",
        "import tensorflow as tf\n",
        "from tensorflow import keras\n",
        "import pandas as pd\n",
        "from tensorflow.keras.preprocessing.sequence import pad_sequences\n",
        "from tensorflow.compat.v2.keras.preprocessing.text import Tokenizer\n",
        "# from tensorflow.keras.preprocessing.txt import Tokenizer"
      ],
      "execution_count": null,
      "outputs": []
    },
    {
      "cell_type": "code",
      "metadata": {
        "id": "RdSK87gTNPQ2",
        "colab_type": "code",
        "colab": {}
      },
      "source": [
        "sentences = ['The first step in sentence classification is to represent variable-length sentences using neural networks.', 'In this section, I’m going to present the concept of recurrent neural networks (RNNs), one of the most important concepts in deep NLP.', 'Many modern NLP models use RNNs in some way.', 'I’ll explain why they’re important, what they do, and introduce their simplest variant.']"
      ],
      "execution_count": null,
      "outputs": []
    },
    {
      "cell_type": "code",
      "metadata": {
        "id": "b5YSKnz5Yxol",
        "colab_type": "code",
        "colab": {}
      },
      "source": [
        "tokenizer = Tokenizer(num_words=100, oov_token='<OOV>')\n",
        "tokenizer.fit_on_texts(sentences)\n",
        "word_index = tokenizer.word_index\n",
        "# print(word_index)"
      ],
      "execution_count": null,
      "outputs": []
    },
    {
      "cell_type": "code",
      "metadata": {
        "id": "0EZP9IKpaRpY",
        "colab_type": "code",
        "colab": {
          "base_uri": "https://localhost:8080/",
          "height": 54
        },
        "outputId": "51f113ad-a856-4acd-cdaf-99d3e8022bf1"
      },
      "source": [
        "word_index.keys()"
      ],
      "execution_count": null,
      "outputs": [
        {
          "output_type": "execute_result",
          "data": {
            "text/plain": [
              "dict_keys(['<OOV>', 'in', 'the', 'to', 'neural', 'networks', 'of', 'rnns', 'important', 'nlp', 'first', 'step', 'sentence', 'classification', 'is', 'represent', 'variable', 'length', 'sentences', 'using', 'this', 'section', 'i’m', 'going', 'present', 'concept', 'recurrent', 'one', 'most', 'concepts', 'deep', 'many', 'modern', 'models', 'use', 'some', 'way', 'i’ll', 'explain', 'why', 'they’re', 'what', 'they', 'do', 'and', 'introduce', 'their', 'simplest', 'variant'])"
            ]
          },
          "metadata": {
            "tags": []
          },
          "execution_count": 26
        }
      ]
    },
    {
      "cell_type": "code",
      "metadata": {
        "id": "9FGox-YXyl1x",
        "colab_type": "code",
        "colab": {
          "base_uri": "https://localhost:8080/",
          "height": 54
        },
        "outputId": "42078457-6ee0-4758-8eec-5b280243b2f8"
      },
      "source": [
        "word_index.values()"
      ],
      "execution_count": null,
      "outputs": [
        {
          "output_type": "execute_result",
          "data": {
            "text/plain": [
              "dict_values([1, 2, 3, 4, 5, 6, 7, 8, 9, 10, 11, 12, 13, 14, 15, 16, 17, 18, 19, 20, 21, 22, 23, 24, 25, 26, 27, 28, 29, 30, 31, 32, 33, 34, 35, 36, 37, 38, 39, 40, 41, 42, 43, 44, 45, 46, 47, 48, 49])"
            ]
          },
          "metadata": {
            "tags": []
          },
          "execution_count": 27
        }
      ]
    },
    {
      "cell_type": "markdown",
      "metadata": {
        "id": "hf-BKLTKxOTX",
        "colab_type": "text"
      },
      "source": [
        "# Organizing text by Sequencing - Turning Sentences into data"
      ]
    },
    {
      "cell_type": "code",
      "metadata": {
        "id": "tXKts2FbbmWW",
        "colab_type": "code",
        "colab": {
          "base_uri": "https://localhost:8080/",
          "height": 54
        },
        "outputId": "c6a005f9-28a1-47bd-8835-285b5d97c4f9"
      },
      "source": [
        "sequences = tokenizer.texts_to_sequences(sentences)\n",
        "print(sequences)"
      ],
      "execution_count": null,
      "outputs": [
        {
          "output_type": "stream",
          "text": [
            "[[2, 10, 11, 1, 12, 13, 14, 3, 15, 16, 17, 18, 19, 4, 5], [1, 20, 21, 22, 23, 3, 24, 2, 25, 6, 26, 4, 5, 7, 27, 6, 2, 28, 8, 29, 1, 30, 9], [31, 32, 9, 33, 34, 7, 1, 35, 36], [37, 38, 39, 40, 8, 41, 42, 43, 44, 45, 46, 47, 48]]\n"
          ],
          "name": "stdout"
        }
      ]
    },
    {
      "cell_type": "code",
      "metadata": {
        "id": "QsyJy28E4iFE",
        "colab_type": "code",
        "colab": {
          "base_uri": "https://localhost:8080/",
          "height": 85
        },
        "outputId": "c0e27456-00b6-49df-eafd-737120d94c26"
      },
      "source": [
        "# pad_sequences() is a method to handle sentences of different lengths\n",
        "# best way to handle sentence length is using raggedtensor, we might discuss it in another scope\n",
        "# but for simplicity we uses here the pad_sequence() to deal with sentence length\n",
        "padded = pad_sequences(sequences)\n",
        "print(padded)\n",
        "\n",
        "# pad_sequences accept parameters are follows: \n",
        "#  - padding='post' - will add 0s after the sentences\n",
        "#  - maxlen=5 - maxlen parameter specify the desire lengh\n",
        "#  - truncating='post' - specify the choping off the later post if sentence exided 'maxlen'"
      ],
      "execution_count": null,
      "outputs": [
        {
          "output_type": "stream",
          "text": [
            "[[ 0  0  0  0  0  0  0  0  2 10 11  1 12 13 14  3 15 16 17 18 19  4  5]\n",
            " [ 1 20 21 22 23  3 24  2 25  6 26  4  5  7 27  6  2 28  8 29  1 30  9]\n",
            " [ 0  0  0  0  0  0  0  0  0  0  0  0  0  0 31 32  9 33 34  7  1 35 36]\n",
            " [ 0  0  0  0  0  0  0  0  0  0 37 38 39 40  8 41 42 43 44 45 46 47 48]]\n"
          ],
          "name": "stdout"
        }
      ]
    },
    {
      "cell_type": "markdown",
      "metadata": {
        "id": "qODYjsFnGAA5",
        "colab_type": "text"
      },
      "source": [
        "# Sentiment Analysis - recognize sentiment in text"
      ]
    },
    {
      "cell_type": "code",
      "metadata": {
        "id": "905vSPop9dwp",
        "colab_type": "code",
        "colab": {}
      },
      "source": [
        "import json"
      ],
      "execution_count": null,
      "outputs": []
    },
    {
      "cell_type": "code",
      "metadata": {
        "id": "k-_OKs1QOn__",
        "colab_type": "code",
        "colab": {
          "resources": {
            "http://localhost:8080/nbextensions/google.colab/files.js": {
              "data": "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",
              "ok": true,
              "headers": [
                [
                  "content-type",
                  "application/javascript"
                ]
              ],
              "status": 200,
              "status_text": ""
            }
          },
          "base_uri": "https://localhost:8080/",
          "height": 72
        },
        "outputId": "147f94ba-84c4-4d1e-e139-4c202e9409c7"
      },
      "source": [
        "from google.colab import files\n",
        "upload = files.upload()"
      ],
      "execution_count": null,
      "outputs": [
        {
          "output_type": "display_data",
          "data": {
            "text/html": [
              "\n",
              "     <input type=\"file\" id=\"files-767f6d62-5c6e-4d25-85bb-fe2b1a72528f\" name=\"files[]\" multiple disabled\n",
              "        style=\"border:none\" />\n",
              "     <output id=\"result-767f6d62-5c6e-4d25-85bb-fe2b1a72528f\">\n",
              "      Upload widget is only available when the cell has been executed in the\n",
              "      current browser session. Please rerun this cell to enable.\n",
              "      </output>\n",
              "      <script src=\"/nbextensions/google.colab/files.js\"></script> "
            ],
            "text/plain": [
              "<IPython.core.display.HTML object>"
            ]
          },
          "metadata": {
            "tags": []
          }
        },
        {
          "output_type": "stream",
          "text": [
            "Saving sarcasm.json to sarcasm.json\n"
          ],
          "name": "stdout"
        }
      ]
    },
    {
      "cell_type": "code",
      "metadata": {
        "id": "s12aJIZDO9ye",
        "colab_type": "code",
        "colab": {}
      },
      "source": [
        "with open('sarcasm.json', 'r') as f:\n",
        "  datastore = json.load(f)"
      ],
      "execution_count": null,
      "outputs": []
    },
    {
      "cell_type": "code",
      "metadata": {
        "id": "29awEkOpPcTr",
        "colab_type": "code",
        "colab": {}
      },
      "source": [
        "sentences = []\n",
        "labels = []\n",
        "urls = []\n",
        "\n",
        "for item in datastore:\n",
        "  sentences.append(item['headline'])\n",
        "  labels.append(item['is_sarcastic'])\n",
        "  urls.append(item['article_link'])"
      ],
      "execution_count": null,
      "outputs": []
    },
    {
      "cell_type": "code",
      "metadata": {
        "id": "-82hi1n2Pof7",
        "colab_type": "code",
        "colab": {}
      },
      "source": [
        "# sentences"
      ],
      "execution_count": null,
      "outputs": []
    },
    {
      "cell_type": "code",
      "metadata": {
        "id": "mQTaIGPtS6Ts",
        "colab_type": "code",
        "colab": {
          "base_uri": "https://localhost:8080/",
          "height": 34
        },
        "outputId": "5ae23f5e-efda-48e8-a0d0-a881f56fb513"
      },
      "source": [
        "# labels\n",
        "# urls\n",
        "len(labels)"
      ],
      "execution_count": null,
      "outputs": [
        {
          "output_type": "execute_result",
          "data": {
            "text/plain": [
              "26709"
            ]
          },
          "metadata": {
            "tags": []
          },
          "execution_count": 41
        }
      ]
    },
    {
      "cell_type": "code",
      "metadata": {
        "id": "zw2iAddzVT_7",
        "colab_type": "code",
        "colab": {}
      },
      "source": [
        "tokenizer = Tokenizer(oov_token=\"<OOV>\")\n",
        "tokenizer.fit_on_texts(sentences)\n",
        "word_index = tokenizer.word_index"
      ],
      "execution_count": null,
      "outputs": []
    },
    {
      "cell_type": "code",
      "metadata": {
        "id": "8WBawwW65f30",
        "colab_type": "code",
        "colab": {}
      },
      "source": [
        "# now turning the sentences sequence of token\n",
        "sequences = tokenizer.texts_to_sequences(sentences)\n",
        "paded = pad_sequences(sequences, padding='post')"
      ],
      "execution_count": null,
      "outputs": []
    },
    {
      "cell_type": "code",
      "metadata": {
        "id": "BQY1jPcD9jmn",
        "colab_type": "code",
        "colab": {
          "base_uri": "https://localhost:8080/",
          "height": 34
        },
        "outputId": "79356a91-c20d-4f2b-9137-cebe38f65b91"
      },
      "source": [
        "len(sequences)"
      ],
      "execution_count": null,
      "outputs": [
        {
          "output_type": "execute_result",
          "data": {
            "text/plain": [
              "26709"
            ]
          },
          "metadata": {
            "tags": []
          },
          "execution_count": 21
        }
      ]
    },
    {
      "cell_type": "code",
      "metadata": {
        "id": "19hDmdqn5sFw",
        "colab_type": "code",
        "colab": {
          "base_uri": "https://localhost:8080/",
          "height": 85
        },
        "outputId": "81a7baf7-6e7a-4813-9233-74ad79b6ec9d"
      },
      "source": [
        "paded[1]\n",
        "# paded.shape"
      ],
      "execution_count": null,
      "outputs": [
        {
          "output_type": "execute_result",
          "data": {
            "text/plain": [
              "array([   4, 8435, 3338, 2746,   22,    2,  166, 8436,  416, 3112,    6,\n",
              "        258,    9, 1002,    0,    0,    0,    0,    0,    0,    0,    0,\n",
              "          0,    0,    0,    0,    0,    0,    0,    0,    0,    0,    0,\n",
              "          0,    0,    0,    0,    0,    0,    0], dtype=int32)"
            ]
          },
          "metadata": {
            "tags": []
          },
          "execution_count": 18
        }
      ]
    },
    {
      "cell_type": "code",
      "metadata": {
        "id": "lVyNGcq48_MQ",
        "colab_type": "code",
        "colab": {
          "base_uri": "https://localhost:8080/",
          "height": 34
        },
        "outputId": "ca094533-1e47-49aa-de68-74fcba7cdbae"
      },
      "source": [
        "paded.shape"
      ],
      "execution_count": null,
      "outputs": [
        {
          "output_type": "execute_result",
          "data": {
            "text/plain": [
              "(26709, 40)"
            ]
          },
          "metadata": {
            "tags": []
          },
          "execution_count": 20
        }
      ]
    },
    {
      "cell_type": "code",
      "metadata": {
        "id": "4FSWRcwb6tOd",
        "colab_type": "code",
        "colab": {}
      },
      "source": [
        "# now spliting data into traning and testing sets\n",
        "# let training_size = 80% of data; 26709*80% using python slicing\n",
        "\n",
        "training_size = 21000\n",
        "\n",
        "training_sentences = sentences[:training_size]\n",
        "testing_sentences = sentences[training_size:]\n",
        "\n",
        "# spliting labels into training and testing sets\n",
        "training_labels = labels[:training_size]\n",
        "testing_labels = labels[training_size:]\n"
      ],
      "execution_count": null,
      "outputs": []
    },
    {
      "cell_type": "code",
      "metadata": {
        "id": "tW2Q23dSDc6n",
        "colab_type": "code",
        "colab": {}
      },
      "source": [
        "# now tekenize trainig and testing set seperately\n",
        "\n",
        "tokenizer = Tokenizer(num_words=training_size, oov_token=None)\n",
        "tokenizer.fit_on_texts(training_sentences)\n",
        "word_index = tokenizer.word_index"
      ],
      "execution_count": null,
      "outputs": []
    },
    {
      "cell_type": "code",
      "metadata": {
        "id": "SwLhugV9VXjO",
        "colab_type": "code",
        "colab": {
          "base_uri": "https://localhost:8080/",
          "height": 136
        },
        "outputId": "edd964c1-82c9-4738-b89f-1b540a13500e"
      },
      "source": [
        "# word_index\n",
        "\n",
        "training_sequences = tokenizer.texts_to_sequences(training_sentences)\n",
        "training_paded = pad_sequences(training_sequences)\n",
        "training_paded"
      ],
      "execution_count": null,
      "outputs": [
        {
          "output_type": "execute_result",
          "data": {
            "text/plain": [
              "array([[    0,     0,     0, ...,     5,  2711,  9172],\n",
              "       [    0,     0,     0, ...,   254,     8,   945],\n",
              "       [    0,     0,     0, ...,    44,     1,  9173],\n",
              "       ...,\n",
              "       [    0,     0,     0, ..., 12473,  5960,   496],\n",
              "       [    0,     0,     0, ...,     3,   363,   311],\n",
              "       [    0,     0,     0, ...,    19,  3769,   937]], dtype=int32)"
            ]
          },
          "metadata": {
            "tags": []
          },
          "execution_count": 49
        }
      ]
    },
    {
      "cell_type": "code",
      "metadata": {
        "id": "qn11YXKqXiXs",
        "colab_type": "code",
        "colab": {
          "base_uri": "https://localhost:8080/",
          "height": 136
        },
        "outputId": "3546847a-ce3b-4bf8-f547-e10b135b039e"
      },
      "source": [
        "testing_sequences = tokenizer.texts_to_sequences(testing_sentences)\n",
        "testing_paded = pad_sequences(testing_sequences)\n",
        "testing_paded"
      ],
      "execution_count": null,
      "outputs": [
        {
          "output_type": "execute_result",
          "data": {
            "text/plain": [
              "array([[    0,     0,     0, ...,   369,  1316,  5075],\n",
              "       [    0,     0,     0, ...,     0,     0,  5478],\n",
              "       [    0,     0,     0, ..., 13430,     7, 14891],\n",
              "       ...,\n",
              "       [    0,     0,     0, ...,     0,     8,    67],\n",
              "       [    0,     0,     0, ...,  1724,  3788,  3483],\n",
              "       [    0,     0,     0, ...,     5,     3,   800]], dtype=int32)"
            ]
          },
          "metadata": {
            "tags": []
          },
          "execution_count": 35
        }
      ]
    },
    {
      "cell_type": "code",
      "metadata": {
        "id": "rGed_DlsiMOa",
        "colab_type": "code",
        "colab": {}
      },
      "source": [
        "# converting to numpy array explicitely for recent version of tf\n",
        "training_paded = np.array(training_paded)\n",
        "training_labels = np.array(training_labels)\n",
        "testing_paded = np.array(testing_paded)\n",
        "testing_labels = np.array(testing_labels)"
      ],
      "execution_count": null,
      "outputs": []
    },
    {
      "cell_type": "markdown",
      "metadata": {
        "id": "jGtExJSAaD5_",
        "colab_type": "text"
      },
      "source": [
        "# Model"
      ]
    },
    {
      "cell_type": "code",
      "metadata": {
        "id": "NS5ymXZOYz5M",
        "colab_type": "code",
        "colab": {}
      },
      "source": [
        "model = tf.keras.Sequential([\n",
        "                             tf.keras.layers.Embedding(training_size, output_dim=11),\n",
        "                             tf.keras.layers.GlobalAveragePooling1D(),\n",
        "                             tf.keras.layers.Dense(21, activation = 'relu'),\n",
        "                             tf.keras.layers.Dense(1, activation='sigmoid')\n",
        "])\n",
        "model.compile(loss='binary_crossentropy', optimizer='adam', metrics=['accuracy'])"
      ],
      "execution_count": null,
      "outputs": []
    },
    {
      "cell_type": "code",
      "metadata": {
        "id": "8voEWYCickQJ",
        "colab_type": "code",
        "colab": {
          "base_uri": "https://localhost:8080/",
          "height": 765
        },
        "outputId": "c1349542-669b-47a4-9970-16f561a9ad59"
      },
      "source": [
        "epoch_no = 22\n",
        "training_texts = model.fit(trainig_paded, training_labels, epochs=epoch_no,\n",
        "                           validation_data=(testing_paded, testing_labels), verbose=2)"
      ],
      "execution_count": null,
      "outputs": [
        {
          "output_type": "stream",
          "text": [
            "Epoch 1/22\n",
            "657/657 - 3s - loss: 2.6187e-07 - accuracy: 1.0000 - val_loss: 2.7604 - val_accuracy: 0.7996\n",
            "Epoch 2/22\n",
            "657/657 - 2s - loss: 1.9746e-07 - accuracy: 1.0000 - val_loss: 2.8533 - val_accuracy: 0.8010\n",
            "Epoch 3/22\n",
            "657/657 - 2s - loss: 2.1649e-07 - accuracy: 1.0000 - val_loss: 2.8884 - val_accuracy: 0.8001\n",
            "Epoch 4/22\n",
            "657/657 - 2s - loss: 1.2021e-07 - accuracy: 1.0000 - val_loss: 2.9464 - val_accuracy: 0.7991\n",
            "Epoch 5/22\n",
            "657/657 - 2s - loss: 8.7810e-08 - accuracy: 1.0000 - val_loss: 3.0225 - val_accuracy: 0.8001\n",
            "Epoch 6/22\n",
            "657/657 - 2s - loss: 2.0205e-06 - accuracy: 1.0000 - val_loss: 3.0462 - val_accuracy: 0.8014\n",
            "Epoch 7/22\n",
            "657/657 - 3s - loss: 4.0002e-07 - accuracy: 1.0000 - val_loss: 3.0748 - val_accuracy: 0.8015\n",
            "Epoch 8/22\n",
            "657/657 - 2s - loss: 1.1827e-07 - accuracy: 1.0000 - val_loss: 3.0730 - val_accuracy: 0.7996\n",
            "Epoch 9/22\n",
            "657/657 - 2s - loss: 7.0876e-08 - accuracy: 1.0000 - val_loss: 3.0813 - val_accuracy: 0.7991\n",
            "Epoch 10/22\n",
            "657/657 - 2s - loss: 5.5717e-08 - accuracy: 1.0000 - val_loss: 3.0906 - val_accuracy: 0.7994\n",
            "Epoch 11/22\n",
            "657/657 - 2s - loss: 4.8717e-08 - accuracy: 1.0000 - val_loss: 3.0949 - val_accuracy: 0.7991\n",
            "Epoch 12/22\n",
            "657/657 - 2s - loss: 4.3290e-08 - accuracy: 1.0000 - val_loss: 3.1125 - val_accuracy: 0.7998\n",
            "Epoch 13/22\n",
            "657/657 - 2s - loss: 3.9665e-08 - accuracy: 1.0000 - val_loss: 3.1190 - val_accuracy: 0.7993\n",
            "Epoch 14/22\n",
            "657/657 - 2s - loss: 3.6010e-08 - accuracy: 1.0000 - val_loss: 3.1370 - val_accuracy: 0.8003\n",
            "Epoch 15/22\n",
            "657/657 - 2s - loss: 3.1921e-08 - accuracy: 1.0000 - val_loss: 3.1497 - val_accuracy: 0.8003\n",
            "Epoch 16/22\n",
            "657/657 - 2s - loss: 2.9172e-08 - accuracy: 1.0000 - val_loss: 3.1595 - val_accuracy: 0.7989\n",
            "Epoch 17/22\n",
            "657/657 - 2s - loss: 2.5489e-08 - accuracy: 1.0000 - val_loss: 3.1889 - val_accuracy: 0.8007\n",
            "Epoch 18/22\n",
            "657/657 - 3s - loss: 2.2836e-08 - accuracy: 1.0000 - val_loss: 3.2008 - val_accuracy: 0.7996\n",
            "Epoch 19/22\n",
            "657/657 - 3s - loss: 2.1326e-08 - accuracy: 1.0000 - val_loss: 3.2252 - val_accuracy: 0.8005\n",
            "Epoch 20/22\n",
            "657/657 - 3s - loss: 1.8625e-08 - accuracy: 1.0000 - val_loss: 3.2516 - val_accuracy: 0.8005\n",
            "Epoch 21/22\n",
            "657/657 - 2s - loss: 1.7133e-08 - accuracy: 1.0000 - val_loss: 3.2628 - val_accuracy: 0.7996\n",
            "Epoch 22/22\n",
            "657/657 - 2s - loss: 1.6949e-08 - accuracy: 1.0000 - val_loss: 3.3293 - val_accuracy: 0.7996\n"
          ],
          "name": "stdout"
        }
      ]
    },
    {
      "cell_type": "code",
      "metadata": {
        "id": "0Sy3lmYygXzl",
        "colab_type": "code",
        "colab": {
          "base_uri": "https://localhost:8080/",
          "height": 34
        },
        "outputId": "8829b452-cf63-4af9-cc68-af5229d3b785"
      },
      "source": [
        "print(training_texts)"
      ],
      "execution_count": null,
      "outputs": [
        {
          "output_type": "stream",
          "text": [
            "<tensorflow.python.keras.callbacks.History object at 0x7f557c594518>\n"
          ],
          "name": "stdout"
        }
      ]
    },
    {
      "cell_type": "markdown",
      "metadata": {
        "id": "UrpZ7X0EkDsJ",
        "colab_type": "text"
      },
      "source": [
        "# Testing Model on New sentences"
      ]
    },
    {
      "cell_type": "code",
      "metadata": {
        "id": "_jYnpXDWjvwM",
        "colab_type": "code",
        "colab": {}
      },
      "source": [
        "# now we can predic any sentence using the model. What ever it bias to sarcastic or not\n",
        "new_sentences = ['The first step in sentence classification is to represent variable-length sentences using neural networks.', \n",
        "             'In this section, I’m going to present the concept of recurrent neural networks (RNNs), one of the most important concepts in deep NLP.', \n",
        "             'Many modern NLP models use RNNs in some way.', \n",
        "             'I’ll explain why they’re important, what they do, and introduce their simplest variant.']"
      ],
      "execution_count": null,
      "outputs": []
    },
    {
      "cell_type": "code",
      "metadata": {
        "id": "Moak1n8F3jTT",
        "colab_type": "code",
        "colab": {}
      },
      "source": [
        "sequence_sentences = tokenizer.texts_to_sequences(new_sentences)\n",
        "paded_new_sent = pad_sequences(sequence_sentences)"
      ],
      "execution_count": null,
      "outputs": []
    },
    {
      "cell_type": "code",
      "metadata": {
        "id": "NXEWTs7Y4Vff",
        "colab_type": "code",
        "colab": {
          "base_uri": "https://localhost:8080/",
          "height": 170
        },
        "outputId": "2e756ee7-fe2c-4ee4-d9d0-f81c4cbe26fa"
      },
      "source": [
        "paded_new_sent"
      ],
      "execution_count": null,
      "outputs": [
        {
          "output_type": "execute_result",
          "data": {
            "text/plain": [
              "array([[    0,     0,     0,     0,     0,     0,     0,     3,    54,\n",
              "         1297,     4,  1470,    10,     1,  6175,  7186,   625, 11079],\n",
              "       [    4,    19,  1972,   117,     1,  3328,     3,  4077,     2,\n",
              "        11079,    40,     2,     3,    91,   838, 18717,     4,   942],\n",
              "       [    0,     0,     0,     0,     0,     0,     0,     0,     0,\n",
              "            0,     0,   452,  1672,  3569,   340,     4,   153,    89],\n",
              "       [    0,     0,     0,     0,     0,     0,     0,     0,  1678,\n",
              "           46,   838,    31,    95,    90,     8,  4868,    93, 13023]],\n",
              "      dtype=int32)"
            ]
          },
          "metadata": {
            "tags": []
          },
          "execution_count": 61
        }
      ]
    },
    {
      "cell_type": "code",
      "metadata": {
        "id": "K5ebORd74zB1",
        "colab_type": "code",
        "colab": {}
      },
      "source": [
        "prediction = model.predict(paded_new_sent)"
      ],
      "execution_count": null,
      "outputs": []
    },
    {
      "cell_type": "code",
      "metadata": {
        "id": "tW9rFWqL5C7d",
        "colab_type": "code",
        "colab": {
          "base_uri": "https://localhost:8080/",
          "height": 85
        },
        "outputId": "07306fec-77f3-4660-a6e2-1d205739fe9e"
      },
      "source": [
        "print(prediction)"
      ],
      "execution_count": null,
      "outputs": [
        {
          "output_type": "stream",
          "text": [
            "[[1.6637588e-22]\n",
            " [1.4538986e-15]\n",
            " [2.5311798e-02]\n",
            " [9.8330289e-01]]\n"
          ],
          "name": "stdout"
        }
      ]
    },
    {
      "cell_type": "markdown",
      "metadata": {
        "id": "RR7xxt1j7DSj",
        "colab_type": "text"
      },
      "source": [
        "### Ssentiment Analysis in New sentences:\n",
        "prediction 9 indicating the 4th sentece has a high probability of sarcasm. Less than 5 indicates these sentences are not sercastic at all."
      ]
    },
    {
      "cell_type": "code",
      "metadata": {
        "id": "BwpMSY3r5HCu",
        "colab_type": "code",
        "colab": {}
      },
      "source": [
        ""
      ],
      "execution_count": null,
      "outputs": []
    },
    {
      "cell_type": "markdown",
      "metadata": {
        "id": "O3rDmN7nE-FR",
        "colab_type": "text"
      },
      "source": [
        "# Training AI to create Poem"
      ]
    },
    {
      "cell_type": "code",
      "metadata": {
        "id": "f7HTwf4JFB14",
        "colab_type": "code",
        "colab": {}
      },
      "source": [
        "data = \"\"\"Do not go gentle into that good night,\n",
        "Old age should burn and rave at close of day;\n",
        "Rage, rage against the dying of the light.\n",
        "\n",
        "Though wise men at their end know dark is right,\n",
        "Because their words had forked no lightning they\n",
        "Do not go gentle into that good night.\n",
        "\n",
        "Good men, the last wave by, crying how bright\n",
        "Their frail deeds might have danced in a green bay,\n",
        "Rage, rage against the dying of the light.\n",
        "\n",
        "Wild men who caught and sang the sun in flight,\n",
        "And learn, too late, they grieved it on its way,\n",
        "Do not go gentle into that good night.\n",
        "\n",
        "Grave men, near death, who see with blinding sight\n",
        "Blind eyes could blaze like meteors and be gay,\n",
        "Rage, rage against the dying of the light.\n",
        "\n",
        "And you, my father, there on the sad height,\n",
        "Curse, bless, me now with your fierce tears, I pray.\n",
        "Do not go gentle into that good night.\n",
        "Rage, rage against the dying of the light\"\"\""
      ],
      "execution_count": 4,
      "outputs": []
    },
    {
      "cell_type": "code",
      "metadata": {
        "id": "_4z5MyNZFKDX",
        "colab_type": "code",
        "colab": {}
      },
      "source": [
        "corpus = data.lower().split('\\n')"
      ],
      "execution_count": 5,
      "outputs": []
    },
    {
      "cell_type": "code",
      "metadata": {
        "id": "z70oJmdpHDjl",
        "colab_type": "code",
        "colab": {
          "base_uri": "https://localhost:8080/",
          "height": 425
        },
        "outputId": "46d7deab-acb8-463d-9d02-752b569a0af9"
      },
      "source": [
        "corpus"
      ],
      "execution_count": 6,
      "outputs": [
        {
          "output_type": "execute_result",
          "data": {
            "text/plain": [
              "['do not go gentle into that good night,',\n",
              " 'old age should burn and rave at close of day;',\n",
              " 'rage, rage against the dying of the light.',\n",
              " '',\n",
              " 'though wise men at their end know dark is right,',\n",
              " 'because their words had forked no lightning they',\n",
              " 'do not go gentle into that good night.',\n",
              " '',\n",
              " 'good men, the last wave by, crying how bright',\n",
              " 'their frail deeds might have danced in a green bay,',\n",
              " 'rage, rage against the dying of the light.',\n",
              " '',\n",
              " 'wild men who caught and sang the sun in flight,',\n",
              " 'and learn, too late, they grieved it on its way,',\n",
              " 'do not go gentle into that good night.',\n",
              " '',\n",
              " 'grave men, near death, who see with blinding sight',\n",
              " 'blind eyes could blaze like meteors and be gay,',\n",
              " 'rage, rage against the dying of the light.',\n",
              " '',\n",
              " 'and you, my father, there on the sad height,',\n",
              " 'curse, bless, me now with your fierce tears, i pray.',\n",
              " 'do not go gentle into that good night.',\n",
              " 'rage, rage against the dying of the light']"
            ]
          },
          "metadata": {
            "tags": []
          },
          "execution_count": 6
        }
      ]
    },
    {
      "cell_type": "code",
      "metadata": {
        "id": "IUy_t090HFgE",
        "colab_type": "code",
        "colab": {}
      },
      "source": [
        ""
      ],
      "execution_count": null,
      "outputs": []
    }
  ]
}