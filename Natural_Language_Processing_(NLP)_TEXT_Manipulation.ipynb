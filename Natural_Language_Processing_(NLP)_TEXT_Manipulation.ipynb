{
  "nbformat": 4,
  "nbformat_minor": 0,
  "metadata": {
    "colab": {
      "name": "Natural Language Processing (NLP)- TEXT Manipulation.ipynb",
      "provenance": [],
      "collapsed_sections": [],
      "authorship_tag": "ABX9TyMcTE6aqm9LwAaPJ2cN39eR",
      "include_colab_link": true
    },
    "kernelspec": {
      "name": "python3",
      "display_name": "Python 3"
    }
  },
  "cells": [
    {
      "cell_type": "markdown",
      "metadata": {
        "id": "view-in-github",
        "colab_type": "text"
      },
      "source": [
        "<a href=\"https://colab.research.google.com/github/abidshafee/google.colaboratory_projects/blob/master/Natural_Language_Processing_(NLP)_TEXT_Manipulation.ipynb\" target=\"_parent\"><img src=\"https://colab.research.google.com/assets/colab-badge.svg\" alt=\"Open In Colab\"/></a>"
      ]
    },
    {
      "cell_type": "markdown",
      "metadata": {
        "id": "ClrjGWcqlTRV",
        "colab_type": "text"
      },
      "source": [
        "## NLP In Python\n",
        "**Python Libraries for Data NLP**: *pandas, sklearn, renltk, TextBlob, gensim* **Statistical Analysis** and  **Math** operation such as: cleaning data, **EDA or Exploratory Data Analysis** *for word count*, and Finally **NLP** *for sentiment analysis, topic modeling, and text generation. * **Next Communication** - **Design** *inclludes scope, visualization, extract insight*, **Domain** *Expertise*"
      ]
    },
    {
      "cell_type": "code",
      "metadata": {
        "id": "l_Ruf819n4pF",
        "colab_type": "code",
        "colab": {}
      },
      "source": [
        "# Data Science Approaches\n",
        "# 1 - raise a question \n",
        "# 2 - data gathering (web scraping) and cleaning\n",
        "#       python library involves in webscraping are: requests (make http request get data from the web)\n",
        "#       beautiful soup (parse html documents extract parts of a website)\n",
        "#       pickle (serialize objects and save the data)\n",
        "#       For cleaning pandas dataframe\n",
        "# 3 - eda or Exploratory Data Analysis\n",
        "# 4 - techniques\n",
        "# 5 - insights"
      ],
      "execution_count": 1,
      "outputs": []
    },
    {
      "cell_type": "markdown",
      "metadata": {
        "id": "wcymGKp1OWx1",
        "colab_type": "text"
      },
      "source": [
        "## Web Scraping - Data Gathering"
      ]
    },
    {
      "cell_type": "code",
      "metadata": {
        "id": "8KkGT6lWstiB",
        "colab_type": "code",
        "colab": {}
      },
      "source": [
        "# from urllib.request import urlopen as uReq\n",
        "import requests as uReq\n",
        "from bs4 import BeautifulSoup as soup\n",
        "import nltk.corpus as nt\n",
        "import nltk.tokenize as tk"
      ],
      "execution_count": 2,
      "outputs": []
    },
    {
      "cell_type": "code",
      "metadata": {
        "id": "TqP_7PXSPNnZ",
        "colab_type": "code",
        "colab": {
          "base_uri": "https://localhost:8080/",
          "height": 34
        },
        "outputId": "089c165f-fefe-4b44-9198-27fb03606add"
      },
      "source": [
        "live_price_url = 'https://finance.yahoo.com/quote/EURUSD=X?p=EURUSD=X&.tsrc=fin-srch'\n",
        "headers = {\n",
        "    \"User-Agent\": 'Mozilla/5.0 (Windows NT 10.0; Win64; x64) AppleWebKit/537.36 (KHTML, like Gecko) Chrome/83.0.4103.116 Safari/537.36'\n",
        "}\n",
        "news_url = 'https://finance.yahoo.com/news/economic-data-puts-loonie-focus-022354695.html'\n",
        "\n",
        "# opening connection and grabing webdata\n",
        "#webClient = uReq(test_url)\n",
        "\n",
        "webClient = uReq.get(test_url, headers=headers)\n",
        "# parsing the html\n",
        "webPage = soup(webClient.text, 'lxml')\n",
        "\n",
        "# find specific content in webpage\n",
        "\n",
        "# find_all returns a list of all the tags that matches the argument\n",
        "m_content_live_price = webPage.find_all('div', {'class':'My(6px) Pos(r) smartphone_Mt(6px)'})[0].find('span').text\n",
        "# main_div = content.div.article\n",
        "# article = main_div.article\n",
        "\n",
        "# para = content.find('div', class_='canvas-body Wow(bw) Cl(start) Mb(20px) Lh(30px) Fz(18px) C(#000) D(i)')\n",
        "\n",
        "# find a specific class in a webpage\n",
        "# classContent = content.find('p', class_='canvas-atom canvas-text Mb(1.0em) Mb(0)--sm Mt(0.8em)--sm')\n",
        "# this code will return div with currency class\n",
        "# this way we can find other attributes such as ids as well\n",
        "\n",
        "# print(content.prettify())\n",
        "# print(classContent.text)\n",
        "# print(main_div)\n",
        "print('eurusd-now: ', m_content_live_price)"
      ],
      "execution_count": 28,
      "outputs": [
        {
          "output_type": "stream",
          "text": [
            "eurusd-now:  1.1443\n"
          ],
          "name": "stdout"
        }
      ]
    },
    {
      "cell_type": "code",
      "metadata": {
        "id": "YjRMIpaVahpe",
        "colab_type": "code",
        "colab": {
          "base_uri": "https://localhost:8080/",
          "height": 54
        },
        "outputId": "5f26ebc8-304b-46d6-c20f-4f00bccba425"
      },
      "source": [
        "webClient2 = uReq.get(news_url)\n",
        "newsPage = soup(webClient2.text)\n",
        "\n",
        "news_article = newsPage.find_all('article', {'itemprop' :'articleBody'})[0].text\n",
        "print(news_article)"
      ],
      "execution_count": 27,
      "outputs": [
        {
          "output_type": "stream",
          "text": [
            "Earlier in the Day:It was a relatively busy start to the day on the economic calendar. The Japanese Yen was back in action along with the Aussie Dollar.Away from the economic calendar, riskier assets found early support on news of further progress towards a COVID-19 vaccine.Looking at the latest coronavirus numbersOn Monday, the number of new coronavirus cases rose by 182,589 to 14,850,887. On Sunday, the number of new cases had risen by 246,207. The daily increase was lower than Saturday’s rise and 199,164 new cases from the previous Monday.Germany, Italy, and Spain reported 5,413 new cases on Monday, which was up from 491 new cases on Sunday. On the previous Monday, just 2,700 new cases had been reported.From the U.S, the total number of cases rose by 62,790 to 3,961,429 on Monday. On Sunday, the total number of cases had increased by 65,368. On Monday, 20th July, a total of 65,488 new cases had been reported.For the Japanese YenIn June, core consumer prices remained unchanged compared with June 2019. Economists had forecast a 0.1% decline.According to figures released by the Ministry of Internal Affairs and Communication., the annual rate of inflation held steady at 0.1%.The Japanese Yen moved from ¥107.243 to ¥107.231 upon release of the minutes and stats. At the time of writing, the Japanese Yen was up by 0.07% to ¥107.19 against the U.S Dollar.For the Aussie DollarThe RBA Meeting Minutes were in focus in the late part of the Asian session.Salient points from the minutes included:Timely indicators of economic activity had generally picked up, suggesting that the worst had passed.Uncertainty over the economic outlook remained, however, with the outlook hinged on containment of the virus.Members noted that there had been a pickup in consumer spending, though uncertainty over the outlook on spending remained.It was likely that fiscal and monetary support would be required for some time.The Board remained committed to supporting jobs, incomes, and businesses and to make sure that Australia is well placed for recovery.The Aussie Dollar moved from $0.70267 to $0.70217 upon the release of the minutes. At the time of writing, the Aussie Dollar was up by 0.11% to $0.7024.ElsewhereAt the time of writing, the Kiwi Dollar was down by 0.02% to $0.6576.The Day Ahead:For the EURIt’s a particularly quiet day ahead on the economic calendar. There are no material stats due out of the Eurozone to provide the EUR with direction.The lack of stats will leave the EUR in the hands of updates from the EU Recovery Fund talks and market risk sentiment.While the EU Recovery Fund would be a boost for the struggling economies of Italy and Spain, the coronavirus remains a threat. Progress towards a COVID-19 vaccine, however, has continued to ease market jitters over the virus.At the time of writing, the EUR was up by 0.10% to $1.1459.For the PoundIt’s another particularly quiet day ahead on the economic calendar. There are no material stats due out of the UK to provide the Pound with direction.Brexit remains in focus and will continue to limit any upside in the Pound, barring the announcement of an agreement on trade.At the time of writing, the Pound was up by 0.11% to $1.2675.Across the PondIt’s also a particularly quiet day ahead for the U.S Dollar. There are no material stats due out to provide the Greenback with direction.A lack of stats will leave the Dollar in the hands of updates on COVID-19 and chatter from Washington.At the time of writing, the Dollar Spot Index was down by 0.13% to 95.705.For the LoonieIt’s a busier day ahead on the economic calendar. May retail sales and June new house price figures are due out of Canada later today.Barring a “risk-off” event, we would expect the retail sales figures to have the greatest impact.The markets will be looking for a rebound from April’s tumble.Away from the stats, any rise in tension between the U.S and China will need consideration along with COVID-19 updates.At the time of writing, the Loonie was up by 0.13% to C$1.3518 against the U.S Dollar.For a look at all of today’s economic events, check out our economic calendar.This article was originally posted on FX EmpireMore From FXEMPIRE:  Gold Price Futures (GC) Technical Analysis – Bullish Speculators Betting on Fresh Fiscal Stimulus    E-mini Dow Jones Industrial Average (YM) Futures Technical Analysis – Strengthens Over 26697, Weakens Under 26298    USD/JPY Forex Technical Analysis – Main Trend Down, but Momentum Gradually Shifting to Upside    Economic Data Puts the Loonie in Focus, as COVID-19 News Supports Riskier Assets    NZD/USD Forex Technical Analysis – Risk Sentiment Manipulating Price Action    GBP/USD Daily Forecast – British Pound Gets Support From Multiple Catalysts  \n"
          ],
          "name": "stdout"
        }
      ]
    },
    {
      "cell_type": "code",
      "metadata": {
        "id": "YCSp_hdbS5Nc",
        "colab_type": "code",
        "colab": {}
      },
      "source": [
        "headline = content.h1"
      ],
      "execution_count": null,
      "outputs": []
    },
    {
      "cell_type": "code",
      "metadata": {
        "id": "_5n76d5xB8Ik",
        "colab_type": "code",
        "colab": {}
      },
      "source": [
        "print(headline.text)"
      ],
      "execution_count": null,
      "outputs": []
    },
    {
      "cell_type": "code",
      "metadata": {
        "id": "oqwvPvx-B-Vs",
        "colab_type": "code",
        "colab": {}
      },
      "source": [
        ""
      ],
      "execution_count": null,
      "outputs": []
    }
  ]
}