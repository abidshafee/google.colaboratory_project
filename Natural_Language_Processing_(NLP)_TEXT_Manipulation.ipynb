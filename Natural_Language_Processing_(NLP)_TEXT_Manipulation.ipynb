{
  "nbformat": 4,
  "nbformat_minor": 0,
  "metadata": {
    "colab": {
      "name": "Natural Language Processing (NLP)- TEXT Manipulation.ipynb",
      "provenance": [],
      "authorship_tag": "ABX9TyMUM7lsnGDPQCgCnOROE2cL",
      "include_colab_link": true
    },
    "kernelspec": {
      "name": "python3",
      "display_name": "Python 3"
    }
  },
  "cells": [
    {
      "cell_type": "markdown",
      "metadata": {
        "id": "view-in-github",
        "colab_type": "text"
      },
      "source": [
        "<a href=\"https://colab.research.google.com/github/abidshafee/google.colaboratory_projects/blob/master/Natural_Language_Processing_(NLP)_TEXT_Manipulation.ipynb\" target=\"_parent\"><img src=\"https://colab.research.google.com/assets/colab-badge.svg\" alt=\"Open In Colab\"/></a>"
      ]
    },
    {
      "cell_type": "markdown",
      "metadata": {
        "id": "ClrjGWcqlTRV",
        "colab_type": "text"
      },
      "source": [
        "## NLP In Python\n",
        "**Python Libraries for Data NLP**: *pandas, sklearn, renltk, TextBlob, gensim* **Statistical Analysis** and  **Math** operation such as: cleaning data, **EDA or Exploratory Data Analysis** *for word count*, and Finally **NLP** *for sentiment analysis, topic modeling, and text generation. * **Next Communication** - **Design** *inclludes scope, visualization, extract insight*, **Domain** *Expertise*"
      ]
    },
    {
      "cell_type": "code",
      "metadata": {
        "id": "l_Ruf819n4pF",
        "colab_type": "code",
        "colab": {}
      },
      "source": [
        "# Data Science Approaches\n",
        "# 1 - raise a question \n",
        "# 2 - data gathering (web scraping) and cleaning\n",
        "#       python library involves in webscraping are: Requests (make http request get data from the web)\n",
        "#       Beautiful Soup(Parse html documents extract parts of a website)\n",
        "#       Pickle (Serialize objects and save the data)\n",
        "#       For cleaning pandas dataframe\n",
        "# 3 - EDA or Exploratory Data Analysis\n",
        "# 4 - Techniques\n",
        "# 5 - Insights"
      ],
      "execution_count": 2,
      "outputs": []
    },
    {
      "cell_type": "code",
      "metadata": {
        "id": "8KkGT6lWstiB",
        "colab_type": "code",
        "colab": {}
      },
      "source": [
        ""
      ],
      "execution_count": null,
      "outputs": []
    }
  ]
}