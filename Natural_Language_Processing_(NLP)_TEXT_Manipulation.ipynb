{
  "nbformat": 4,
  "nbformat_minor": 0,
  "metadata": {
    "colab": {
      "name": "Natural Language Processing (NLP)- TEXT Manipulation.ipynb",
      "provenance": [],
      "authorship_tag": "ABX9TyPQkgKkrHTlsMwc/yV4ELL9",
      "include_colab_link": true
    },
    "kernelspec": {
      "name": "python3",
      "display_name": "Python 3"
    }
  },
  "cells": [
    {
      "cell_type": "markdown",
      "metadata": {
        "id": "view-in-github",
        "colab_type": "text"
      },
      "source": [
        "<a href=\"https://colab.research.google.com/github/abidshafee/google.colaboratory_projects/blob/master/Natural_Language_Processing_(NLP)_TEXT_Manipulation.ipynb\" target=\"_parent\"><img src=\"https://colab.research.google.com/assets/colab-badge.svg\" alt=\"Open In Colab\"/></a>"
      ]
    },
    {
      "cell_type": "markdown",
      "metadata": {
        "id": "ClrjGWcqlTRV",
        "colab_type": "text"
      },
      "source": [
        "## NLP In Python\n",
        "**Python Libraries for Data NLP**: *pandas, sklearn, renltk, TextBlob, gensim* **Statistical Analysis** and  **Math** operation such as: cleaning data, **EDA or Exploratory Data Analysis** *for word count*, and Finally **NLP** *for sentiment analysis, topic modeling, and text generation. * **Next Communication** - **Design** *inclludes scope, visualization, extract insight*, **Domain** *Expertise*"
      ]
    },
    {
      "cell_type": "code",
      "metadata": {
        "id": "l_Ruf819n4pF",
        "colab_type": "code",
        "colab": {}
      },
      "source": [
        ""
      ],
      "execution_count": null,
      "outputs": []
    }
  ]
}