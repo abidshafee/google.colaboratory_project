{
  "nbformat": 4,
  "nbformat_minor": 0,
  "metadata": {
    "colab": {
      "name": "Natural Language Processing (NLP)- TEXT Manipulation.ipynb",
      "provenance": [],
      "collapsed_sections": [],
      "authorship_tag": "ABX9TyPaM52VvvlAtm0nDpcewVtN",
      "include_colab_link": true
    },
    "kernelspec": {
      "name": "python3",
      "display_name": "Python 3"
    }
  },
  "cells": [
    {
      "cell_type": "markdown",
      "metadata": {
        "id": "view-in-github",
        "colab_type": "text"
      },
      "source": [
        "<a href=\"https://colab.research.google.com/github/abidshafee/google.colaboratory_projects/blob/master/Natural_Language_Processing_(NLP)_TEXT_Manipulation.ipynb\" target=\"_parent\"><img src=\"https://colab.research.google.com/assets/colab-badge.svg\" alt=\"Open In Colab\"/></a>"
      ]
    },
    {
      "cell_type": "markdown",
      "metadata": {
        "id": "ClrjGWcqlTRV",
        "colab_type": "text"
      },
      "source": [
        "## NLP In Python\n",
        "**Python Libraries for Data NLP**: *pandas, sklearn, renltk, TextBlob, gensim* **Statistical Analysis** and  **Math** operation such as: cleaning data, **EDA or Exploratory Data Analysis** *for word count*, and Finally **NLP** *for sentiment analysis, topic modeling, and text generation. * **Next Communication** - **Design** *inclludes scope, visualization, extract insight*, **Domain** *Expertise*"
      ]
    },
    {
      "cell_type": "code",
      "metadata": {
        "id": "l_Ruf819n4pF",
        "colab_type": "code",
        "colab": {}
      },
      "source": [
        "# Data Science Approaches\n",
        "# 1 - raise a question \n",
        "# 2 - data gathering (web scraping) and cleaning\n",
        "#       python library involves in webscraping are: requests (make http request get data from the web)\n",
        "#       beautiful soup (parse html documents extract parts of a website)\n",
        "#       pickle (serialize objects and save the data)\n",
        "#       For cleaning pandas dataframe\n",
        "# 3 - eda or Exploratory Data Analysis\n",
        "# 4 - techniques\n",
        "# 5 - insights"
      ],
      "execution_count": 1,
      "outputs": []
    },
    {
      "cell_type": "markdown",
      "metadata": {
        "id": "wcymGKp1OWx1",
        "colab_type": "text"
      },
      "source": [
        "## Web Scraping - Data Gathering"
      ]
    },
    {
      "cell_type": "code",
      "metadata": {
        "id": "8KkGT6lWstiB",
        "colab_type": "code",
        "colab": {}
      },
      "source": [
        "# from urllib.request import urlopen as uReq\n",
        "import requests as uReq\n",
        "from bs4 import BeautifulSoup as soup"
      ],
      "execution_count": 2,
      "outputs": []
    },
    {
      "cell_type": "code",
      "metadata": {
        "id": "TqP_7PXSPNnZ",
        "colab_type": "code",
        "colab": {
          "base_uri": "https://localhost:8080/",
          "height": 34
        },
        "outputId": "dd861311-b069-4ab0-f75f-d756ddb51344"
      },
      "source": [
        "live_price_url = 'https://finance.yahoo.com/quote/EURUSD=X?p=EURUSD=X&.tsrc=fin-srch'\n",
        "headers = {\n",
        "    \"User-Agent\": 'Mozilla/5.0 (Windows NT 10.0; Win64; x64) AppleWebKit/537.36 (KHTML, like Gecko) Chrome/83.0.4103.116 Safari/537.36'\n",
        "}\n",
        "news_url = 'https://finance.yahoo.com/news/economic-data-puts-loonie-focus-022354695.html'\n",
        "\n",
        "# opening connection and grabing webdata\n",
        "#webClient = uReq(test_url)\n",
        "\n",
        "webClient = uReq.get(live_price_url, headers=headers)\n",
        "# parsing the html\n",
        "webPage = soup(webClient.text, 'lxml')\n",
        "\n",
        "# find specific content in webpage\n",
        "\n",
        "\"\"\"\n",
        "the find() method returns only the first tag that matches the argument\n",
        "\"\"\"\n",
        "\n",
        "# find_all returns a list of all the tags that matches the argument\n",
        "m_content_live_price = webPage.find_all('div', {'class':'My(6px) Pos(r) smartphone_Mt(6px)'})[0].find('span').text\n",
        "# main_div = content.div.article\n",
        "# article = main_div.article\n",
        "\n",
        "# para = content.find('div', class_='canvas-body Wow(bw) Cl(start) Mb(20px) Lh(30px) Fz(18px) C(#000) D(i)')\n",
        "\n",
        "# find a specific class in a webpage\n",
        "# classContent = content.find('p', class_='canvas-atom canvas-text Mb(1.0em) Mb(0)--sm Mt(0.8em)--sm')\n",
        "# this code will return div with currency class\n",
        "# this way we can find other attributes such as ids as well\n",
        "\n",
        "# print(content.prettify())\n",
        "# print(classContent.text)\n",
        "# print(main_div)\n",
        "print('eurusd-now: ', m_content_live_price)"
      ],
      "execution_count": 3,
      "outputs": [
        {
          "output_type": "stream",
          "text": [
            "eurusd-now:  1.1592\n"
          ],
          "name": "stdout"
        }
      ]
    },
    {
      "cell_type": "code",
      "metadata": {
        "id": "lfhX1mn_Bc0p",
        "colab_type": "code",
        "colab": {
          "base_uri": "https://localhost:8080/",
          "height": 52
        },
        "outputId": "81250780-6ce2-4497-d915-474879c29252"
      },
      "source": [
        "# put this live price tracker in a function\n",
        "'''\n",
        "def price_tracker():\n",
        "  m_content_live_price = webPage.find_all('div', {'class':'My(6px) Pos(r) smartphone_Mt(6px)'})[0].find('span').text\n",
        "  print('eurusd-now: ', m_content_live_price)\n",
        "while(True):\n",
        "  price_tracker()\n",
        "'''"
      ],
      "execution_count": 4,
      "outputs": [
        {
          "output_type": "execute_result",
          "data": {
            "application/vnd.google.colaboratory.intrinsic+json": {
              "type": "string"
            },
            "text/plain": [
              "\"\\ndef price_tracker():\\n  m_content_live_price = webPage.find_all('div', {'class':'My(6px) Pos(r) smartphone_Mt(6px)'})[0].find('span').text\\n  print('eurusd-now: ', m_content_live_price)\\nwhile(True):\\n  price_tracker()\\n\""
            ]
          },
          "metadata": {
            "tags": []
          },
          "execution_count": 4
        }
      ]
    },
    {
      "cell_type": "code",
      "metadata": {
        "id": "YjRMIpaVahpe",
        "colab_type": "code",
        "colab": {}
      },
      "source": [
        "webClient2 = uReq.get(news_url)\n",
        "newsPage = soup(webClient2.text)\n",
        "\n",
        "news_article = newsPage.find_all('article', {'itemprop' :'articleBody'})[0].prettify()\n",
        "# print(news_article)"
      ],
      "execution_count": 28,
      "outputs": []
    },
    {
      "cell_type": "code",
      "metadata": {
        "id": "YCSp_hdbS5Nc",
        "colab_type": "code",
        "colab": {
          "base_uri": "https://localhost:8080/",
          "height": 1000
        },
        "outputId": "6e9278fe-5f4b-45f7-88cf-da668e4e3434"
      },
      "source": [
        "# accessing div that contain all paragraph in article tag\n",
        "article = newsPage.find_all('div', {'class': 'canvas-body Wow(bw) Cl(start) Mb(20px) Fz(16px) Lh(1.6) Ff(yahooSansFinanceFont) D(i)'})[0]\n",
        "  # headline = news_article.find('div').text\n",
        "  # print(headline.h2)\n",
        "  # para = article.p\n",
        "print(article.prettify())"
      ],
      "execution_count": 6,
      "outputs": [
        {
          "output_type": "stream",
          "text": [
            "<div class=\"canvas-body Wow(bw) Cl(start) Mb(20px) Fz(16px) Lh(1.6) Ff(yahooSansFinanceFont) D(i)\" data-reactid=\"18\">\n",
            " <h2 class=\"canvas-atom canvas-text Mb(1.0em) Mb(0)--sm Mt(0.8em)--sm\" content=\"Earlier in the Day:\" data-reactid=\"19\" type=\"text\">\n",
            "  Earlier in the Day:\n",
            " </h2>\n",
            " <p class=\"canvas-atom canvas-text Mb(1.0em) Mb(0)--sm Mt(0.8em)--sm\" content='It was a relatively busy start to the day on the &lt;a href=\"https://www.fxempire.com/tools/economic-calendar\" target=\"_blank\" rel=\"nofollow noopener\"&gt;economic calendar&lt;/a&gt;. The Japanese Yen was back in action along with the Aussie Dollar.' data-reactid=\"20\" type=\"text\">\n",
            "  It was a relatively busy start to the day on the\n",
            "  <a href=\"https://www.fxempire.com/tools/economic-calendar\" rel=\"nofollow noopener\" target=\"_blank\">\n",
            "   economic calendar\n",
            "  </a>\n",
            "  . The Japanese Yen was back in action along with the Aussie Dollar.\n",
            " </p>\n",
            " <p class=\"canvas-atom canvas-text Mb(1.0em) Mb(0)--sm Mt(0.8em)--sm\" content=\"Away from the economic calendar, riskier assets found early support on news of further progress towards a COVID-19 vaccine.\" data-reactid=\"21\" type=\"text\">\n",
            "  Away from the economic calendar, riskier assets found early support on news of further progress towards a COVID-19 vaccine.\n",
            " </p>\n",
            " <h4 class=\"canvas-atom canvas-text Mb(1.0em) Mb(0)--sm Mt(0.8em)--sm\" content=\"Looking at the latest coronavirus numbers\" data-reactid=\"22\" type=\"text\">\n",
            "  Looking at the latest coronavirus numbers\n",
            " </h4>\n",
            " <p class=\"canvas-atom canvas-text Mb(1.0em) Mb(0)--sm Mt(0.8em)--sm\" content='On Monday, the &lt;a href=\"https://www.fxempire.com/corona-virus\" target=\"_blank\" rel=\"nofollow noopener\"&gt;number of new coronavirus cases&lt;/a&gt; rose by 182,589 to 14,850,887. On Sunday, the number of new cases had risen by 246,207. The daily increase was lower than Saturday’s rise and 199,164 new cases from the previous Monday.' data-reactid=\"23\" type=\"text\">\n",
            "  On Monday, the\n",
            "  <a href=\"https://www.fxempire.com/corona-virus\" rel=\"nofollow noopener\" target=\"_blank\">\n",
            "   number of new coronavirus cases\n",
            "  </a>\n",
            "  rose by 182,589 to 14,850,887. On Sunday, the number of new cases had risen by 246,207. The daily increase was lower than Saturday’s rise and 199,164 new cases from the previous Monday.\n",
            " </p>\n",
            " <p class=\"canvas-atom canvas-text Mb(1.0em) Mb(0)--sm Mt(0.8em)--sm\" content=\"Germany, Italy, and Spain reported 5,413 new cases on Monday, which was up from 491 new cases on Sunday. On the previous Monday, just 2,700 new cases had been reported.\" data-reactid=\"24\" type=\"text\">\n",
            "  Germany, Italy, and Spain reported 5,413 new cases on Monday, which was up from 491 new cases on Sunday. On the previous Monday, just 2,700 new cases had been reported.\n",
            " </p>\n",
            " <p class=\"canvas-atom canvas-text Mb(1.0em) Mb(0)--sm Mt(0.8em)--sm\" content=\"From the U.S, the total number of cases rose by 62,790 to 3,961,429 on Monday. On Sunday, the total number of cases had increased by 65,368. On Monday, 20&lt;sup&gt;th&lt;/sup&gt; July, a total of 65,488 new cases had been reported.\" data-reactid=\"25\" type=\"text\">\n",
            "  From the U.S, the total number of cases rose by 62,790 to 3,961,429 on Monday. On Sunday, the total number of cases had increased by 65,368. On Monday, 20\n",
            "  <sup>\n",
            "   th\n",
            "  </sup>\n",
            "  July, a total of 65,488 new cases had been reported.\n",
            " </p>\n",
            " <h3 class=\"canvas-atom canvas-text Mb(1.0em) Mb(0)--sm Mt(0.8em)--sm\" content=\"For the Japanese Yen\" data-reactid=\"26\" type=\"text\">\n",
            "  For the Japanese Yen\n",
            " </h3>\n",
            " <p class=\"canvas-atom canvas-text Mb(1.0em) Mb(0)--sm Mt(0.8em)--sm\" content=\"In June, core consumer prices remained unchanged compared with June 2019. Economists had forecast a 0.1% decline.\" data-reactid=\"27\" type=\"text\">\n",
            "  In June, core consumer prices remained unchanged compared with June 2019. Economists had forecast a 0.1% decline.\n",
            " </p>\n",
            " <p class=\"canvas-atom canvas-text Mb(1.0em) Mb(0)--sm Mt(0.8em)--sm\" content='According to figures released by the &lt;a href=\"https://www.stat.go.jp/english/data/cpi/index.html\" target=\"_blank\" rel=\"nofollow noopener\"&gt;Ministry of Internal Affairs and Communication&lt;/a&gt;., the annual rate of inflation held steady at 0.1%.' data-reactid=\"28\" type=\"text\">\n",
            "  According to figures released by the\n",
            "  <a href=\"https://www.stat.go.jp/english/data/cpi/index.html\" rel=\"nofollow noopener\" target=\"_blank\">\n",
            "   Ministry of Internal Affairs and Communication\n",
            "  </a>\n",
            "  ., the annual rate of inflation held steady at 0.1%.\n",
            " </p>\n",
            " <p class=\"canvas-atom canvas-text Mb(1.0em) Mb(0)--sm Mt(0.8em)--sm\" content='The Japanese Yen moved from ¥107.243 to ¥107.231 upon release of the minutes and stats. At the time of writing, the &lt;a href=\"https://www.fxempire.com/markets/usd-jpy/overview\" target=\"_blank\" rel=\"nofollow noopener\"&gt;Japanese Yen&lt;/a&gt; was up by 0.07% to ¥107.19 against the U.S Dollar.' data-reactid=\"29\" type=\"text\">\n",
            "  The Japanese Yen moved from ¥107.243 to ¥107.231 upon release of the minutes and stats. At the time of writing, the\n",
            "  <a href=\"https://www.fxempire.com/markets/usd-jpy/overview\" rel=\"nofollow noopener\" target=\"_blank\">\n",
            "   Japanese Yen\n",
            "  </a>\n",
            "  was up by 0.07% to ¥107.19 against the U.S Dollar.\n",
            " </p>\n",
            " <h3 class=\"canvas-atom canvas-text Mb(1.0em) Mb(0)--sm Mt(0.8em)--sm\" content=\"For the Aussie Dollar\" data-reactid=\"30\" type=\"text\">\n",
            "  For the Aussie Dollar\n",
            " </h3>\n",
            " <p class=\"canvas-atom canvas-text Mb(1.0em) Mb(0)--sm Mt(0.8em)--sm\" content='The &lt;a href=\"https://www.rba.gov.au/monetary-policy/rba-board-minutes/2020/2020-07-07.html\" target=\"_blank\" rel=\"nofollow noopener\"&gt;RBA Meeting Minutes&lt;/a&gt; were in focus in the late part of the Asian session.' data-reactid=\"31\" type=\"text\">\n",
            "  The\n",
            "  <a href=\"https://www.rba.gov.au/monetary-policy/rba-board-minutes/2020/2020-07-07.html\" rel=\"nofollow noopener\" target=\"_blank\">\n",
            "   RBA Meeting Minutes\n",
            "  </a>\n",
            "  were in focus in the late part of the Asian session.\n",
            " </p>\n",
            " <p class=\"canvas-atom canvas-text Mb(1.0em) Mb(0)--sm Mt(0.8em)--sm\" content=\"Salient points from the minutes included:\" data-reactid=\"32\" type=\"text\">\n",
            "  Salient points from the minutes included:\n",
            " </p>\n",
            " <ul class=\"canvas-list List(d)\" data-reactid=\"33\" data-type=\"list\">\n",
            "  <li data-reactid=\"34\">\n",
            "   Timely indicators of economic activity had generally picked up, suggesting that the worst had passed.\n",
            "  </li>\n",
            "  <li data-reactid=\"35\">\n",
            "   Uncertainty over the economic outlook remained, however, with the outlook hinged on containment of the virus.\n",
            "  </li>\n",
            "  <li data-reactid=\"36\">\n",
            "   Members noted that there had been a pickup in consumer spending, though uncertainty over the outlook on spending remained.\n",
            "  </li>\n",
            "  <li data-reactid=\"37\">\n",
            "   It was likely that fiscal and monetary support would be required for some time.\n",
            "  </li>\n",
            "  <li data-reactid=\"38\">\n",
            "   The Board remained committed to supporting jobs, incomes, and businesses and to make sure that Australia is well placed for recovery.\n",
            "  </li>\n",
            " </ul>\n",
            " <p class=\"canvas-atom canvas-text Mb(1.0em) Mb(0)--sm Mt(0.8em)--sm\" content='The Aussie Dollar moved from $0.70267 to $0.70217 upon the release of the minutes. At the time of writing, the &lt;a href=\"https://www.fxempire.com/markets/aud-usd/overview\" target=\"_blank\" rel=\"nofollow noopener\"&gt;Aussie Dollar&lt;/a&gt; was up by 0.11% to $0.7024.' data-reactid=\"39\" type=\"text\">\n",
            "  The Aussie Dollar moved from $0.70267 to $0.70217 upon the release of the minutes. At the time of writing, the\n",
            "  <a href=\"https://www.fxempire.com/markets/aud-usd/overview\" rel=\"nofollow noopener\" target=\"_blank\">\n",
            "   Aussie Dollar\n",
            "  </a>\n",
            "  was up by 0.11% to $0.7024.\n",
            " </p>\n",
            " <h3 class=\"canvas-atom canvas-text Mb(1.0em) Mb(0)--sm Mt(0.8em)--sm\" content=\"Elsewhere\" data-reactid=\"40\" type=\"text\">\n",
            "  Elsewhere\n",
            " </h3>\n",
            " <p class=\"canvas-atom canvas-text Mb(1.0em) Mb(0)--sm Mt(0.8em)--sm\" content='At the time of writing, the &lt;a href=\"https://www.fxempire.com/markets/nzd-usd/overview\" target=\"_blank\" rel=\"nofollow noopener\"&gt;Kiwi Dollar&lt;/a&gt; was down by 0.02% to $0.6576.' data-reactid=\"41\" type=\"text\">\n",
            "  At the time of writing, the\n",
            "  <a href=\"https://www.fxempire.com/markets/nzd-usd/overview\" rel=\"nofollow noopener\" target=\"_blank\">\n",
            "   Kiwi Dollar\n",
            "  </a>\n",
            "  was down by 0.02% to $0.6576.\n",
            " </p>\n",
            " <h2 class=\"canvas-atom canvas-text Mb(1.0em) Mb(0)--sm Mt(0.8em)--sm\" content=\"The Day Ahead:\" data-reactid=\"42\" type=\"text\">\n",
            "  The Day Ahead:\n",
            " </h2>\n",
            " <h3 class=\"canvas-atom canvas-text Mb(1.0em) Mb(0)--sm Mt(0.8em)--sm\" content=\"For the EUR\" data-reactid=\"43\" type=\"text\">\n",
            "  For the EUR\n",
            " </h3>\n",
            " <p class=\"canvas-atom canvas-text Mb(1.0em) Mb(0)--sm Mt(0.8em)--sm\" content='It’s a particularly quiet day ahead on the &lt;a href=\"https://www.fxempire.com/tools/economic-calendar\" target=\"_blank\" rel=\"nofollow noopener\"&gt;economic calendar&lt;/a&gt;. There are no material stats due out of the Eurozone to provide the EUR with direction.' data-reactid=\"44\" type=\"text\">\n",
            "  It’s a particularly quiet day ahead on the\n",
            "  <a href=\"https://www.fxempire.com/tools/economic-calendar\" rel=\"nofollow noopener\" target=\"_blank\">\n",
            "   economic calendar\n",
            "  </a>\n",
            "  . There are no material stats due out of the Eurozone to provide the EUR with direction.\n",
            " </p>\n",
            " <p class=\"canvas-atom canvas-text Mb(1.0em) Mb(0)--sm Mt(0.8em)--sm\" content=\"The lack of stats will leave the EUR in the hands of updates from the EU Recovery Fund talks and market risk sentiment.\" data-reactid=\"45\" type=\"text\">\n",
            "  The lack of stats will leave the EUR in the hands of updates from the EU Recovery Fund talks and market risk sentiment.\n",
            " </p>\n",
            " <p class=\"canvas-atom canvas-text Mb(1.0em) Mb(0)--sm Mt(0.8em)--sm\" content=\"While the EU Recovery Fund would be a boost for the struggling economies of Italy and Spain, the coronavirus remains a threat. Progress towards a COVID-19 vaccine, however, has continued to ease market jitters over the virus.\" data-reactid=\"46\" type=\"text\">\n",
            "  While the EU Recovery Fund would be a boost for the struggling economies of Italy and Spain, the coronavirus remains a threat. Progress towards a COVID-19 vaccine, however, has continued to ease market jitters over the virus.\n",
            " </p>\n",
            " <p class=\"canvas-atom canvas-text Mb(1.0em) Mb(0)--sm Mt(0.8em)--sm\" content='At the time of writing, the &lt;a href=\"https://www.fxempire.com/markets/eur-usd/overview\" target=\"_blank\" rel=\"nofollow noopener\"&gt;EUR&lt;/a&gt; was up by 0.10% to $1.1459.' data-reactid=\"47\" type=\"text\">\n",
            "  At the time of writing, the\n",
            "  <a href=\"https://www.fxempire.com/markets/eur-usd/overview\" rel=\"nofollow noopener\" target=\"_blank\">\n",
            "   EUR\n",
            "  </a>\n",
            "  was up by 0.10% to $1.1459.\n",
            " </p>\n",
            " <h3 class=\"canvas-atom canvas-text Mb(1.0em) Mb(0)--sm Mt(0.8em)--sm\" content=\"For the Pound\" data-reactid=\"48\" type=\"text\">\n",
            "  For the Pound\n",
            " </h3>\n",
            " <p class=\"canvas-atom canvas-text Mb(1.0em) Mb(0)--sm Mt(0.8em)--sm\" content='It’s another particularly quiet day ahead on the &lt;a href=\"https://www.fxempire.com/tools/economic-calendar\" target=\"_blank\" rel=\"nofollow noopener\"&gt;economic calendar&lt;/a&gt;. There are no material stats due out of the UK to provide the Pound with direction.' data-reactid=\"49\" type=\"text\">\n",
            "  It’s another particularly quiet day ahead on the\n",
            "  <a href=\"https://www.fxempire.com/tools/economic-calendar\" rel=\"nofollow noopener\" target=\"_blank\">\n",
            "   economic calendar\n",
            "  </a>\n",
            "  . There are no material stats due out of the UK to provide the Pound with direction.\n",
            " </p>\n",
            " <p class=\"canvas-atom canvas-text Mb(1.0em) Mb(0)--sm Mt(0.8em)--sm\" content=\"Brexit remains in focus and will continue to limit any upside in the Pound, barring the announcement of an agreement on trade.\" data-reactid=\"50\" type=\"text\">\n",
            "  Brexit remains in focus and will continue to limit any upside in the Pound, barring the announcement of an agreement on trade.\n",
            " </p>\n",
            " <p class=\"canvas-atom canvas-text Mb(1.0em) Mb(0)--sm Mt(0.8em)--sm\" content='At the time of writing, the &lt;a href=\"https://www.fxempire.com/markets/gbp-usd/overview\" target=\"_blank\" rel=\"nofollow noopener\"&gt;Pound&lt;/a&gt; was up by 0.11% to $1.2675.' data-reactid=\"51\" type=\"text\">\n",
            "  At the time of writing, the\n",
            "  <a href=\"https://www.fxempire.com/markets/gbp-usd/overview\" rel=\"nofollow noopener\" target=\"_blank\">\n",
            "   Pound\n",
            "  </a>\n",
            "  was up by 0.11% to $1.2675.\n",
            " </p>\n",
            " <h3 class=\"canvas-atom canvas-text Mb(1.0em) Mb(0)--sm Mt(0.8em)--sm\" content=\"Across the Pond\" data-reactid=\"52\" type=\"text\">\n",
            "  Across the Pond\n",
            " </h3>\n",
            " <p class=\"canvas-atom canvas-text Mb(1.0em) Mb(0)--sm Mt(0.8em)--sm\" content=\"It’s also a particularly quiet day ahead for the U.S Dollar. There are no material stats due out to provide the Greenback with direction.\" data-reactid=\"53\" type=\"text\">\n",
            "  It’s also a particularly quiet day ahead for the U.S Dollar. There are no material stats due out to provide the Greenback with direction.\n",
            " </p>\n",
            " <p class=\"canvas-atom canvas-text Mb(1.0em) Mb(0)--sm Mt(0.8em)--sm\" content=\"A lack of stats will leave the Dollar in the hands of updates on COVID-19 and chatter from Washington.\" data-reactid=\"54\" type=\"text\">\n",
            "  A lack of stats will leave the Dollar in the hands of updates on COVID-19 and chatter from Washington.\n",
            " </p>\n",
            " <p class=\"canvas-atom canvas-text Mb(1.0em) Mb(0)--sm Mt(0.8em)--sm\" content='At the time of writing, the &lt;a href=\"https://www.fxempire.com/markets/us-dollar-index/overview\" target=\"_blank\" rel=\"nofollow noopener\"&gt;Dollar Spot Index&lt;/a&gt; was down by 0.13% to 95.705.' data-reactid=\"55\" type=\"text\">\n",
            "  At the time of writing, the\n",
            "  <a href=\"https://www.fxempire.com/markets/us-dollar-index/overview\" rel=\"nofollow noopener\" target=\"_blank\">\n",
            "   Dollar Spot Index\n",
            "  </a>\n",
            "  was down by 0.13% to 95.705.\n",
            " </p>\n",
            " <h3 class=\"canvas-atom canvas-text Mb(1.0em) Mb(0)--sm Mt(0.8em)--sm\" content=\"For the Loonie\" data-reactid=\"56\" type=\"text\">\n",
            "  For the Loonie\n",
            " </h3>\n",
            " <p class=\"canvas-atom canvas-text Mb(1.0em) Mb(0)--sm Mt(0.8em)--sm\" content=\"It’s a busier day ahead on the economic calendar. May retail sales and June new house price figures are due out of Canada later today.\" data-reactid=\"57\" type=\"text\">\n",
            "  It’s a busier day ahead on the economic calendar. May retail sales and June new house price figures are due out of Canada later today.\n",
            " </p>\n",
            " <p class=\"canvas-atom canvas-text Mb(1.0em) Mb(0)--sm Mt(0.8em)--sm\" content=\"Barring a “risk-off” event, we would expect the retail sales figures to have the greatest impact.\" data-reactid=\"58\" type=\"text\">\n",
            "  Barring a “risk-off” event, we would expect the retail sales figures to have the greatest impact.\n",
            " </p>\n",
            " <p class=\"canvas-atom canvas-text Mb(1.0em) Mb(0)--sm Mt(0.8em)--sm\" content=\"The markets will be looking for a rebound from April’s tumble.\" data-reactid=\"59\" type=\"text\">\n",
            "  The markets will be looking for a rebound from April’s tumble.\n",
            " </p>\n",
            " <p class=\"canvas-atom canvas-text Mb(1.0em) Mb(0)--sm Mt(0.8em)--sm\" content=\"Away from the stats, any rise in tension between the U.S and China will need consideration along with COVID-19 updates.\" data-reactid=\"60\" type=\"text\">\n",
            "  Away from the stats, any rise in tension between the U.S and China will need consideration along with COVID-19 updates.\n",
            " </p>\n",
            " <p class=\"canvas-atom canvas-text Mb(1.0em) Mb(0)--sm Mt(0.8em)--sm\" content='At the time of writing, the &lt;a href=\"https://www.fxempire.com/markets/cad-usd/overview\" target=\"_blank\" rel=\"nofollow noopener\"&gt;Loonie&lt;/a&gt; was up by 0.13% to C$1.3518 against the U.S Dollar.' data-reactid=\"61\" type=\"text\">\n",
            "  At the time of writing, the\n",
            "  <a href=\"https://www.fxempire.com/markets/cad-usd/overview\" rel=\"nofollow noopener\" target=\"_blank\">\n",
            "   Loonie\n",
            "  </a>\n",
            "  was up by 0.13% to C$1.3518 against the U.S Dollar.\n",
            " </p>\n",
            " <p class=\"canvas-atom canvas-text Mb(1.0em) Mb(0)--sm Mt(0.8em)--sm\" content='For a look at all of today’s economic events, check out our&amp;nbsp;&lt;a href=\"https://www.fxempire.com/tools/economic-calendar\" target=\"_blank\" rel=\"nofollow noopener\"&gt;economic calendar&lt;/a&gt;.' data-reactid=\"62\" type=\"text\">\n",
            "  For a look at all of today’s economic events, check out our\n",
            "  <a href=\"https://www.fxempire.com/tools/economic-calendar\" rel=\"nofollow noopener\" target=\"_blank\">\n",
            "   economic calendar\n",
            "  </a>\n",
            "  .\n",
            " </p>\n",
            " <p class=\"canvas-atom canvas-text Mb(1.0em) Mb(0)--sm Mt(0.8em)--sm\" content='This &lt;a href=\"https://www.fxempire.com/news/article/economic-data-puts-the-loonie-in-focus-as-covid-19-news-supports-riskier-assets-662165\" rel=\"nofollow noopener\" target=\"_blank\"&gt;article&lt;/a&gt; was originally posted on FX Empire' data-reactid=\"63\" type=\"text\">\n",
            "  This\n",
            "  <a href=\"https://www.fxempire.com/news/article/economic-data-puts-the-loonie-in-focus-as-covid-19-news-supports-riskier-assets-662165\" rel=\"nofollow noopener\" target=\"_blank\">\n",
            "   article\n",
            "  </a>\n",
            "  was originally posted on FX Empire\n",
            " </p>\n",
            " <h3 class=\"canvas-atom canvas-text Mb(1.0em) Mb(0)--sm Mt(0.8em)--sm\" content=\"More From FXEMPIRE:\" data-reactid=\"64\" type=\"text\">\n",
            "  More From FXEMPIRE:\n",
            " </h3>\n",
            " <ul class=\"canvas-list List(d)\" data-reactid=\"65\" data-type=\"list\">\n",
            "  <li data-reactid=\"66\">\n",
            "   <a href=\"https://www.fxempire.com/forecasts/article/gold-price-futures-gc-technical-analysis-bullish-speculators-betting-on-fresh-fiscal-stimulus-662168\" rel=\"nofollow noopener\" target=\"_blank\">\n",
            "    Gold Price Futures (GC) Technical Analysis – Bullish Speculators Betting on Fresh Fiscal Stimulus\n",
            "   </a>\n",
            "  </li>\n",
            "  <li data-reactid=\"67\">\n",
            "   <a href=\"https://www.fxempire.com/forecasts/article/e-mini-dow-jones-industrial-average-ym-futures-technical-analysis-strengthens-over-26697-weakens-under-26298-662187\" rel=\"nofollow noopener\" target=\"_blank\">\n",
            "    E-mini Dow Jones Industrial Average (YM) Futures Technical Analysis – Strengthens Over 26697, Weakens Under 26298\n",
            "   </a>\n",
            "  </li>\n",
            "  <li data-reactid=\"68\">\n",
            "   <a href=\"https://www.fxempire.com/forecasts/article/usd-jpy-forex-technical-analysis-main-trend-down-but-momentum-gradually-shifting-to-upside-662180\" rel=\"nofollow noopener\" target=\"_blank\">\n",
            "    USD/JPY Forex Technical Analysis – Main Trend Down, but Momentum Gradually Shifting to Upside\n",
            "   </a>\n",
            "  </li>\n",
            "  <li data-reactid=\"69\">\n",
            "   <a href=\"https://www.fxempire.com/news/article/economic-data-puts-the-loonie-in-focus-as-covid-19-news-supports-riskier-assets-662165\" rel=\"nofollow noopener\" target=\"_blank\">\n",
            "    Economic Data Puts the Loonie in Focus, as COVID-19 News Supports Riskier Assets\n",
            "   </a>\n",
            "  </li>\n",
            "  <li data-reactid=\"70\">\n",
            "   <a href=\"https://www.fxempire.com/forecasts/article/nzd-usd-forex-technical-analysis-risk-sentiment-manipulating-price-action-662174\" rel=\"nofollow noopener\" target=\"_blank\">\n",
            "    NZD/USD Forex Technical Analysis – Risk Sentiment Manipulating Price Action\n",
            "   </a>\n",
            "  </li>\n",
            "  <li data-reactid=\"71\">\n",
            "   <a href=\"https://www.fxempire.com/forecasts/article/gbp-usd-daily-forecast-british-pound-gets-support-from-multiple-catalysts-662191\" rel=\"nofollow noopener\" target=\"_blank\">\n",
            "    GBP/USD Daily Forecast – British Pound Gets Support From Multiple Catalysts\n",
            "   </a>\n",
            "  </li>\n",
            " </ul>\n",
            " <div data-reactid=\"72\">\n",
            " </div>\n",
            "</div>\n"
          ],
          "name": "stdout"
        }
      ]
    },
    {
      "cell_type": "code",
      "metadata": {
        "id": "_5n76d5xB8Ik",
        "colab_type": "code",
        "colab": {
          "base_uri": "https://localhost:8080/",
          "height": 106
        },
        "outputId": "d93caa21-1383-4c48-8e00-3a276fc17030"
      },
      "source": [
        "print(article.h2.text)\n",
        "sentences = []\n",
        "# now accessing all paragraph from the div we accessed before\n",
        "for para in article.find_all('p'):\n",
        "  sentences.append(para.text)\n",
        "  # print(para.text)\n",
        "  # print()\n",
        "print(sentences)\n",
        "print('Total Sentences ' + str(len(sentences)))\n",
        "sentences[-1]"
      ],
      "execution_count": 24,
      "outputs": [
        {
          "output_type": "stream",
          "text": [
            "Earlier in the Day:\n",
            "['It was a relatively busy start to the day on the economic calendar. The Japanese Yen was back in action along with the Aussie Dollar.', 'Away from the economic calendar, riskier assets found early support on news of further progress towards a COVID-19 vaccine.', 'On Monday, the number of new coronavirus cases rose by 182,589 to 14,850,887. On Sunday, the number of new cases had risen by 246,207. The daily increase was lower than Saturday’s rise and 199,164 new cases from the previous Monday.', 'Germany, Italy, and Spain reported 5,413 new cases on Monday, which was up from 491 new cases on Sunday. On the previous Monday, just 2,700 new cases had been reported.', 'From the U.S, the total number of cases rose by 62,790 to 3,961,429 on Monday. On Sunday, the total number of cases had increased by 65,368. On Monday, 20th July, a total of 65,488 new cases had been reported.', 'In June, core consumer prices remained unchanged compared with June 2019. Economists had forecast a 0.1% decline.', 'According to figures released by the Ministry of Internal Affairs and Communication., the annual rate of inflation held steady at 0.1%.', 'The Japanese Yen moved from ¥107.243 to ¥107.231 upon release of the minutes and stats. At the time of writing, the Japanese Yen was up by 0.07% to ¥107.19 against the U.S Dollar.', 'The RBA Meeting Minutes were in focus in the late part of the Asian session.', 'Salient points from the minutes included:', 'The Aussie Dollar moved from $0.70267 to $0.70217 upon the release of the minutes. At the time of writing, the Aussie Dollar was up by 0.11% to $0.7024.', 'At the time of writing, the Kiwi Dollar was down by 0.02% to $0.6576.', 'It’s a particularly quiet day ahead on the economic calendar. There are no material stats due out of the Eurozone to provide the EUR with direction.', 'The lack of stats will leave the EUR in the hands of updates from the EU Recovery Fund talks and market risk sentiment.', 'While the EU Recovery Fund would be a boost for the struggling economies of Italy and Spain, the coronavirus remains a threat. Progress towards a COVID-19 vaccine, however, has continued to ease market jitters over the virus.', 'At the time of writing, the EUR was up by 0.10% to $1.1459.', 'It’s another particularly quiet day ahead on the economic calendar. There are no material stats due out of the UK to provide the Pound with direction.', 'Brexit remains in focus and will continue to limit any upside in the Pound, barring the announcement of an agreement on trade.', 'At the time of writing, the Pound was up by 0.11% to $1.2675.', 'It’s also a particularly quiet day ahead for the U.S Dollar. There are no material stats due out to provide the Greenback with direction.', 'A lack of stats will leave the Dollar in the hands of updates on COVID-19 and chatter from Washington.', 'At the time of writing, the Dollar Spot Index was down by 0.13% to 95.705.', 'It’s a busier day ahead on the economic calendar. May retail sales and June new house price figures are due out of Canada later today.', 'Barring a “risk-off” event, we would expect the retail sales figures to have the greatest impact.', 'The markets will be looking for a rebound from April’s tumble.', 'Away from the stats, any rise in tension between the U.S and China will need consideration along with COVID-19 updates.', 'At the time of writing, the Loonie was up by 0.13% to C$1.3518 against the U.S Dollar.', 'For a look at all of today’s economic events, check out our\\xa0economic calendar.', 'This article was originally posted on FX Empire']\n",
            "Total Sentences 29\n"
          ],
          "name": "stdout"
        },
        {
          "output_type": "execute_result",
          "data": {
            "application/vnd.google.colaboratory.intrinsic+json": {
              "type": "string"
            },
            "text/plain": [
              "'This article was originally posted on FX Empire'"
            ]
          },
          "metadata": {
            "tags": []
          },
          "execution_count": 24
        }
      ]
    },
    {
      "cell_type": "code",
      "metadata": {
        "id": "5TTaUA22fpqq",
        "colab_type": "code",
        "colab": {
          "base_uri": "https://localhost:8080/",
          "height": 106
        },
        "outputId": "f62ff899-2857-4b14-ac9f-11f33e7b09f0"
      },
      "source": [
        "# creating a jiant string of sentences\n",
        "for sentence in sentences:\n",
        "  combined_sentences = ''.join(sentences)\n",
        "\n",
        "print(combined_sentences)\n",
        "combined_sentences[:10]\n",
        "print(len(combined_sentences))\n",
        "\n",
        "# accessing index\n",
        "print(combined_sentences.index('FX Empire'))\n",
        "combined_sentences[3562:-2]"
      ],
      "execution_count": 20,
      "outputs": [
        {
          "output_type": "stream",
          "text": [
            "['It was a relatively busy start to the day on the economic calendar. The Japanese Yen was back in action along with the Aussie Dollar.', 'Away from the economic calendar, riskier assets found early support on news of further progress towards a COVID-19 vaccine.', 'On Monday, the number of new coronavirus cases rose by 182,589 to 14,850,887. On Sunday, the number of new cases had risen by 246,207. The daily increase was lower than Saturday’s rise and 199,164 new cases from the previous Monday.', 'Germany, Italy, and Spain reported 5,413 new cases on Monday, which was up from 491 new cases on Sunday. On the previous Monday, just 2,700 new cases had been reported.', 'From the U.S, the total number of cases rose by 62,790 to 3,961,429 on Monday. On Sunday, the total number of cases had increased by 65,368. On Monday, 20th July, a total of 65,488 new cases had been reported.', 'In June, core consumer prices remained unchanged compared with June 2019. Economists had forecast a 0.1% decline.', 'According to figures released by the Ministry of Internal Affairs and Communication., the annual rate of inflation held steady at 0.1%.', 'The Japanese Yen moved from ¥107.243 to ¥107.231 upon release of the minutes and stats. At the time of writing, the Japanese Yen was up by 0.07% to ¥107.19 against the U.S Dollar.', 'The RBA Meeting Minutes were in focus in the late part of the Asian session.', 'Salient points from the minutes included:', 'The Aussie Dollar moved from $0.70267 to $0.70217 upon the release of the minutes. At the time of writing, the Aussie Dollar was up by 0.11% to $0.7024.', 'At the time of writing, the Kiwi Dollar was down by 0.02% to $0.6576.', 'It’s a particularly quiet day ahead on the economic calendar. There are no material stats due out of the Eurozone to provide the EUR with direction.', 'The lack of stats will leave the EUR in the hands of updates from the EU Recovery Fund talks and market risk sentiment.', 'While the EU Recovery Fund would be a boost for the struggling economies of Italy and Spain, the coronavirus remains a threat. Progress towards a COVID-19 vaccine, however, has continued to ease market jitters over the virus.', 'At the time of writing, the EUR was up by 0.10% to $1.1459.', 'It’s another particularly quiet day ahead on the economic calendar. There are no material stats due out of the UK to provide the Pound with direction.', 'Brexit remains in focus and will continue to limit any upside in the Pound, barring the announcement of an agreement on trade.', 'At the time of writing, the Pound was up by 0.11% to $1.2675.', 'It’s also a particularly quiet day ahead for the U.S Dollar. There are no material stats due out to provide the Greenback with direction.', 'A lack of stats will leave the Dollar in the hands of updates on COVID-19 and chatter from Washington.', 'At the time of writing, the Dollar Spot Index was down by 0.13% to 95.705.', 'It’s a busier day ahead on the economic calendar. May retail sales and June new house price figures are due out of Canada later today.', 'Barring a “risk-off” event, we would expect the retail sales figures to have the greatest impact.', 'The markets will be looking for a rebound from April’s tumble.', 'Away from the stats, any rise in tension between the U.S and China will need consideration along with COVID-19 updates.', 'At the time of writing, the Loonie was up by 0.13% to C$1.3518 against the U.S Dollar.', 'For a look at all of today’s economic events, check out our\\xa0economic calendar.', 'This article was originally posted on FX Empire']\n",
            "3573\n",
            "3562\n"
          ],
          "name": "stdout"
        },
        {
          "output_type": "execute_result",
          "data": {
            "application/vnd.google.colaboratory.intrinsic+json": {
              "type": "string"
            },
            "text/plain": [
              "'FX Empire'"
            ]
          },
          "metadata": {
            "tags": []
          },
          "execution_count": 20
        }
      ]
    },
    {
      "cell_type": "code",
      "metadata": {
        "id": "HNHXmqwwvpbA",
        "colab_type": "code",
        "colab": {}
      },
      "source": [
        "import re\n",
        "import string\n",
        "\n",
        "currencies = ['Yen', 'Aussie Dollar', 'Dollar']"
      ],
      "execution_count": 9,
      "outputs": []
    },
    {
      "cell_type": "markdown",
      "metadata": {
        "id": "BskgYdK26ii5",
        "colab_type": "text"
      },
      "source": [
        "### word tokenize and removing stop words - data cleaning"
      ]
    },
    {
      "cell_type": "code",
      "metadata": {
        "id": "oqwvPvx-B-Vs",
        "colab_type": "code",
        "colab": {}
      },
      "source": [
        "import nltk as nt\n",
        "from nltk.corpus import stopwords\n",
        "from nltk.tokenize import word_tokenize as tk"
      ],
      "execution_count": 10,
      "outputs": []
    },
    {
      "cell_type": "code",
      "metadata": {
        "id": "svbP5AcUtC6p",
        "colab_type": "code",
        "colab": {
          "base_uri": "https://localhost:8080/",
          "height": 68
        },
        "outputId": "94cc37f7-5247-4047-fcc9-1f5b59add4ca"
      },
      "source": [
        "nt.download('stopwords')"
      ],
      "execution_count": 25,
      "outputs": [
        {
          "output_type": "stream",
          "text": [
            "[nltk_data] Downloading package stopwords to /root/nltk_data...\n",
            "[nltk_data]   Unzipping corpora/stopwords.zip.\n"
          ],
          "name": "stdout"
        },
        {
          "output_type": "execute_result",
          "data": {
            "text/plain": [
              "True"
            ]
          },
          "metadata": {
            "tags": []
          },
          "execution_count": 25
        }
      ]
    },
    {
      "cell_type": "code",
      "metadata": {
        "id": "BGK5RvyqcwJu",
        "colab_type": "code",
        "colab": {
          "base_uri": "https://localhost:8080/",
          "height": 54
        },
        "outputId": "60c0356b-4e88-4883-df72-559bdff24fcb"
      },
      "source": [
        "# converting senetnce[] object to string\n",
        "sentences = str(sentences)\n",
        "# -----------------------------------------------\n",
        "stop_words = set(stopwords.words(\"english\"))\n",
        "tokenized_words = tk(sentences)\n",
        "print(tokenized_words)"
      ],
      "execution_count": 26,
      "outputs": [
        {
          "output_type": "stream",
          "text": [
            "['[', \"'It\", 'was', 'a', 'relatively', 'busy', 'start', 'to', 'the', 'day', 'on', 'the', 'economic', 'calendar', '.', 'The', 'Japanese', 'Yen', 'was', 'back', 'in', 'action', 'along', 'with', 'the', 'Aussie', 'Dollar', '.', \"'\", ',', \"'Away\", 'from', 'the', 'economic', 'calendar', ',', 'riskier', 'assets', 'found', 'early', 'support', 'on', 'news', 'of', 'further', 'progress', 'towards', 'a', 'COVID-19', 'vaccine', '.', \"'\", ',', \"'On\", 'Monday', ',', 'the', 'number', 'of', 'new', 'coronavirus', 'cases', 'rose', 'by', '182,589', 'to', '14,850,887', '.', 'On', 'Sunday', ',', 'the', 'number', 'of', 'new', 'cases', 'had', 'risen', 'by', '246,207', '.', 'The', 'daily', 'increase', 'was', 'lower', 'than', 'Saturday', '’', 's', 'rise', 'and', '199,164', 'new', 'cases', 'from', 'the', 'previous', 'Monday', '.', \"'\", ',', \"'Germany\", ',', 'Italy', ',', 'and', 'Spain', 'reported', '5,413', 'new', 'cases', 'on', 'Monday', ',', 'which', 'was', 'up', 'from', '491', 'new', 'cases', 'on', 'Sunday', '.', 'On', 'the', 'previous', 'Monday', ',', 'just', '2,700', 'new', 'cases', 'had', 'been', 'reported', '.', \"'\", ',', \"'From\", 'the', 'U.S', ',', 'the', 'total', 'number', 'of', 'cases', 'rose', 'by', '62,790', 'to', '3,961,429', 'on', 'Monday', '.', 'On', 'Sunday', ',', 'the', 'total', 'number', 'of', 'cases', 'had', 'increased', 'by', '65,368', '.', 'On', 'Monday', ',', '20th', 'July', ',', 'a', 'total', 'of', '65,488', 'new', 'cases', 'had', 'been', 'reported', '.', \"'\", ',', \"'In\", 'June', ',', 'core', 'consumer', 'prices', 'remained', 'unchanged', 'compared', 'with', 'June', '2019', '.', 'Economists', 'had', 'forecast', 'a', '0.1', '%', 'decline', '.', \"'\", ',', \"'According\", 'to', 'figures', 'released', 'by', 'the', 'Ministry', 'of', 'Internal', 'Affairs', 'and', 'Communication.', ',', 'the', 'annual', 'rate', 'of', 'inflation', 'held', 'steady', 'at', '0.1', '%', '.', \"'\", ',', \"'The\", 'Japanese', 'Yen', 'moved', 'from', '¥107.243', 'to', '¥107.231', 'upon', 'release', 'of', 'the', 'minutes', 'and', 'stats', '.', 'At', 'the', 'time', 'of', 'writing', ',', 'the', 'Japanese', 'Yen', 'was', 'up', 'by', '0.07', '%', 'to', '¥107.19', 'against', 'the', 'U.S', 'Dollar', '.', \"'\", ',', \"'The\", 'RBA', 'Meeting', 'Minutes', 'were', 'in', 'focus', 'in', 'the', 'late', 'part', 'of', 'the', 'Asian', 'session', '.', \"'\", ',', \"'Salient\", 'points', 'from', 'the', 'minutes', 'included', ':', \"'\", ',', \"'The\", 'Aussie', 'Dollar', 'moved', 'from', '$', '0.70267', 'to', '$', '0.70217', 'upon', 'the', 'release', 'of', 'the', 'minutes', '.', 'At', 'the', 'time', 'of', 'writing', ',', 'the', 'Aussie', 'Dollar', 'was', 'up', 'by', '0.11', '%', 'to', '$', '0.7024', '.', \"'\", ',', \"'At\", 'the', 'time', 'of', 'writing', ',', 'the', 'Kiwi', 'Dollar', 'was', 'down', 'by', '0.02', '%', 'to', '$', '0.6576', '.', \"'\", ',', \"'It\", '’', 's', 'a', 'particularly', 'quiet', 'day', 'ahead', 'on', 'the', 'economic', 'calendar', '.', 'There', 'are', 'no', 'material', 'stats', 'due', 'out', 'of', 'the', 'Eurozone', 'to', 'provide', 'the', 'EUR', 'with', 'direction', '.', \"'\", ',', \"'The\", 'lack', 'of', 'stats', 'will', 'leave', 'the', 'EUR', 'in', 'the', 'hands', 'of', 'updates', 'from', 'the', 'EU', 'Recovery', 'Fund', 'talks', 'and', 'market', 'risk', 'sentiment', '.', \"'\", ',', \"'While\", 'the', 'EU', 'Recovery', 'Fund', 'would', 'be', 'a', 'boost', 'for', 'the', 'struggling', 'economies', 'of', 'Italy', 'and', 'Spain', ',', 'the', 'coronavirus', 'remains', 'a', 'threat', '.', 'Progress', 'towards', 'a', 'COVID-19', 'vaccine', ',', 'however', ',', 'has', 'continued', 'to', 'ease', 'market', 'jitters', 'over', 'the', 'virus', '.', \"'\", ',', \"'At\", 'the', 'time', 'of', 'writing', ',', 'the', 'EUR', 'was', 'up', 'by', '0.10', '%', 'to', '$', '1.1459', '.', \"'\", ',', \"'It\", '’', 's', 'another', 'particularly', 'quiet', 'day', 'ahead', 'on', 'the', 'economic', 'calendar', '.', 'There', 'are', 'no', 'material', 'stats', 'due', 'out', 'of', 'the', 'UK', 'to', 'provide', 'the', 'Pound', 'with', 'direction', '.', \"'\", ',', \"'Brexit\", 'remains', 'in', 'focus', 'and', 'will', 'continue', 'to', 'limit', 'any', 'upside', 'in', 'the', 'Pound', ',', 'barring', 'the', 'announcement', 'of', 'an', 'agreement', 'on', 'trade', '.', \"'\", ',', \"'At\", 'the', 'time', 'of', 'writing', ',', 'the', 'Pound', 'was', 'up', 'by', '0.11', '%', 'to', '$', '1.2675', '.', \"'\", ',', \"'It\", '’', 's', 'also', 'a', 'particularly', 'quiet', 'day', 'ahead', 'for', 'the', 'U.S', 'Dollar', '.', 'There', 'are', 'no', 'material', 'stats', 'due', 'out', 'to', 'provide', 'the', 'Greenback', 'with', 'direction', '.', \"'\", ',', \"'A\", 'lack', 'of', 'stats', 'will', 'leave', 'the', 'Dollar', 'in', 'the', 'hands', 'of', 'updates', 'on', 'COVID-19', 'and', 'chatter', 'from', 'Washington', '.', \"'\", ',', \"'At\", 'the', 'time', 'of', 'writing', ',', 'the', 'Dollar', 'Spot', 'Index', 'was', 'down', 'by', '0.13', '%', 'to', '95.705', '.', \"'\", ',', \"'It\", '’', 's', 'a', 'busier', 'day', 'ahead', 'on', 'the', 'economic', 'calendar', '.', 'May', 'retail', 'sales', 'and', 'June', 'new', 'house', 'price', 'figures', 'are', 'due', 'out', 'of', 'Canada', 'later', 'today', '.', \"'\", ',', \"'Barring\", 'a', '“', 'risk-off', '”', 'event', ',', 'we', 'would', 'expect', 'the', 'retail', 'sales', 'figures', 'to', 'have', 'the', 'greatest', 'impact', '.', \"'\", ',', \"'The\", 'markets', 'will', 'be', 'looking', 'for', 'a', 'rebound', 'from', 'April', '’', 's', 'tumble', '.', \"'\", ',', \"'Away\", 'from', 'the', 'stats', ',', 'any', 'rise', 'in', 'tension', 'between', 'the', 'U.S', 'and', 'China', 'will', 'need', 'consideration', 'along', 'with', 'COVID-19', 'updates', '.', \"'\", ',', \"'At\", 'the', 'time', 'of', 'writing', ',', 'the', 'Loonie', 'was', 'up', 'by', '0.13', '%', 'to', 'C', '$', '1.3518', 'against', 'the', 'U.S', 'Dollar', '.', \"'\", ',', \"'For\", 'a', 'look', 'at', 'all', 'of', 'today', '’', 's', 'economic', 'events', ',', 'check', 'out', 'our\\\\xa0economic', 'calendar', '.', \"'\", ',', \"'This\", 'article', 'was', 'originally', 'posted', 'on', 'FX', 'Empire', \"'\", ']']\n"
          ],
          "name": "stdout"
        }
      ]
    },
    {
      "cell_type": "code",
      "metadata": {
        "id": "p-yDETTpqJv0",
        "colab_type": "code",
        "colab": {
          "base_uri": "https://localhost:8080/",
          "height": 54
        },
        "outputId": "29a6ba24-c771-410b-cc4a-a1200c95b893"
      },
      "source": [
        "# filter stopwords in the sentence\n",
        "filtered_sentence = []\n",
        "\n",
        "for w in tokenized_words:\n",
        "  if w not in stop_words:\n",
        "    filtered_sentence.append(w)\n",
        "print(filtered_sentence)"
      ],
      "execution_count": 27,
      "outputs": [
        {
          "output_type": "stream",
          "text": [
            "['[', \"'It\", 'relatively', 'busy', 'start', 'day', 'economic', 'calendar', '.', 'The', 'Japanese', 'Yen', 'back', 'action', 'along', 'Aussie', 'Dollar', '.', \"'\", ',', \"'Away\", 'economic', 'calendar', ',', 'riskier', 'assets', 'found', 'early', 'support', 'news', 'progress', 'towards', 'COVID-19', 'vaccine', '.', \"'\", ',', \"'On\", 'Monday', ',', 'number', 'new', 'coronavirus', 'cases', 'rose', '182,589', '14,850,887', '.', 'On', 'Sunday', ',', 'number', 'new', 'cases', 'risen', '246,207', '.', 'The', 'daily', 'increase', 'lower', 'Saturday', '’', 'rise', '199,164', 'new', 'cases', 'previous', 'Monday', '.', \"'\", ',', \"'Germany\", ',', 'Italy', ',', 'Spain', 'reported', '5,413', 'new', 'cases', 'Monday', ',', '491', 'new', 'cases', 'Sunday', '.', 'On', 'previous', 'Monday', ',', '2,700', 'new', 'cases', 'reported', '.', \"'\", ',', \"'From\", 'U.S', ',', 'total', 'number', 'cases', 'rose', '62,790', '3,961,429', 'Monday', '.', 'On', 'Sunday', ',', 'total', 'number', 'cases', 'increased', '65,368', '.', 'On', 'Monday', ',', '20th', 'July', ',', 'total', '65,488', 'new', 'cases', 'reported', '.', \"'\", ',', \"'In\", 'June', ',', 'core', 'consumer', 'prices', 'remained', 'unchanged', 'compared', 'June', '2019', '.', 'Economists', 'forecast', '0.1', '%', 'decline', '.', \"'\", ',', \"'According\", 'figures', 'released', 'Ministry', 'Internal', 'Affairs', 'Communication.', ',', 'annual', 'rate', 'inflation', 'held', 'steady', '0.1', '%', '.', \"'\", ',', \"'The\", 'Japanese', 'Yen', 'moved', '¥107.243', '¥107.231', 'upon', 'release', 'minutes', 'stats', '.', 'At', 'time', 'writing', ',', 'Japanese', 'Yen', '0.07', '%', '¥107.19', 'U.S', 'Dollar', '.', \"'\", ',', \"'The\", 'RBA', 'Meeting', 'Minutes', 'focus', 'late', 'part', 'Asian', 'session', '.', \"'\", ',', \"'Salient\", 'points', 'minutes', 'included', ':', \"'\", ',', \"'The\", 'Aussie', 'Dollar', 'moved', '$', '0.70267', '$', '0.70217', 'upon', 'release', 'minutes', '.', 'At', 'time', 'writing', ',', 'Aussie', 'Dollar', '0.11', '%', '$', '0.7024', '.', \"'\", ',', \"'At\", 'time', 'writing', ',', 'Kiwi', 'Dollar', '0.02', '%', '$', '0.6576', '.', \"'\", ',', \"'It\", '’', 'particularly', 'quiet', 'day', 'ahead', 'economic', 'calendar', '.', 'There', 'material', 'stats', 'due', 'Eurozone', 'provide', 'EUR', 'direction', '.', \"'\", ',', \"'The\", 'lack', 'stats', 'leave', 'EUR', 'hands', 'updates', 'EU', 'Recovery', 'Fund', 'talks', 'market', 'risk', 'sentiment', '.', \"'\", ',', \"'While\", 'EU', 'Recovery', 'Fund', 'would', 'boost', 'struggling', 'economies', 'Italy', 'Spain', ',', 'coronavirus', 'remains', 'threat', '.', 'Progress', 'towards', 'COVID-19', 'vaccine', ',', 'however', ',', 'continued', 'ease', 'market', 'jitters', 'virus', '.', \"'\", ',', \"'At\", 'time', 'writing', ',', 'EUR', '0.10', '%', '$', '1.1459', '.', \"'\", ',', \"'It\", '’', 'another', 'particularly', 'quiet', 'day', 'ahead', 'economic', 'calendar', '.', 'There', 'material', 'stats', 'due', 'UK', 'provide', 'Pound', 'direction', '.', \"'\", ',', \"'Brexit\", 'remains', 'focus', 'continue', 'limit', 'upside', 'Pound', ',', 'barring', 'announcement', 'agreement', 'trade', '.', \"'\", ',', \"'At\", 'time', 'writing', ',', 'Pound', '0.11', '%', '$', '1.2675', '.', \"'\", ',', \"'It\", '’', 'also', 'particularly', 'quiet', 'day', 'ahead', 'U.S', 'Dollar', '.', 'There', 'material', 'stats', 'due', 'provide', 'Greenback', 'direction', '.', \"'\", ',', \"'A\", 'lack', 'stats', 'leave', 'Dollar', 'hands', 'updates', 'COVID-19', 'chatter', 'Washington', '.', \"'\", ',', \"'At\", 'time', 'writing', ',', 'Dollar', 'Spot', 'Index', '0.13', '%', '95.705', '.', \"'\", ',', \"'It\", '’', 'busier', 'day', 'ahead', 'economic', 'calendar', '.', 'May', 'retail', 'sales', 'June', 'new', 'house', 'price', 'figures', 'due', 'Canada', 'later', 'today', '.', \"'\", ',', \"'Barring\", '“', 'risk-off', '”', 'event', ',', 'would', 'expect', 'retail', 'sales', 'figures', 'greatest', 'impact', '.', \"'\", ',', \"'The\", 'markets', 'looking', 'rebound', 'April', '’', 'tumble', '.', \"'\", ',', \"'Away\", 'stats', ',', 'rise', 'tension', 'U.S', 'China', 'need', 'consideration', 'along', 'COVID-19', 'updates', '.', \"'\", ',', \"'At\", 'time', 'writing', ',', 'Loonie', '0.13', '%', 'C', '$', '1.3518', 'U.S', 'Dollar', '.', \"'\", ',', \"'For\", 'look', 'today', '’', 'economic', 'events', ',', 'check', 'our\\\\xa0economic', 'calendar', '.', \"'\", ',', \"'This\", 'article', 'originally', 'posted', 'FX', 'Empire', \"'\", ']']\n"
          ],
          "name": "stdout"
        }
      ]
    },
    {
      "cell_type": "code",
      "metadata": {
        "id": "qyKrm-cc5WUp",
        "colab_type": "code",
        "colab": {}
      },
      "source": [
        "# another way of filtering that will work the same\n",
        "filtered_sentence = [w for w in tokenized_words if not w in stop_words]\n",
        "print(filtered_sentence)\n",
        "print(len(filtered_sentence))"
      ],
      "execution_count": null,
      "outputs": []
    },
    {
      "cell_type": "code",
      "metadata": {
        "id": "HkXWBhD46pP9",
        "colab_type": "code",
        "colab": {}
      },
      "source": [
        "filtered_sentence[1:480]"
      ],
      "execution_count": null,
      "outputs": []
    },
    {
      "cell_type": "markdown",
      "metadata": {
        "id": "HKp0zwdIIjW1",
        "colab_type": "text"
      },
      "source": [
        "### Stemming\n",
        "perpose of stemming is really depends, we really don't always need to -\n",
        "stemm the tokenized words. it helps finding similar words with different forms "
      ]
    },
    {
      "cell_type": "code",
      "metadata": {
        "id": "FWWMzjyh73Fs",
        "colab_type": "code",
        "colab": {}
      },
      "source": [
        "from nltk.stem import PorterStemmer"
      ],
      "execution_count": null,
      "outputs": []
    },
    {
      "cell_type": "code",
      "metadata": {
        "id": "II3leXR5Jmls",
        "colab_type": "code",
        "colab": {}
      },
      "source": [
        "ps = PorterStemmer()\n",
        "stemmed_word = []\n",
        "for w in filtered_sentence:\n",
        "  stemmed_word.append(ps.stem(w))\n",
        "\n",
        "print(stemmed_word)"
      ],
      "execution_count": null,
      "outputs": []
    },
    {
      "cell_type": "markdown",
      "metadata": {
        "id": "4Fb0x-zbTCKq",
        "colab_type": "text"
      },
      "source": [
        "### Part of Speech Taging"
      ]
    },
    {
      "cell_type": "code",
      "metadata": {
        "id": "iCvVFC4GLGgI",
        "colab_type": "code",
        "colab": {}
      },
      "source": [
        ""
      ],
      "execution_count": null,
      "outputs": []
    }
  ]
}