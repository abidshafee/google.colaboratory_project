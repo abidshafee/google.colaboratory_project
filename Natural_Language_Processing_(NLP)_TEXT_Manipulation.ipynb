{
  "nbformat": 4,
  "nbformat_minor": 0,
  "metadata": {
    "colab": {
      "name": "Natural Language Processing (NLP)- TEXT Manipulation.ipynb",
      "provenance": [],
      "collapsed_sections": [],
      "toc_visible": true,
      "authorship_tag": "ABX9TyMzKq/DSMxSRlwc/Xjbkjrj",
      "include_colab_link": true
    },
    "kernelspec": {
      "name": "python3",
      "display_name": "Python 3"
    }
  },
  "cells": [
    {
      "cell_type": "markdown",
      "metadata": {
        "id": "view-in-github",
        "colab_type": "text"
      },
      "source": [
        "<a href=\"https://colab.research.google.com/github/abidshafee/google.colaboratory_projects/blob/master/Natural_Language_Processing_(NLP)_TEXT_Manipulation.ipynb\" target=\"_parent\"><img src=\"https://colab.research.google.com/assets/colab-badge.svg\" alt=\"Open In Colab\"/></a>"
      ]
    },
    {
      "cell_type": "markdown",
      "metadata": {
        "id": "ClrjGWcqlTRV",
        "colab_type": "text"
      },
      "source": [
        "## NLP In Python\n",
        "**Python Libraries for Data NLP**: *pandas, sklearn, renltk, TextBlob, gensim* **Statistical Analysis** and  **Math** operation such as: cleaning data, **EDA or Exploratory Data Analysis** *for word count*, and Finally **NLP** *for sentiment analysis, topic modeling, and text generation. * **Next Communication** - **Design** *inclludes scope, visualization, extract insight*, **Domain** *Expertise*"
      ]
    },
    {
      "cell_type": "code",
      "metadata": {
        "id": "l_Ruf819n4pF",
        "colab_type": "code",
        "colab": {}
      },
      "source": [
        "# Data Science Approaches\n",
        "# 1 - raise a question \n",
        "# 2 - data gathering (web scraping) and cleaning\n",
        "#       python library involves in webscraping are: requests (make http request get data from the web)\n",
        "#       beautiful soup (parse html documents extract parts of a website)\n",
        "#       pickle (serialize objects and save the data)\n",
        "#       For cleaning pandas dataframe\n",
        "# 3 - eda or Exploratory Data Analysis\n",
        "# 4 - techniques\n",
        "# 5 - insights"
      ],
      "execution_count": 1,
      "outputs": []
    },
    {
      "cell_type": "markdown",
      "metadata": {
        "id": "wcymGKp1OWx1",
        "colab_type": "text"
      },
      "source": [
        "## Web Scraping - Data Gathering"
      ]
    },
    {
      "cell_type": "code",
      "metadata": {
        "id": "8KkGT6lWstiB",
        "colab_type": "code",
        "colab": {}
      },
      "source": [
        "# from urllib.request import urlopen as uReq\n",
        "import requests as uReq\n",
        "from bs4 import BeautifulSoup as soup"
      ],
      "execution_count": 2,
      "outputs": []
    },
    {
      "cell_type": "code",
      "metadata": {
        "id": "TqP_7PXSPNnZ",
        "colab_type": "code",
        "colab": {
          "base_uri": "https://localhost:8080/",
          "height": 34
        },
        "outputId": "01ec8bc4-3730-4cc5-ec77-e535701c6d55"
      },
      "source": [
        "live_price_url = 'https://finance.yahoo.com/quote/EURUSD=X?p=EURUSD=X&.tsrc=fin-srch'\n",
        "headers = {\n",
        "    \"User-Agent\": 'Mozilla/5.0 (Windows NT 10.0; Win64; x64) AppleWebKit/537.36 (KHTML, like Gecko) Chrome/83.0.4103.116 Safari/537.36'\n",
        "}\n",
        "news_url = 'https://finance.yahoo.com/news/economic-data-puts-loonie-focus-022354695.html'\n",
        "\n",
        "# opening connection and grabing webdata\n",
        "#webClient = uReq(test_url)\n",
        "\n",
        "webClient = uReq.get(live_price_url, headers=headers)\n",
        "# parsing the html\n",
        "webPage = soup(webClient.text, 'lxml')\n",
        "\n",
        "# find specific content in webpage\n",
        "\n",
        "\"\"\"\n",
        "the find() method returns only the first tag that matches the argument\n",
        "\"\"\"\n",
        "\n",
        "# find_all returns a list of all the tags that matches the argument\n",
        "m_content_live_price = webPage.find_all('div', {'class':'My(6px) Pos(r) smartphone_Mt(6px)'})[0].find('span').text\n",
        "# main_div = content.div.article\n",
        "# article = main_div.article\n",
        "\n",
        "# para = content.find('div', class_='canvas-body Wow(bw) Cl(start) Mb(20px) Lh(30px) Fz(18px) C(#000) D(i)')\n",
        "\n",
        "# find a specific class in a webpage\n",
        "# classContent = content.find('p', class_='canvas-atom canvas-text Mb(1.0em) Mb(0)--sm Mt(0.8em)--sm')\n",
        "# this code will return div with currency class\n",
        "# this way we can find other attributes such as ids as well\n",
        "\n",
        "# print(content.prettify())\n",
        "# print(classContent.text)\n",
        "# print(main_div)\n",
        "print('eurusd-now: ', m_content_live_price)"
      ],
      "execution_count": 3,
      "outputs": [
        {
          "output_type": "stream",
          "text": [
            "eurusd-now:  1.1652\n"
          ],
          "name": "stdout"
        }
      ]
    },
    {
      "cell_type": "code",
      "metadata": {
        "id": "lfhX1mn_Bc0p",
        "colab_type": "code",
        "colab": {
          "base_uri": "https://localhost:8080/",
          "height": 52
        },
        "outputId": "e1a99a64-63ce-4385-9d9c-7696ed403c13"
      },
      "source": [
        "# put this live price tracker in a function\n",
        "'''\n",
        "def price_tracker():\n",
        "  m_content_live_price = webPage.find_all('div', {'class':'My(6px) Pos(r) smartphone_Mt(6px)'})[0].find('span').text\n",
        "  print('eurusd-now: ', m_content_live_price)\n",
        "while(True):\n",
        "  price_tracker()\n",
        "'''"
      ],
      "execution_count": 4,
      "outputs": [
        {
          "output_type": "execute_result",
          "data": {
            "application/vnd.google.colaboratory.intrinsic+json": {
              "type": "string"
            },
            "text/plain": [
              "\"\\ndef price_tracker():\\n  m_content_live_price = webPage.find_all('div', {'class':'My(6px) Pos(r) smartphone_Mt(6px)'})[0].find('span').text\\n  print('eurusd-now: ', m_content_live_price)\\nwhile(True):\\n  price_tracker()\\n\""
            ]
          },
          "metadata": {
            "tags": []
          },
          "execution_count": 4
        }
      ]
    },
    {
      "cell_type": "code",
      "metadata": {
        "id": "YjRMIpaVahpe",
        "colab_type": "code",
        "colab": {}
      },
      "source": [
        "webClient2 = uReq.get(news_url)\n",
        "newsPage = soup(webClient2.text)\n",
        "\n",
        "news_article = newsPage.find_all('article', {'itemprop' :'articleBody'})[0].prettify()\n",
        "# print(news_article)"
      ],
      "execution_count": 5,
      "outputs": []
    },
    {
      "cell_type": "code",
      "metadata": {
        "id": "YCSp_hdbS5Nc",
        "colab_type": "code",
        "colab": {}
      },
      "source": [
        "# accessing div that contain all paragraph in article tag\n",
        "article = newsPage.find_all('div', {'class': 'canvas-body Wow(bw) Cl(start) Mb(20px) Fz(16px) Lh(1.6) Ff(yahooSansFinanceFont) D(i)'})[0]\n",
        "  # headline = news_article.find('div').text\n",
        "  # print(headline.h2)\n",
        "  # para = article.p\n",
        "# print(article.prettify())"
      ],
      "execution_count": 6,
      "outputs": []
    },
    {
      "cell_type": "code",
      "metadata": {
        "id": "_5n76d5xB8Ik",
        "colab_type": "code",
        "colab": {
          "base_uri": "https://localhost:8080/",
          "height": 105
        },
        "outputId": "a0252994-ad72-4f47-c1d0-9cad443d1b89"
      },
      "source": [
        "print(article.h2.text)\n",
        "sentences = []\n",
        "# now accessing all paragraph from the div we accessed before\n",
        "for para in article.find_all('p'):\n",
        "  sentences.append(para.text)\n",
        "  # print(para.text)\n",
        "  # print()\n",
        "print(sentences)\n",
        "print('Total number of Sentences: ' + str(len(sentences)))\n",
        "print('The last Sentence is >> ' + sentences[-1])"
      ],
      "execution_count": 7,
      "outputs": [
        {
          "output_type": "stream",
          "text": [
            "Earlier in the Day:\n",
            "['It was a relatively busy start to the day on the economic calendar. The Japanese Yen was back in action along with the Aussie Dollar.', 'Away from the economic calendar, riskier assets found early support on news of further progress towards a COVID-19 vaccine.', 'On Monday, the number of new coronavirus cases rose by 182,589 to 14,850,887. On Sunday, the number of new cases had risen by 246,207. The daily increase was lower than Saturday’s rise and 199,164 new cases from the previous Monday.', 'Germany, Italy, and Spain reported 5,413 new cases on Monday, which was up from 491 new cases on Sunday. On the previous Monday, just 2,700 new cases had been reported.', 'From the U.S, the total number of cases rose by 62,790 to 3,961,429 on Monday. On Sunday, the total number of cases had increased by 65,368. On Monday, 20th July, a total of 65,488 new cases had been reported.', 'In June, core consumer prices remained unchanged compared with June 2019. Economists had forecast a 0.1% decline.', 'According to figures released by the Ministry of Internal Affairs and Communication., the annual rate of inflation held steady at 0.1%.', 'The Japanese Yen moved from ¥107.243 to ¥107.231 upon release of the minutes and stats. At the time of writing, the Japanese Yen was up by 0.07% to ¥107.19 against the U.S Dollar.', 'The RBA Meeting Minutes were in focus in the late part of the Asian session.', 'Salient points from the minutes included:', 'The Aussie Dollar moved from $0.70267 to $0.70217 upon the release of the minutes. At the time of writing, the Aussie Dollar was up by 0.11% to $0.7024.', 'At the time of writing, the Kiwi Dollar was down by 0.02% to $0.6576.', 'It’s a particularly quiet day ahead on the economic calendar. There are no material stats due out of the Eurozone to provide the EUR with direction.', 'The lack of stats will leave the EUR in the hands of updates from the EU Recovery Fund talks and market risk sentiment.', 'While the EU Recovery Fund would be a boost for the struggling economies of Italy and Spain, the coronavirus remains a threat. Progress towards a COVID-19 vaccine, however, has continued to ease market jitters over the virus.', 'At the time of writing, the EUR was up by 0.10% to $1.1459.', 'It’s another particularly quiet day ahead on the economic calendar. There are no material stats due out of the UK to provide the Pound with direction.', 'Brexit remains in focus and will continue to limit any upside in the Pound, barring the announcement of an agreement on trade.', 'At the time of writing, the Pound was up by 0.11% to $1.2675.', 'It’s also a particularly quiet day ahead for the U.S Dollar. There are no material stats due out to provide the Greenback with direction.', 'A lack of stats will leave the Dollar in the hands of updates on COVID-19 and chatter from Washington.', 'At the time of writing, the Dollar Spot Index was down by 0.13% to 95.705.', 'It’s a busier day ahead on the economic calendar. May retail sales and June new house price figures are due out of Canada later today.', 'Barring a “risk-off” event, we would expect the retail sales figures to have the greatest impact.', 'The markets will be looking for a rebound from April’s tumble.', 'Away from the stats, any rise in tension between the U.S and China will need consideration along with COVID-19 updates.', 'At the time of writing, the Loonie was up by 0.13% to C$1.3518 against the U.S Dollar.', 'For a look at all of today’s economic events, check out our\\xa0economic calendar.', 'This article was originally posted on FX Empire']\n",
            "Total number of Sentences: 29\n",
            "The last Sentence is >> This article was originally posted on FX Empire\n"
          ],
          "name": "stdout"
        }
      ]
    },
    {
      "cell_type": "code",
      "metadata": {
        "id": "5TTaUA22fpqq",
        "colab_type": "code",
        "colab": {
          "base_uri": "https://localhost:8080/",
          "height": 106
        },
        "outputId": "fe411a46-fcab-493f-b9c1-40f9293c2c12"
      },
      "source": [
        "# creating a jiant string of sentences\n",
        "for sentence in sentences:\n",
        "  combined_sentences = ''.join(sentences)\n",
        "\n",
        "print(combined_sentences)\n",
        "# combined_sentences[:10]\n",
        "print(len(combined_sentences))\n",
        "\n",
        "# accessing index\n",
        "print(combined_sentences.index('FX Empire'))\n",
        "\n",
        "combined_sentences[3407:]"
      ],
      "execution_count": 23,
      "outputs": [
        {
          "output_type": "stream",
          "text": [
            "It was a relatively busy start to the day on the economic calendar. The Japanese Yen was back in action along with the Aussie Dollar.Away from the economic calendar, riskier assets found early support on news of further progress towards a COVID-19 vaccine.On Monday, the number of new coronavirus cases rose by 182,589 to 14,850,887. On Sunday, the number of new cases had risen by 246,207. The daily increase was lower than Saturday’s rise and 199,164 new cases from the previous Monday.Germany, Italy, and Spain reported 5,413 new cases on Monday, which was up from 491 new cases on Sunday. On the previous Monday, just 2,700 new cases had been reported.From the U.S, the total number of cases rose by 62,790 to 3,961,429 on Monday. On Sunday, the total number of cases had increased by 65,368. On Monday, 20th July, a total of 65,488 new cases had been reported.In June, core consumer prices remained unchanged compared with June 2019. Economists had forecast a 0.1% decline.According to figures released by the Ministry of Internal Affairs and Communication., the annual rate of inflation held steady at 0.1%.The Japanese Yen moved from ¥107.243 to ¥107.231 upon release of the minutes and stats. At the time of writing, the Japanese Yen was up by 0.07% to ¥107.19 against the U.S Dollar.The RBA Meeting Minutes were in focus in the late part of the Asian session.Salient points from the minutes included:The Aussie Dollar moved from $0.70267 to $0.70217 upon the release of the minutes. At the time of writing, the Aussie Dollar was up by 0.11% to $0.7024.At the time of writing, the Kiwi Dollar was down by 0.02% to $0.6576.It’s a particularly quiet day ahead on the economic calendar. There are no material stats due out of the Eurozone to provide the EUR with direction.The lack of stats will leave the EUR in the hands of updates from the EU Recovery Fund talks and market risk sentiment.While the EU Recovery Fund would be a boost for the struggling economies of Italy and Spain, the coronavirus remains a threat. Progress towards a COVID-19 vaccine, however, has continued to ease market jitters over the virus.At the time of writing, the EUR was up by 0.10% to $1.1459.It’s another particularly quiet day ahead on the economic calendar. There are no material stats due out of the UK to provide the Pound with direction.Brexit remains in focus and will continue to limit any upside in the Pound, barring the announcement of an agreement on trade.At the time of writing, the Pound was up by 0.11% to $1.2675.It’s also a particularly quiet day ahead for the U.S Dollar. There are no material stats due out to provide the Greenback with direction.A lack of stats will leave the Dollar in the hands of updates on COVID-19 and chatter from Washington.At the time of writing, the Dollar Spot Index was down by 0.13% to 95.705.It’s a busier day ahead on the economic calendar. May retail sales and June new house price figures are due out of Canada later today.Barring a “risk-off” event, we would expect the retail sales figures to have the greatest impact.The markets will be looking for a rebound from April’s tumble.Away from the stats, any rise in tension between the U.S and China will need consideration along with COVID-19 updates.At the time of writing, the Loonie was up by 0.13% to C$1.3518 against the U.S Dollar.For a look at all of today’s economic events, check out our economic calendar.This article was originally posted on FX Empire\n",
            "3454\n",
            "3445\n"
          ],
          "name": "stdout"
        },
        {
          "output_type": "execute_result",
          "data": {
            "application/vnd.google.colaboratory.intrinsic+json": {
              "type": "string"
            },
            "text/plain": [
              "'This article was originally posted on FX Empire'"
            ]
          },
          "metadata": {
            "tags": []
          },
          "execution_count": 23
        }
      ]
    },
    {
      "cell_type": "markdown",
      "metadata": {
        "id": "LEjN6O7iU1Uw",
        "colab_type": "text"
      },
      "source": [
        "## Pickling Object\n",
        "we pickle object generally larger object for faster access and manipulate."
      ]
    },
    {
      "cell_type": "code",
      "metadata": {
        "id": "ObxoEZDJU0gs",
        "colab_type": "code",
        "colab": {
          "base_uri": "https://localhost:8080/",
          "height": 231
        },
        "outputId": "815cf7c4-6be8-4549-e782-a126c25993de"
      },
      "source": [
        "import pickle\n",
        "import numpy as np\n",
        "\n",
        "# simple dictionary\n",
        "sm_dict = {i : np.random.randn() for i in range(7) }\n",
        "\n",
        "#-------------- Pickling ------------------------------------\n",
        "'''\n",
        "# opening pickle out as write as byte\n",
        "pickle_out = open('dict.pickle', 'wb')\n",
        "# now dumping the simple dictionary into pickle_out\n",
        "pickle.dump(sm_dict, pickle_out)\n",
        "# always close the pickle file\n",
        "pickle_out.close()\n",
        "'''\n",
        "# --------------- depickling: loading the pickle back in -------------------------\n",
        "\n",
        "# load dict.pickle object in pickle_in\n",
        "pickle_in = open('dict.pickle', 'rb')\n",
        "# now load back the dict.pickle into sm_dict\n",
        "sm_dict = pickle.load(pickle_in)\n",
        "print(sm_dict)\n",
        "\n",
        "# -------- first comment out the depickling part and pickle any object -----------\n",
        "# --then comment out the pickling part and depickle the dump object into original object---"
      ],
      "execution_count": 9,
      "outputs": [
        {
          "output_type": "error",
          "ename": "FileNotFoundError",
          "evalue": "ignored",
          "traceback": [
            "\u001b[0;31m---------------------------------------------------------------------------\u001b[0m",
            "\u001b[0;31mFileNotFoundError\u001b[0m                         Traceback (most recent call last)",
            "\u001b[0;32m<ipython-input-9-a02789ffd0b0>\u001b[0m in \u001b[0;36m<module>\u001b[0;34m()\u001b[0m\n\u001b[1;32m     17\u001b[0m \u001b[0;34m\u001b[0m\u001b[0m\n\u001b[1;32m     18\u001b[0m \u001b[0;31m# load dict.pickle object in pickle_in\u001b[0m\u001b[0;34m\u001b[0m\u001b[0;34m\u001b[0m\u001b[0;34m\u001b[0m\u001b[0m\n\u001b[0;32m---> 19\u001b[0;31m \u001b[0mpickle_in\u001b[0m \u001b[0;34m=\u001b[0m \u001b[0mopen\u001b[0m\u001b[0;34m(\u001b[0m\u001b[0;34m'dict.pickle'\u001b[0m\u001b[0;34m,\u001b[0m \u001b[0;34m'rb'\u001b[0m\u001b[0;34m)\u001b[0m\u001b[0;34m\u001b[0m\u001b[0;34m\u001b[0m\u001b[0m\n\u001b[0m\u001b[1;32m     20\u001b[0m \u001b[0;31m# now load back the dict.pickle into sm_dict\u001b[0m\u001b[0;34m\u001b[0m\u001b[0;34m\u001b[0m\u001b[0;34m\u001b[0m\u001b[0m\n\u001b[1;32m     21\u001b[0m \u001b[0msm_dict\u001b[0m \u001b[0;34m=\u001b[0m \u001b[0mpickle\u001b[0m\u001b[0;34m.\u001b[0m\u001b[0mload\u001b[0m\u001b[0;34m(\u001b[0m\u001b[0mpickle_in\u001b[0m\u001b[0;34m)\u001b[0m\u001b[0;34m\u001b[0m\u001b[0;34m\u001b[0m\u001b[0m\n",
            "\u001b[0;31mFileNotFoundError\u001b[0m: [Errno 2] No such file or directory: 'dict.pickle'"
          ]
        }
      ]
    },
    {
      "cell_type": "markdown",
      "metadata": {
        "id": "BbaJxbNHZFI_",
        "colab_type": "text"
      },
      "source": [
        "## Python Regular Expression py RegEx"
      ]
    },
    {
      "cell_type": "code",
      "metadata": {
        "id": "HNHXmqwwvpbA",
        "colab_type": "code",
        "colab": {}
      },
      "source": [
        "import re\n",
        "import string\n",
        "\n",
        "currencies = ['Yen', 'Aussie Dollar', 'Dollar']"
      ],
      "execution_count": null,
      "outputs": []
    },
    {
      "cell_type": "markdown",
      "metadata": {
        "id": "BskgYdK26ii5",
        "colab_type": "text"
      },
      "source": [
        "### word tokenize and removing stop words - data cleaning"
      ]
    },
    {
      "cell_type": "code",
      "metadata": {
        "id": "oqwvPvx-B-Vs",
        "colab_type": "code",
        "colab": {}
      },
      "source": [
        "import nltk as nt\n",
        "from nltk.corpus import stopwords\n",
        "from nltk.tokenize import word_tokenize as tk"
      ],
      "execution_count": null,
      "outputs": []
    },
    {
      "cell_type": "code",
      "metadata": {
        "id": "svbP5AcUtC6p",
        "colab_type": "code",
        "colab": {}
      },
      "source": [
        "nt.download('punkt')"
      ],
      "execution_count": null,
      "outputs": []
    },
    {
      "cell_type": "code",
      "metadata": {
        "id": "BGK5RvyqcwJu",
        "colab_type": "code",
        "colab": {}
      },
      "source": [
        "# converting senetnce[] object to string\n",
        "sentences = str(sentences)\n",
        "# -----------------------------------------------\n",
        "stop_words = set(stopwords.words(\"english\"))\n",
        "tokenized_words = tk(sentences)\n",
        "print(tokenized_words)"
      ],
      "execution_count": null,
      "outputs": []
    },
    {
      "cell_type": "code",
      "metadata": {
        "id": "p-yDETTpqJv0",
        "colab_type": "code",
        "colab": {}
      },
      "source": [
        "# filter stopwords in the sentence\n",
        "filtered_sentence = []\n",
        "\n",
        "for w in tokenized_words:\n",
        "  if w not in stop_words:\n",
        "    filtered_sentence.append(w)\n",
        "print(filtered_sentence)"
      ],
      "execution_count": null,
      "outputs": []
    },
    {
      "cell_type": "code",
      "metadata": {
        "id": "qyKrm-cc5WUp",
        "colab_type": "code",
        "colab": {}
      },
      "source": [
        "# another way of filtering that will work the same\n",
        "filtered_sentence = [w for w in tokenized_words if not w in stop_words]\n",
        "print(filtered_sentence)\n",
        "print(len(filtered_sentence))"
      ],
      "execution_count": null,
      "outputs": []
    },
    {
      "cell_type": "code",
      "metadata": {
        "id": "HkXWBhD46pP9",
        "colab_type": "code",
        "colab": {}
      },
      "source": [
        "filtered_sentence[1:480]"
      ],
      "execution_count": null,
      "outputs": []
    },
    {
      "cell_type": "markdown",
      "metadata": {
        "id": "HKp0zwdIIjW1",
        "colab_type": "text"
      },
      "source": [
        "### Stemming\n",
        "perpose of stemming is really depends, we really don't always need to -\n",
        "stemm the tokenized words. it helps finding similar words with different forms "
      ]
    },
    {
      "cell_type": "code",
      "metadata": {
        "id": "FWWMzjyh73Fs",
        "colab_type": "code",
        "colab": {}
      },
      "source": [
        "from nltk.stem import PorterStemmer"
      ],
      "execution_count": null,
      "outputs": []
    },
    {
      "cell_type": "code",
      "metadata": {
        "id": "II3leXR5Jmls",
        "colab_type": "code",
        "colab": {}
      },
      "source": [
        "ps = PorterStemmer()\n",
        "stemmed_word = []\n",
        "for w in filtered_sentence:\n",
        "  stemmed_word.append(ps.stem(w))\n",
        "\n",
        "print(stemmed_word)"
      ],
      "execution_count": null,
      "outputs": []
    },
    {
      "cell_type": "markdown",
      "metadata": {
        "id": "4Fb0x-zbTCKq",
        "colab_type": "text"
      },
      "source": [
        "### Part of Speech Taging"
      ]
    },
    {
      "cell_type": "code",
      "metadata": {
        "id": "iCvVFC4GLGgI",
        "colab_type": "code",
        "colab": {}
      },
      "source": [
        ""
      ],
      "execution_count": null,
      "outputs": []
    }
  ]
}