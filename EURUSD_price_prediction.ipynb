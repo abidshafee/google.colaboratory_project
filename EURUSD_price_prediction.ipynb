{
  "nbformat": 4,
  "nbformat_minor": 0,
  "metadata": {
    "colab": {
      "name": "EURUSD price prediction.ipynb",
      "provenance": [],
      "collapsed_sections": [],
      "authorship_tag": "ABX9TyPEQRO80xdXfp+IaxocQMsP",
      "include_colab_link": true
    },
    "kernelspec": {
      "name": "python3",
      "display_name": "Python 3"
    }
  },
  "cells": [
    {
      "cell_type": "markdown",
      "metadata": {
        "id": "view-in-github",
        "colab_type": "text"
      },
      "source": [
        "<a href=\"https://colab.research.google.com/github/abidshafee/google.colaboratory_projects/blob/master/EURUSD_price_prediction.ipynb\" target=\"_parent\"><img src=\"https://colab.research.google.com/assets/colab-badge.svg\" alt=\"Open In Colab\"/></a>"
      ]
    },
    {
      "cell_type": "code",
      "metadata": {
        "id": "BleyqTWs2qa8",
        "colab_type": "code",
        "colab": {}
      },
      "source": [
        "# Description: This is a program that predict future currency price using artificial recurrent nural network - \n",
        "# The artificial recurrent nural network architecture also called 'Long Short Term Memory' or LSTM\n",
        "# Predicting the closing price of EURUSD currency pair using the past 60 days price."
      ],
      "execution_count": 2,
      "outputs": []
    },
    {
      "cell_type": "code",
      "metadata": {
        "id": "dO8AcPAq4Dcx",
        "colab_type": "code",
        "colab": {
          "base_uri": "https://localhost:8080/",
          "height": 88
        },
        "outputId": "7ef255cf-56c3-40f5-828a-657331281a87"
      },
      "source": [
        "import math\n",
        "import pandas_datareader as web\n",
        "import numpy as np\n",
        "import pandas as pd\n",
        "from sklearn.preprocessing import MinMaxScaler\n",
        "from keras.models import Sequential\n",
        "from keras.layers import Dense, LSTM\n",
        "import matplotlib.pyplot as plt\n",
        "plt.style.use('fivethirtyeight')"
      ],
      "execution_count": 3,
      "outputs": [
        {
          "output_type": "stream",
          "text": [
            "/usr/local/lib/python3.6/dist-packages/pandas_datareader/compat/__init__.py:7: FutureWarning: pandas.util.testing is deprecated. Use the functions in the public API at pandas.testing instead.\n",
            "  from pandas.util.testing import assert_frame_equal\n",
            "Using TensorFlow backend.\n"
          ],
          "name": "stderr"
        }
      ]
    },
    {
      "cell_type": "code",
      "metadata": {
        "id": "akdBZWdIMu0W",
        "colab_type": "code",
        "colab": {
          "base_uri": "https://localhost:8080/",
          "height": 450
        },
        "outputId": "d7416d44-f543-44fa-aa06-c98782af29bc"
      },
      "source": [
        "# geting the eurousd quotes\n",
        "df = web.DataReader('EURUSD=X', data_source='yahoo', start='2019-07-13', end='2020-7-13')\n",
        "# view data\n",
        "df"
      ],
      "execution_count": 4,
      "outputs": [
        {
          "output_type": "execute_result",
          "data": {
            "text/html": [
              "<div>\n",
              "<style scoped>\n",
              "    .dataframe tbody tr th:only-of-type {\n",
              "        vertical-align: middle;\n",
              "    }\n",
              "\n",
              "    .dataframe tbody tr th {\n",
              "        vertical-align: top;\n",
              "    }\n",
              "\n",
              "    .dataframe thead th {\n",
              "        text-align: right;\n",
              "    }\n",
              "</style>\n",
              "<table border=\"1\" class=\"dataframe\">\n",
              "  <thead>\n",
              "    <tr style=\"text-align: right;\">\n",
              "      <th></th>\n",
              "      <th>High</th>\n",
              "      <th>Low</th>\n",
              "      <th>Open</th>\n",
              "      <th>Close</th>\n",
              "      <th>Volume</th>\n",
              "      <th>Adj Close</th>\n",
              "    </tr>\n",
              "    <tr>\n",
              "      <th>Date</th>\n",
              "      <th></th>\n",
              "      <th></th>\n",
              "      <th></th>\n",
              "      <th></th>\n",
              "      <th></th>\n",
              "      <th></th>\n",
              "    </tr>\n",
              "  </thead>\n",
              "  <tbody>\n",
              "    <tr>\n",
              "      <th>2019-07-14</th>\n",
              "      <td>1.128599</td>\n",
              "      <td>1.125568</td>\n",
              "      <td>1.127180</td>\n",
              "      <td>1.127205</td>\n",
              "      <td>0</td>\n",
              "      <td>1.127205</td>\n",
              "    </tr>\n",
              "    <tr>\n",
              "      <th>2019-07-15</th>\n",
              "      <td>1.126634</td>\n",
              "      <td>1.120900</td>\n",
              "      <td>1.126088</td>\n",
              "      <td>1.126177</td>\n",
              "      <td>0</td>\n",
              "      <td>1.126177</td>\n",
              "    </tr>\n",
              "    <tr>\n",
              "      <th>2019-07-16</th>\n",
              "      <td>1.123343</td>\n",
              "      <td>1.120109</td>\n",
              "      <td>1.121328</td>\n",
              "      <td>1.121227</td>\n",
              "      <td>0</td>\n",
              "      <td>1.121227</td>\n",
              "    </tr>\n",
              "    <tr>\n",
              "      <th>2019-07-17</th>\n",
              "      <td>1.124733</td>\n",
              "      <td>1.120624</td>\n",
              "      <td>1.122776</td>\n",
              "      <td>1.122965</td>\n",
              "      <td>0</td>\n",
              "      <td>1.122965</td>\n",
              "    </tr>\n",
              "    <tr>\n",
              "      <th>2019-07-18</th>\n",
              "      <td>1.127142</td>\n",
              "      <td>1.121504</td>\n",
              "      <td>1.126152</td>\n",
              "      <td>1.126152</td>\n",
              "      <td>0</td>\n",
              "      <td>1.126152</td>\n",
              "    </tr>\n",
              "    <tr>\n",
              "      <th>...</th>\n",
              "      <td>...</td>\n",
              "      <td>...</td>\n",
              "      <td>...</td>\n",
              "      <td>...</td>\n",
              "      <td>...</td>\n",
              "      <td>...</td>\n",
              "    </tr>\n",
              "    <tr>\n",
              "      <th>2020-07-06</th>\n",
              "      <td>1.133658</td>\n",
              "      <td>1.126037</td>\n",
              "      <td>1.131030</td>\n",
              "      <td>1.131286</td>\n",
              "      <td>0</td>\n",
              "      <td>1.131286</td>\n",
              "    </tr>\n",
              "    <tr>\n",
              "      <th>2020-07-07</th>\n",
              "      <td>1.134559</td>\n",
              "      <td>1.126519</td>\n",
              "      <td>1.127281</td>\n",
              "      <td>1.127523</td>\n",
              "      <td>0</td>\n",
              "      <td>1.127523</td>\n",
              "    </tr>\n",
              "    <tr>\n",
              "      <th>2020-07-08</th>\n",
              "      <td>1.137268</td>\n",
              "      <td>1.128796</td>\n",
              "      <td>1.133787</td>\n",
              "      <td>1.133915</td>\n",
              "      <td>0</td>\n",
              "      <td>1.133915</td>\n",
              "    </tr>\n",
              "    <tr>\n",
              "      <th>2020-07-09</th>\n",
              "      <td>1.132477</td>\n",
              "      <td>1.125720</td>\n",
              "      <td>1.128923</td>\n",
              "      <td>1.128796</td>\n",
              "      <td>0</td>\n",
              "      <td>1.128796</td>\n",
              "    </tr>\n",
              "    <tr>\n",
              "      <th>2020-07-13</th>\n",
              "      <td>1.133658</td>\n",
              "      <td>1.129561</td>\n",
              "      <td>1.129688</td>\n",
              "      <td>1.133273</td>\n",
              "      <td>0</td>\n",
              "      <td>1.133273</td>\n",
              "    </tr>\n",
              "  </tbody>\n",
              "</table>\n",
              "<p>261 rows × 6 columns</p>\n",
              "</div>"
            ],
            "text/plain": [
              "                High       Low      Open     Close  Volume  Adj Close\n",
              "Date                                                                 \n",
              "2019-07-14  1.128599  1.125568  1.127180  1.127205       0   1.127205\n",
              "2019-07-15  1.126634  1.120900  1.126088  1.126177       0   1.126177\n",
              "2019-07-16  1.123343  1.120109  1.121328  1.121227       0   1.121227\n",
              "2019-07-17  1.124733  1.120624  1.122776  1.122965       0   1.122965\n",
              "2019-07-18  1.127142  1.121504  1.126152  1.126152       0   1.126152\n",
              "...              ...       ...       ...       ...     ...        ...\n",
              "2020-07-06  1.133658  1.126037  1.131030  1.131286       0   1.131286\n",
              "2020-07-07  1.134559  1.126519  1.127281  1.127523       0   1.127523\n",
              "2020-07-08  1.137268  1.128796  1.133787  1.133915       0   1.133915\n",
              "2020-07-09  1.132477  1.125720  1.128923  1.128796       0   1.128796\n",
              "2020-07-13  1.133658  1.129561  1.129688  1.133273       0   1.133273\n",
              "\n",
              "[261 rows x 6 columns]"
            ]
          },
          "metadata": {
            "tags": []
          },
          "execution_count": 4
        }
      ]
    },
    {
      "cell_type": "code",
      "metadata": {
        "id": "4j3r_xP0QDIK",
        "colab_type": "code",
        "colab": {
          "base_uri": "https://localhost:8080/",
          "height": 34
        },
        "outputId": "51f00910-6d2c-4e8b-8948-1dce2871cf78"
      },
      "source": [
        "# number of rows and column in the dataset\n",
        "df.shape"
      ],
      "execution_count": 5,
      "outputs": [
        {
          "output_type": "execute_result",
          "data": {
            "text/plain": [
              "(261, 6)"
            ]
          },
          "metadata": {
            "tags": []
          },
          "execution_count": 5
        }
      ]
    },
    {
      "cell_type": "code",
      "metadata": {
        "id": "WzX--v_1R-Vp",
        "colab_type": "code",
        "colab": {
          "base_uri": "https://localhost:8080/",
          "height": 558
        },
        "outputId": "60aa3a34-ee27-4869-a1b0-ad9931710a08"
      },
      "source": [
        "# our dataframe has 260 rows and 6 column except index column\n",
        "# Visualizing data specially the closing price, because we are gonna built iur model on closed price\n",
        "plt.figure(figsize = (16,8))\n",
        "plt.title('Closed Price History')\n",
        "plt.plot(df['Close'])\n",
        "plt.xlabel('Date', fontsize=18)\n",
        "plt.ylabel('Closed Price EURUSD', fontsize=18)\n",
        "plt.show()"
      ],
      "execution_count": 6,
      "outputs": [
        {
          "output_type": "display_data",
          "data": {
            "image/png": "[encoded data removed]",
            "text/plain": [
              "<Figure size 1152x576 with 1 Axes>"
            ]
          },
          "metadata": {
            "tags": []
          }
        }
      ]
    },
    {
      "cell_type": "code",
      "metadata": {
        "id": "CecplVWgUik9",
        "colab_type": "code",
        "colab": {
          "base_uri": "https://localhost:8080/",
          "height": 34
        },
        "outputId": "4473941b-7bcc-404f-fef5-f330161cf638"
      },
      "source": [
        "# creating a new dataframe only with close price column\n",
        "newdf = df.filter(['Close'])\n",
        "# now, converting the new dataframe to numpy array\n",
        "dataset = newdf.values\n",
        "# dataset.shape\n",
        "# taking the number of rows to train the model\n",
        "training_data_len = math.ceil( len(dataset) *0.8)\n",
        "# using math.ceil to roundup number\n",
        "training_data_len"
      ],
      "execution_count": 7,
      "outputs": [
        {
          "output_type": "execute_result",
          "data": {
            "text/plain": [
              "209"
            ]
          },
          "metadata": {
            "tags": []
          },
          "execution_count": 7
        }
      ]
    },
    {
      "cell_type": "code",
      "metadata": {
        "id": "MwCMRiqgYydl",
        "colab_type": "code",
        "colab": {}
      },
      "source": [
        "# Scaling the data before presenting it to the neural network\n",
        "# because scaling or normalization of input data is always a good practice\n",
        "scaler = MinMaxScaler(feature_range=(0, 1))\n",
        "# transform the data to value between 0 and 1\n",
        "# Scaled_data will hold the data that is been scaled\n",
        "scaled_data = scaler.fit_transform(dataset)\n",
        "# scaled_data"
      ],
      "execution_count": 10,
      "outputs": []
    },
    {
      "cell_type": "code",
      "metadata": {
        "id": "md_lEq8WpdoD",
        "colab_type": "code",
        "colab": {
          "base_uri": "https://localhost:8080/",
          "height": 255
        },
        "outputId": "02ba6739-1521-4df1-c8b2-09d961a49faa"
      },
      "source": [
        "# Creating the training dataset\n",
        "# first we create scaled training dataset\n",
        "train_data = scaled_data[0:training_data_len, :]\n",
        "# this will capture index 0 to training_data_len and return all column\n",
        "# now we will split the data into x_train, y_train dataset\n",
        "x_train = [] # independent data\n",
        "y_train = [] # dependent data, deends on x_train\n",
        "\n",
        "for data in range(60, len(train_data)):\n",
        "  x_train.append(train_data[data-60:data, 0])\n",
        "  y_train.append(train_data[data,0])\n",
        "  if data<=60:\n",
        "    print(x_train)\n",
        "    print(y_train)\n",
        "    print()"
      ],
      "execution_count": 14,
      "outputs": [
        {
          "output_type": "stream",
          "text": [
            "[array([0.82999422, 0.81610983, 0.74927769, 0.77273759, 0.81576859,\n",
            "       0.7574287 , 0.74096412, 0.66689201, 0.65498098, 0.66001098,\n",
            "       0.64108049, 0.65581958, 0.67596371, 0.55953502, 0.5691411 ,\n",
            "       0.60852154, 0.79183225, 0.74215039, 0.73858996, 0.7154037 ,\n",
            "       0.74418492, 0.7574287 , 0.70172855, 0.65615438, 0.61602226,\n",
            "       0.58938663, 0.5749437 , 0.59470635, 0.58523387, 0.57610422,\n",
            "       0.65581958, 0.60269318, 0.58423753, 0.57859266, 0.54630573,\n",
            "       0.45157604, 0.42015829, 0.42828515, 0.50988052, 0.51168971,\n",
            "       0.49050417, 0.5279885 , 0.53062502, 0.48083371, 0.54134978,\n",
            "       0.57527528, 0.47068841, 0.56350751, 0.50511289, 0.52815268,\n",
            "       0.48837307, 0.45418681, 0.48542106, 0.39907094, 0.35836259,\n",
            "       0.3853137 , 0.32717662, 0.37481268, 0.41366195, 0.42942314])]\n",
            "[0.444564627788429]\n",
            "\n"
          ],
          "name": "stdout"
        }
      ]
    },
    {
      "cell_type": "code",
      "metadata": {
        "id": "h9Fip5L-0Of0",
        "colab_type": "code",
        "colab": {}
      },
      "source": [
        "# above the first dataset is our x_training dataset which contains past 60 values,\n",
        "# and below the single row is our y_training dataset that we will predict depending on 60 values of x_train dataset"
      ],
      "execution_count": null,
      "outputs": []
    },
    {
      "cell_type": "code",
      "metadata": {
        "id": "OztnZxV45VH1",
        "colab_type": "code",
        "colab": {}
      },
      "source": [
        "# now converting the x_train and y_train dataset to numpy array so that we can use them to train the LSTM model\n",
        "x_train, y_train = np.array(x_train), np.array(y_train)"
      ],
      "execution_count": 20,
      "outputs": []
    },
    {
      "cell_type": "code",
      "metadata": {
        "id": "Z4oHgSnt6TJD",
        "colab_type": "code",
        "colab": {
          "base_uri": "https://localhost:8080/",
          "height": 34
        },
        "outputId": "abd1e649-c42c-4f0c-a46c-42d0a2ced215"
      },
      "source": [
        "# right now our data is two-dimentional, so we need to reshape the data,\n",
        "# the reason of reshaping is that the LSTM network expect data to be three dimentional in the form of -\n",
        "# number of samples, number of time steps, and number of features\n",
        "x_train = np.reshape(x_train, (x_train.shape[0], x_train.shape[1], 1))\n",
        "x_train.shape"
      ],
      "execution_count": 18,
      "outputs": [
        {
          "output_type": "execute_result",
          "data": {
            "text/plain": [
              "(149, 60, 1)"
            ]
          },
          "metadata": {
            "tags": []
          },
          "execution_count": 18
        }
      ]
    },
    {
      "cell_type": "code",
      "metadata": {
        "id": "O1GL6iqoIW0U",
        "colab_type": "code",
        "colab": {}
      },
      "source": [
        "# Building LSTM Model\n",
        "model = Sequential()\n",
        "model.add(LSTM(50, return_sequences=True, input_shape = (x_train.shape[1], 1)))\n",
        "model.add(LSTM(50, return_sequences=False))\n",
        "model.add(Dense(25))\n",
        "model.add(Dense(1))"
      ],
      "execution_count": 22,
      "outputs": []
    },
    {
      "cell_type": "code",
      "metadata": {
        "id": "An1eALpnKmLD",
        "colab_type": "code",
        "colab": {}
      },
      "source": [
        "# We will compile our model\n"
      ],
      "execution_count": null,
      "outputs": []
    }
  ]
}