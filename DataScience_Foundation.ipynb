{
  "nbformat": 4,
  "nbformat_minor": 0,
  "metadata": {
    "colab": {
      "name": "DataScience_Foundation.ipynb",
      "provenance": [],
      "collapsed_sections": [],
      "authorship_tag": "ABX9TyNf+diXYYfArvj0eRxuMCn3",
      "include_colab_link": true
    },
    "kernelspec": {
      "name": "python3",
      "display_name": "Python 3"
    }
  },
  "cells": [
    {
      "cell_type": "markdown",
      "metadata": {
        "id": "view-in-github",
        "colab_type": "text"
      },
      "source": [
        "<a href=\"https://colab.research.google.com/github/abidshafee/google.colaboratory_projects/blob/master/DataScience_Foundation.ipynb\" target=\"_parent\"><img src=\"https://colab.research.google.com/assets/colab-badge.svg\" alt=\"Open In Colab\"/></a>"
      ]
    },
    {
      "cell_type": "markdown",
      "metadata": {
        "id": "RImcYgCvb476",
        "colab_type": "text"
      },
      "source": [
        "# Data reduction or Dimentionality reduction"
      ]
    },
    {
      "cell_type": "code",
      "metadata": {
        "id": "dKu2O-T-7LFk",
        "colab_type": "code",
        "colab": {}
      },
      "source": [
        "import pandas as pd\n",
        "import numpy as np\n",
        "from sklearn.preprocessing import scale\n",
        "from sklearn.decomposition import PCA"
      ],
      "execution_count": 1,
      "outputs": []
    },
    {
      "cell_type": "code",
      "metadata": {
        "id": "pY12VeoN7zfP",
        "colab_type": "code",
        "colab": {
          "resources": {
            "http://localhost:8080/nbextensions/google.colab/files.js": {
              "data": "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",
              "ok": true,
              "headers": [
                [
                  "content-type",
                  "application/javascript"
                ]
              ],
              "status": 200,
              "status_text": ""
            }
          },
          "base_uri": "https://localhost:8080/",
          "height": 72
        },
        "outputId": "75e8df18-00cf-4604-9fcf-81c92ef71775"
      },
      "source": [
        "from google.colab import files\n",
        "uploaded = files.upload()"
      ],
      "execution_count": 5,
      "outputs": [
        {
          "output_type": "display_data",
          "data": {
            "text/html": [
              "\n",
              "     <input type=\"file\" id=\"files-e633194b-c47e-43ec-a9d8-6610352d6123\" name=\"files[]\" multiple disabled\n",
              "        style=\"border:none\" />\n",
              "     <output id=\"result-e633194b-c47e-43ec-a9d8-6610352d6123\">\n",
              "      Upload widget is only available when the cell has been executed in the\n",
              "      current browser session. Please rerun this cell to enable.\n",
              "      </output>\n",
              "      <script src=\"/nbextensions/google.colab/files.js\"></script> "
            ],
            "text/plain": [
              "<IPython.core.display.HTML object>"
            ]
          },
          "metadata": {
            "tags": []
          }
        },
        {
          "output_type": "stream",
          "text": [
            "Saving Game_Logs_Offensive_Line.csv to Game_Logs_Offensive_Line.csv\n"
          ],
          "name": "stdout"
        }
      ]
    },
    {
      "cell_type": "code",
      "metadata": {
        "id": "xzqc6xVD8H7e",
        "colab_type": "code",
        "colab": {}
      },
      "source": [
        "df = pd.read_csv('Game_Logs_Offensive_Line.csv')"
      ],
      "execution_count": 6,
      "outputs": []
    },
    {
      "cell_type": "code",
      "metadata": {
        "id": "r7t3m5FH_iNy",
        "colab_type": "code",
        "colab": {
          "base_uri": "https://localhost:8080/",
          "height": 572
        },
        "outputId": "9d0c4189-6d55-4869-8613-10ed2ddf193b"
      },
      "source": [
        "df"
      ],
      "execution_count": 7,
      "outputs": [
        {
          "output_type": "execute_result",
          "data": {
            "text/html": [
              "<div>\n",
              "<style scoped>\n",
              "    .dataframe tbody tr th:only-of-type {\n",
              "        vertical-align: middle;\n",
              "    }\n",
              "\n",
              "    .dataframe tbody tr th {\n",
              "        vertical-align: top;\n",
              "    }\n",
              "\n",
              "    .dataframe thead th {\n",
              "        text-align: right;\n",
              "    }\n",
              "</style>\n",
              "<table border=\"1\" class=\"dataframe\">\n",
              "  <thead>\n",
              "    <tr style=\"text-align: right;\">\n",
              "      <th></th>\n",
              "      <th>Player Id</th>\n",
              "      <th>Name</th>\n",
              "      <th>Position</th>\n",
              "      <th>Year</th>\n",
              "      <th>Season</th>\n",
              "      <th>Week</th>\n",
              "      <th>Game Date</th>\n",
              "      <th>Home or Away</th>\n",
              "      <th>Opponent</th>\n",
              "      <th>Outcome</th>\n",
              "      <th>Score</th>\n",
              "      <th>Games Played</th>\n",
              "      <th>Games Started</th>\n",
              "    </tr>\n",
              "  </thead>\n",
              "  <tbody>\n",
              "    <tr>\n",
              "      <th>0</th>\n",
              "      <td>jeffnady/2541732</td>\n",
              "      <td>Nady, Jeff</td>\n",
              "      <td>NaN</td>\n",
              "      <td>2013</td>\n",
              "      <td>Preseason</td>\n",
              "      <td>2</td>\n",
              "      <td>08/15</td>\n",
              "      <td>Away</td>\n",
              "      <td>BAL</td>\n",
              "      <td>L</td>\n",
              "      <td>23 to 27</td>\n",
              "      <td>0</td>\n",
              "      <td>0</td>\n",
              "    </tr>\n",
              "    <tr>\n",
              "      <th>1</th>\n",
              "      <td>chrisriley/2530729</td>\n",
              "      <td>Riley, Chris</td>\n",
              "      <td>NaN</td>\n",
              "      <td>2011</td>\n",
              "      <td>Preseason</td>\n",
              "      <td>1</td>\n",
              "      <td>08/12</td>\n",
              "      <td>Away</td>\n",
              "      <td>DET</td>\n",
              "      <td>L</td>\n",
              "      <td>3 to 34</td>\n",
              "      <td>1</td>\n",
              "      <td>0</td>\n",
              "    </tr>\n",
              "    <tr>\n",
              "      <th>2</th>\n",
              "      <td>chrisriley/2530729</td>\n",
              "      <td>Riley, Chris</td>\n",
              "      <td>NaN</td>\n",
              "      <td>2011</td>\n",
              "      <td>Preseason</td>\n",
              "      <td>2</td>\n",
              "      <td>08/21</td>\n",
              "      <td>Away</td>\n",
              "      <td>NYJ</td>\n",
              "      <td>L</td>\n",
              "      <td>7 to 27</td>\n",
              "      <td>1</td>\n",
              "      <td>0</td>\n",
              "    </tr>\n",
              "    <tr>\n",
              "      <th>3</th>\n",
              "      <td>chrisriley/2530729</td>\n",
              "      <td>Riley, Chris</td>\n",
              "      <td>NaN</td>\n",
              "      <td>2011</td>\n",
              "      <td>Preseason</td>\n",
              "      <td>3</td>\n",
              "      <td>08/25</td>\n",
              "      <td>Home</td>\n",
              "      <td>CAR</td>\n",
              "      <td>W</td>\n",
              "      <td>24 to 13</td>\n",
              "      <td>1</td>\n",
              "      <td>0</td>\n",
              "    </tr>\n",
              "    <tr>\n",
              "      <th>4</th>\n",
              "      <td>chrisriley/2530729</td>\n",
              "      <td>Riley, Chris</td>\n",
              "      <td>NaN</td>\n",
              "      <td>2011</td>\n",
              "      <td>Preseason</td>\n",
              "      <td>4</td>\n",
              "      <td>09/01</td>\n",
              "      <td>Home</td>\n",
              "      <td>IND</td>\n",
              "      <td>L</td>\n",
              "      <td>13 to 17</td>\n",
              "      <td>1</td>\n",
              "      <td>0</td>\n",
              "    </tr>\n",
              "    <tr>\n",
              "      <th>...</th>\n",
              "      <td>...</td>\n",
              "      <td>...</td>\n",
              "      <td>...</td>\n",
              "      <td>...</td>\n",
              "      <td>...</td>\n",
              "      <td>...</td>\n",
              "      <td>...</td>\n",
              "      <td>...</td>\n",
              "      <td>...</td>\n",
              "      <td>...</td>\n",
              "      <td>...</td>\n",
              "      <td>...</td>\n",
              "      <td>...</td>\n",
              "    </tr>\n",
              "    <tr>\n",
              "      <th>130044</th>\n",
              "      <td>stephengoodin/2535931</td>\n",
              "      <td>Goodin, Stephen</td>\n",
              "      <td>NaN</td>\n",
              "      <td>2013</td>\n",
              "      <td>Regular Season</td>\n",
              "      <td>17</td>\n",
              "      <td>12/29</td>\n",
              "      <td>Home</td>\n",
              "      <td>WAS</td>\n",
              "      <td>W</td>\n",
              "      <td>20 to 6</td>\n",
              "      <td>1</td>\n",
              "      <td>0</td>\n",
              "    </tr>\n",
              "    <tr>\n",
              "      <th>130045</th>\n",
              "      <td>stephengoodin/2535931</td>\n",
              "      <td>Goodin, Stephen</td>\n",
              "      <td>NaN</td>\n",
              "      <td>2012</td>\n",
              "      <td>Preseason</td>\n",
              "      <td>1</td>\n",
              "      <td>08/10</td>\n",
              "      <td>Away</td>\n",
              "      <td>JAC</td>\n",
              "      <td>L</td>\n",
              "      <td>31 to 32</td>\n",
              "      <td>1</td>\n",
              "      <td>0</td>\n",
              "    </tr>\n",
              "    <tr>\n",
              "      <th>130046</th>\n",
              "      <td>stephengoodin/2535931</td>\n",
              "      <td>Goodin, Stephen</td>\n",
              "      <td>NaN</td>\n",
              "      <td>2012</td>\n",
              "      <td>Preseason</td>\n",
              "      <td>2</td>\n",
              "      <td>08/18</td>\n",
              "      <td>Away</td>\n",
              "      <td>NYJ</td>\n",
              "      <td>W</td>\n",
              "      <td>26 to 3</td>\n",
              "      <td>1</td>\n",
              "      <td>0</td>\n",
              "    </tr>\n",
              "    <tr>\n",
              "      <th>130047</th>\n",
              "      <td>stephengoodin/2535931</td>\n",
              "      <td>Goodin, Stephen</td>\n",
              "      <td>NaN</td>\n",
              "      <td>2012</td>\n",
              "      <td>Preseason</td>\n",
              "      <td>3</td>\n",
              "      <td>08/24</td>\n",
              "      <td>Home</td>\n",
              "      <td>CHI</td>\n",
              "      <td>L</td>\n",
              "      <td>17 to 20</td>\n",
              "      <td>0</td>\n",
              "      <td>0</td>\n",
              "    </tr>\n",
              "    <tr>\n",
              "      <th>130048</th>\n",
              "      <td>stephengoodin/2535931</td>\n",
              "      <td>Goodin, Stephen</td>\n",
              "      <td>NaN</td>\n",
              "      <td>2012</td>\n",
              "      <td>Preseason</td>\n",
              "      <td>4</td>\n",
              "      <td>08/29</td>\n",
              "      <td>Home</td>\n",
              "      <td>NE</td>\n",
              "      <td>W</td>\n",
              "      <td>6 to 3</td>\n",
              "      <td>1</td>\n",
              "      <td>0</td>\n",
              "    </tr>\n",
              "  </tbody>\n",
              "</table>\n",
              "<p>130049 rows × 13 columns</p>\n",
              "</div>"
            ],
            "text/plain": [
              "                    Player Id             Name  ... Games Played  Games Started\n",
              "0            jeffnady/2541732       Nady, Jeff  ...            0              0\n",
              "1          chrisriley/2530729     Riley, Chris  ...            1              0\n",
              "2          chrisriley/2530729     Riley, Chris  ...            1              0\n",
              "3          chrisriley/2530729     Riley, Chris  ...            1              0\n",
              "4          chrisriley/2530729     Riley, Chris  ...            1              0\n",
              "...                       ...              ...  ...          ...            ...\n",
              "130044  stephengoodin/2535931  Goodin, Stephen  ...            1              0\n",
              "130045  stephengoodin/2535931  Goodin, Stephen  ...            1              0\n",
              "130046  stephengoodin/2535931  Goodin, Stephen  ...            1              0\n",
              "130047  stephengoodin/2535931  Goodin, Stephen  ...            0              0\n",
              "130048  stephengoodin/2535931  Goodin, Stephen  ...            1              0\n",
              "\n",
              "[130049 rows x 13 columns]"
            ]
          },
          "metadata": {
            "tags": []
          },
          "execution_count": 7
        }
      ]
    },
    {
      "cell_type": "code",
      "metadata": {
        "id": "kXw6UUPGqosM",
        "colab_type": "code",
        "colab": {}
      },
      "source": [
        "# list the column variable with the data\n",
        "ldf = list(df.columns.values)"
      ],
      "execution_count": 17,
      "outputs": []
    },
    {
      "cell_type": "code",
      "metadata": {
        "id": "pdvNXQ81_k3j",
        "colab_type": "code",
        "colab": {}
      },
      "source": [
        "# df['FirstName'] = df[['Name']].apply(lamda x: x.split(',')[0])\n",
        "# df['Name'].isnull().sum()\n",
        "\n",
        "'''\n",
        "You can use str.split to split the strings, then test the number of splits using str.\n",
        "len and use this as a boolean mask to assign just those rows with the last component of the split:\n",
        "'''\n",
        "# spliting LastName\n",
        "df.loc[df['Name'].str.split().str.len() == 2, 'LastName'] = df['Name'].str.split().str[-1]\n",
        "\n",
        "# splitting FirstName\n",
        "df.loc[df['Name'].str.split().str.len() == 2, 'FirstName'] = df['Name'].str.split().str[0]"
      ],
      "execution_count": 9,
      "outputs": []
    },
    {
      "cell_type": "code",
      "metadata": {
        "id": "mFKWymptAfpE",
        "colab_type": "code",
        "colab": {
          "base_uri": "https://localhost:8080/",
          "height": 606
        },
        "outputId": "ce74f853-7c65-4a46-91e3-2f685768ec72"
      },
      "source": [
        "df"
      ],
      "execution_count": 10,
      "outputs": [
        {
          "output_type": "execute_result",
          "data": {
            "text/html": [
              "<div>\n",
              "<style scoped>\n",
              "    .dataframe tbody tr th:only-of-type {\n",
              "        vertical-align: middle;\n",
              "    }\n",
              "\n",
              "    .dataframe tbody tr th {\n",
              "        vertical-align: top;\n",
              "    }\n",
              "\n",
              "    .dataframe thead th {\n",
              "        text-align: right;\n",
              "    }\n",
              "</style>\n",
              "<table border=\"1\" class=\"dataframe\">\n",
              "  <thead>\n",
              "    <tr style=\"text-align: right;\">\n",
              "      <th></th>\n",
              "      <th>Player Id</th>\n",
              "      <th>Name</th>\n",
              "      <th>Position</th>\n",
              "      <th>Year</th>\n",
              "      <th>Season</th>\n",
              "      <th>Week</th>\n",
              "      <th>Game Date</th>\n",
              "      <th>Home or Away</th>\n",
              "      <th>Opponent</th>\n",
              "      <th>Outcome</th>\n",
              "      <th>Score</th>\n",
              "      <th>Games Played</th>\n",
              "      <th>Games Started</th>\n",
              "      <th>LastName</th>\n",
              "      <th>FirstName</th>\n",
              "    </tr>\n",
              "  </thead>\n",
              "  <tbody>\n",
              "    <tr>\n",
              "      <th>0</th>\n",
              "      <td>jeffnady/2541732</td>\n",
              "      <td>Nady, Jeff</td>\n",
              "      <td>NaN</td>\n",
              "      <td>2013</td>\n",
              "      <td>Preseason</td>\n",
              "      <td>2</td>\n",
              "      <td>08/15</td>\n",
              "      <td>Away</td>\n",
              "      <td>BAL</td>\n",
              "      <td>L</td>\n",
              "      <td>23 to 27</td>\n",
              "      <td>0</td>\n",
              "      <td>0</td>\n",
              "      <td>Jeff</td>\n",
              "      <td>Nady,</td>\n",
              "    </tr>\n",
              "    <tr>\n",
              "      <th>1</th>\n",
              "      <td>chrisriley/2530729</td>\n",
              "      <td>Riley, Chris</td>\n",
              "      <td>NaN</td>\n",
              "      <td>2011</td>\n",
              "      <td>Preseason</td>\n",
              "      <td>1</td>\n",
              "      <td>08/12</td>\n",
              "      <td>Away</td>\n",
              "      <td>DET</td>\n",
              "      <td>L</td>\n",
              "      <td>3 to 34</td>\n",
              "      <td>1</td>\n",
              "      <td>0</td>\n",
              "      <td>Chris</td>\n",
              "      <td>Riley,</td>\n",
              "    </tr>\n",
              "    <tr>\n",
              "      <th>2</th>\n",
              "      <td>chrisriley/2530729</td>\n",
              "      <td>Riley, Chris</td>\n",
              "      <td>NaN</td>\n",
              "      <td>2011</td>\n",
              "      <td>Preseason</td>\n",
              "      <td>2</td>\n",
              "      <td>08/21</td>\n",
              "      <td>Away</td>\n",
              "      <td>NYJ</td>\n",
              "      <td>L</td>\n",
              "      <td>7 to 27</td>\n",
              "      <td>1</td>\n",
              "      <td>0</td>\n",
              "      <td>Chris</td>\n",
              "      <td>Riley,</td>\n",
              "    </tr>\n",
              "    <tr>\n",
              "      <th>3</th>\n",
              "      <td>chrisriley/2530729</td>\n",
              "      <td>Riley, Chris</td>\n",
              "      <td>NaN</td>\n",
              "      <td>2011</td>\n",
              "      <td>Preseason</td>\n",
              "      <td>3</td>\n",
              "      <td>08/25</td>\n",
              "      <td>Home</td>\n",
              "      <td>CAR</td>\n",
              "      <td>W</td>\n",
              "      <td>24 to 13</td>\n",
              "      <td>1</td>\n",
              "      <td>0</td>\n",
              "      <td>Chris</td>\n",
              "      <td>Riley,</td>\n",
              "    </tr>\n",
              "    <tr>\n",
              "      <th>4</th>\n",
              "      <td>chrisriley/2530729</td>\n",
              "      <td>Riley, Chris</td>\n",
              "      <td>NaN</td>\n",
              "      <td>2011</td>\n",
              "      <td>Preseason</td>\n",
              "      <td>4</td>\n",
              "      <td>09/01</td>\n",
              "      <td>Home</td>\n",
              "      <td>IND</td>\n",
              "      <td>L</td>\n",
              "      <td>13 to 17</td>\n",
              "      <td>1</td>\n",
              "      <td>0</td>\n",
              "      <td>Chris</td>\n",
              "      <td>Riley,</td>\n",
              "    </tr>\n",
              "    <tr>\n",
              "      <th>...</th>\n",
              "      <td>...</td>\n",
              "      <td>...</td>\n",
              "      <td>...</td>\n",
              "      <td>...</td>\n",
              "      <td>...</td>\n",
              "      <td>...</td>\n",
              "      <td>...</td>\n",
              "      <td>...</td>\n",
              "      <td>...</td>\n",
              "      <td>...</td>\n",
              "      <td>...</td>\n",
              "      <td>...</td>\n",
              "      <td>...</td>\n",
              "      <td>...</td>\n",
              "      <td>...</td>\n",
              "    </tr>\n",
              "    <tr>\n",
              "      <th>130044</th>\n",
              "      <td>stephengoodin/2535931</td>\n",
              "      <td>Goodin, Stephen</td>\n",
              "      <td>NaN</td>\n",
              "      <td>2013</td>\n",
              "      <td>Regular Season</td>\n",
              "      <td>17</td>\n",
              "      <td>12/29</td>\n",
              "      <td>Home</td>\n",
              "      <td>WAS</td>\n",
              "      <td>W</td>\n",
              "      <td>20 to 6</td>\n",
              "      <td>1</td>\n",
              "      <td>0</td>\n",
              "      <td>Stephen</td>\n",
              "      <td>Goodin,</td>\n",
              "    </tr>\n",
              "    <tr>\n",
              "      <th>130045</th>\n",
              "      <td>stephengoodin/2535931</td>\n",
              "      <td>Goodin, Stephen</td>\n",
              "      <td>NaN</td>\n",
              "      <td>2012</td>\n",
              "      <td>Preseason</td>\n",
              "      <td>1</td>\n",
              "      <td>08/10</td>\n",
              "      <td>Away</td>\n",
              "      <td>JAC</td>\n",
              "      <td>L</td>\n",
              "      <td>31 to 32</td>\n",
              "      <td>1</td>\n",
              "      <td>0</td>\n",
              "      <td>Stephen</td>\n",
              "      <td>Goodin,</td>\n",
              "    </tr>\n",
              "    <tr>\n",
              "      <th>130046</th>\n",
              "      <td>stephengoodin/2535931</td>\n",
              "      <td>Goodin, Stephen</td>\n",
              "      <td>NaN</td>\n",
              "      <td>2012</td>\n",
              "      <td>Preseason</td>\n",
              "      <td>2</td>\n",
              "      <td>08/18</td>\n",
              "      <td>Away</td>\n",
              "      <td>NYJ</td>\n",
              "      <td>W</td>\n",
              "      <td>26 to 3</td>\n",
              "      <td>1</td>\n",
              "      <td>0</td>\n",
              "      <td>Stephen</td>\n",
              "      <td>Goodin,</td>\n",
              "    </tr>\n",
              "    <tr>\n",
              "      <th>130047</th>\n",
              "      <td>stephengoodin/2535931</td>\n",
              "      <td>Goodin, Stephen</td>\n",
              "      <td>NaN</td>\n",
              "      <td>2012</td>\n",
              "      <td>Preseason</td>\n",
              "      <td>3</td>\n",
              "      <td>08/24</td>\n",
              "      <td>Home</td>\n",
              "      <td>CHI</td>\n",
              "      <td>L</td>\n",
              "      <td>17 to 20</td>\n",
              "      <td>0</td>\n",
              "      <td>0</td>\n",
              "      <td>Stephen</td>\n",
              "      <td>Goodin,</td>\n",
              "    </tr>\n",
              "    <tr>\n",
              "      <th>130048</th>\n",
              "      <td>stephengoodin/2535931</td>\n",
              "      <td>Goodin, Stephen</td>\n",
              "      <td>NaN</td>\n",
              "      <td>2012</td>\n",
              "      <td>Preseason</td>\n",
              "      <td>4</td>\n",
              "      <td>08/29</td>\n",
              "      <td>Home</td>\n",
              "      <td>NE</td>\n",
              "      <td>W</td>\n",
              "      <td>6 to 3</td>\n",
              "      <td>1</td>\n",
              "      <td>0</td>\n",
              "      <td>Stephen</td>\n",
              "      <td>Goodin,</td>\n",
              "    </tr>\n",
              "  </tbody>\n",
              "</table>\n",
              "<p>130049 rows × 15 columns</p>\n",
              "</div>"
            ],
            "text/plain": [
              "                    Player Id             Name  ... LastName  FirstName\n",
              "0            jeffnady/2541732       Nady, Jeff  ...     Jeff      Nady,\n",
              "1          chrisriley/2530729     Riley, Chris  ...    Chris     Riley,\n",
              "2          chrisriley/2530729     Riley, Chris  ...    Chris     Riley,\n",
              "3          chrisriley/2530729     Riley, Chris  ...    Chris     Riley,\n",
              "4          chrisriley/2530729     Riley, Chris  ...    Chris     Riley,\n",
              "...                       ...              ...  ...      ...        ...\n",
              "130044  stephengoodin/2535931  Goodin, Stephen  ...  Stephen    Goodin,\n",
              "130045  stephengoodin/2535931  Goodin, Stephen  ...  Stephen    Goodin,\n",
              "130046  stephengoodin/2535931  Goodin, Stephen  ...  Stephen    Goodin,\n",
              "130047  stephengoodin/2535931  Goodin, Stephen  ...  Stephen    Goodin,\n",
              "130048  stephengoodin/2535931  Goodin, Stephen  ...  Stephen    Goodin,\n",
              "\n",
              "[130049 rows x 15 columns]"
            ]
          },
          "metadata": {
            "tags": []
          },
          "execution_count": 10
        }
      ]
    },
    {
      "cell_type": "code",
      "metadata": {
        "id": "t_7_V9HWGz5R",
        "colab_type": "code",
        "colab": {
          "base_uri": "https://localhost:8080/",
          "height": 297
        },
        "outputId": "7ae232b7-1782-4ad4-9dec-7223ff29d5cd"
      },
      "source": [
        "# converting dataframe to numpy object using 'values' attributes \n",
        "x = df.values\n",
        "df.describe()"
      ],
      "execution_count": 14,
      "outputs": [
        {
          "output_type": "execute_result",
          "data": {
            "text/html": [
              "<div>\n",
              "<style scoped>\n",
              "    .dataframe tbody tr th:only-of-type {\n",
              "        vertical-align: middle;\n",
              "    }\n",
              "\n",
              "    .dataframe tbody tr th {\n",
              "        vertical-align: top;\n",
              "    }\n",
              "\n",
              "    .dataframe thead th {\n",
              "        text-align: right;\n",
              "    }\n",
              "</style>\n",
              "<table border=\"1\" class=\"dataframe\">\n",
              "  <thead>\n",
              "    <tr style=\"text-align: right;\">\n",
              "      <th></th>\n",
              "      <th>Year</th>\n",
              "      <th>Week</th>\n",
              "      <th>Games Played</th>\n",
              "    </tr>\n",
              "  </thead>\n",
              "  <tbody>\n",
              "    <tr>\n",
              "      <th>count</th>\n",
              "      <td>130049.000000</td>\n",
              "      <td>130049.000000</td>\n",
              "      <td>130049.000000</td>\n",
              "    </tr>\n",
              "    <tr>\n",
              "      <th>mean</th>\n",
              "      <td>1998.308707</td>\n",
              "      <td>8.481226</td>\n",
              "      <td>0.854539</td>\n",
              "    </tr>\n",
              "    <tr>\n",
              "      <th>std</th>\n",
              "      <td>13.607618</td>\n",
              "      <td>5.329845</td>\n",
              "      <td>0.352566</td>\n",
              "    </tr>\n",
              "    <tr>\n",
              "      <th>min</th>\n",
              "      <td>1970.000000</td>\n",
              "      <td>0.000000</td>\n",
              "      <td>0.000000</td>\n",
              "    </tr>\n",
              "    <tr>\n",
              "      <th>25%</th>\n",
              "      <td>1987.000000</td>\n",
              "      <td>4.000000</td>\n",
              "      <td>1.000000</td>\n",
              "    </tr>\n",
              "    <tr>\n",
              "      <th>50%</th>\n",
              "      <td>2001.000000</td>\n",
              "      <td>8.000000</td>\n",
              "      <td>1.000000</td>\n",
              "    </tr>\n",
              "    <tr>\n",
              "      <th>75%</th>\n",
              "      <td>2010.000000</td>\n",
              "      <td>13.000000</td>\n",
              "      <td>1.000000</td>\n",
              "    </tr>\n",
              "    <tr>\n",
              "      <th>max</th>\n",
              "      <td>2016.000000</td>\n",
              "      <td>23.000000</td>\n",
              "      <td>1.000000</td>\n",
              "    </tr>\n",
              "  </tbody>\n",
              "</table>\n",
              "</div>"
            ],
            "text/plain": [
              "                Year           Week   Games Played\n",
              "count  130049.000000  130049.000000  130049.000000\n",
              "mean     1998.308707       8.481226       0.854539\n",
              "std        13.607618       5.329845       0.352566\n",
              "min      1970.000000       0.000000       0.000000\n",
              "25%      1987.000000       4.000000       1.000000\n",
              "50%      2001.000000       8.000000       1.000000\n",
              "75%      2010.000000      13.000000       1.000000\n",
              "max      2016.000000      23.000000       1.000000"
            ]
          },
          "metadata": {
            "tags": []
          },
          "execution_count": 14
        }
      ]
    },
    {
      "cell_type": "code",
      "metadata": {
        "id": "mA03wcNQQZ4Q",
        "colab_type": "code",
        "colab": {
          "base_uri": "https://localhost:8080/",
          "height": 391
        },
        "outputId": "47b77790-1d59-4350-cc0d-1e1d6ac4d5f9"
      },
      "source": [
        "df.info()"
      ],
      "execution_count": 12,
      "outputs": [
        {
          "output_type": "stream",
          "text": [
            "<class 'pandas.core.frame.DataFrame'>\n",
            "RangeIndex: 130049 entries, 0 to 130048\n",
            "Data columns (total 15 columns):\n",
            " #   Column         Non-Null Count   Dtype \n",
            "---  ------         --------------   ----- \n",
            " 0   Player Id      130049 non-null  object\n",
            " 1   Name           130049 non-null  object\n",
            " 2   Position       28678 non-null   object\n",
            " 3   Year           130049 non-null  int64 \n",
            " 4   Season         130049 non-null  object\n",
            " 5   Week           130049 non-null  int64 \n",
            " 6   Game Date      130049 non-null  object\n",
            " 7   Home or Away   130049 non-null  object\n",
            " 8   Opponent       130049 non-null  object\n",
            " 9   Outcome        130049 non-null  object\n",
            " 10  Score          130049 non-null  object\n",
            " 11  Games Played   130049 non-null  int64 \n",
            " 12  Games Started  130049 non-null  object\n",
            " 13  LastName       128977 non-null  object\n",
            " 14  FirstName      128977 non-null  object\n",
            "dtypes: int64(3), object(12)\n",
            "memory usage: 14.9+ MB\n"
          ],
          "name": "stdout"
        }
      ]
    },
    {
      "cell_type": "code",
      "metadata": {
        "id": "wpF7aH1Vbv9C",
        "colab_type": "code",
        "colab": {
          "base_uri": "https://localhost:8080/",
          "height": 221
        },
        "outputId": "9a42c6d3-482a-4733-aedd-d3eaf14df5c3"
      },
      "source": [
        "x"
      ],
      "execution_count": 15,
      "outputs": [
        {
          "output_type": "execute_result",
          "data": {
            "text/plain": [
              "array([['jeffnady/2541732', 'Nady, Jeff', nan, ..., '0', 'Jeff', 'Nady,'],\n",
              "       ['chrisriley/2530729', 'Riley, Chris', nan, ..., '0', 'Chris',\n",
              "        'Riley,'],\n",
              "       ['chrisriley/2530729', 'Riley, Chris', nan, ..., '0', 'Chris',\n",
              "        'Riley,'],\n",
              "       ...,\n",
              "       ['stephengoodin/2535931', 'Goodin, Stephen', nan, ..., '0',\n",
              "        'Stephen', 'Goodin,'],\n",
              "       ['stephengoodin/2535931', 'Goodin, Stephen', nan, ..., '0',\n",
              "        'Stephen', 'Goodin,'],\n",
              "       ['stephengoodin/2535931', 'Goodin, Stephen', nan, ..., '0',\n",
              "        'Stephen', 'Goodin,']], dtype=object)"
            ]
          },
          "metadata": {
            "tags": []
          },
          "execution_count": 15
        }
      ]
    },
    {
      "cell_type": "code",
      "metadata": {
        "id": "GcmeGYUWbxr6",
        "colab_type": "code",
        "colab": {
          "base_uri": "https://localhost:8080/",
          "height": 289
        },
        "outputId": "56256c8e-2ea3-4c1d-a723-03fcd8c1e185"
      },
      "source": [
        "df.isna().sum()"
      ],
      "execution_count": null,
      "outputs": [
        {
          "output_type": "execute_result",
          "data": {
            "text/plain": [
              "Player Id             0\n",
              "Name                  0\n",
              "Position         101371\n",
              "Year                  0\n",
              "Season                0\n",
              "Week                  0\n",
              "Game Date             0\n",
              "Home or Away          0\n",
              "Opponent              0\n",
              "Outcome               0\n",
              "Score                 0\n",
              "Games Played          0\n",
              "Games Started         0\n",
              "LastName           1072\n",
              "FirstName          1072\n",
              "dtype: int64"
            ]
          },
          "metadata": {
            "tags": []
          },
          "execution_count": 25
        }
      ]
    },
    {
      "cell_type": "markdown",
      "metadata": {
        "id": "dHkzfX5TBWrh",
        "colab_type": "text"
      },
      "source": [
        "## Statistical Function in NumPy\n",
        "### x = [1, 2, 3, 4, 5, 6, 7, 8, 9, 10]\n",
        " - **a = np.arrange(x)**\\\n",
        " - **b = np.median(x)**\\\n",
        " - **c = np.average(x)**\n",
        " - **d = np.mean(x)**\n",
        " - **e = np.std(a) #standard deviation**\n",
        " - **d = np.var(a) #varience**\n",
        " - **np.histogram(a)**"
      ]
    },
    {
      "cell_type": "code",
      "metadata": {
        "id": "ZWJIzo7h_F44",
        "colab_type": "code",
        "colab": {}
      },
      "source": [
        ""
      ],
      "execution_count": null,
      "outputs": []
    }
  ]
}