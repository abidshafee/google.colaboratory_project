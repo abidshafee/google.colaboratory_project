{
  "nbformat": 4,
  "nbformat_minor": 0,
  "metadata": {
    "colab": {
      "name": "Price-Prediction Model using SVM and LR",
      "provenance": [],
      "collapsed_sections": [],
      "authorship_tag": "ABX9TyO+XZZGNAdFKePqttryDdAn",
      "include_colab_link": true
    },
    "kernelspec": {
      "name": "python3",
      "display_name": "Python 3"
    }
  },
  "cells": [
    {
      "cell_type": "markdown",
      "metadata": {
        "id": "view-in-github",
        "colab_type": "text"
      },
      "source": [
        "<a href=\"https://colab.research.google.com/github/abidshafee/google.colaboratory_projects/blob/master/Price_Prediction_Model_using_SVM_and_LR.ipynb\" target=\"_parent\"><img src=\"https://colab.research.google.com/assets/colab-badge.svg\" alt=\"Open In Colab\"/></a>"
      ]
    },
    {
      "cell_type": "markdown",
      "metadata": {
        "id": "ykxQ9Eo6fFgE",
        "colab_type": "text"
      },
      "source": [
        "# A Program to predict asset price"
      ]
    },
    {
      "cell_type": "code",
      "metadata": {
        "id": "B4yuchLXelIf",
        "colab_type": "code",
        "colab": {
          "base_uri": "https://localhost:8080/",
          "height": 71
        },
        "outputId": "e77c3d8f-9bd9-4e81-f61c-3d4f66d2b3b0"
      },
      "source": [
        "# import quandl\n",
        "import pandas_datareader as web\n",
        "import numpy as np\n",
        "import pandas as pd\n",
        "from sklearn.linear_model import LinearRegression\n",
        "from sklearn.svm import SVR\n",
        "from sklearn.model_selection import train_test_split"
      ],
      "execution_count": 9,
      "outputs": [
        {
          "output_type": "stream",
          "text": [
            "/usr/local/lib/python3.6/dist-packages/pandas_datareader/compat/__init__.py:7: FutureWarning: pandas.util.testing is deprecated. Use the functions in the public API at pandas.testing instead.\n",
            "  from pandas.util.testing import assert_frame_equal\n"
          ],
          "name": "stderr"
        }
      ]
    },
    {
      "cell_type": "code",
      "metadata": {
        "id": "akdBZWdIMu0W",
        "colab_type": "code",
        "colab": {
          "base_uri": "https://localhost:8080/",
          "height": 235
        },
        "outputId": "33afeb6d-50c7-45df-8f7d-67d4eafb64ab"
      },
      "source": [
        "# geting the eurousd quotes\n",
        "df = web.DataReader('EURUSD=X', data_source='yahoo', start='2012-01-1', end='2020-7-14')\n",
        "# view data\n",
        "df.tail()"
      ],
      "execution_count": 13,
      "outputs": [
        {
          "output_type": "execute_result",
          "data": {
            "text/html": [
              "<div>\n",
              "<style scoped>\n",
              "    .dataframe tbody tr th:only-of-type {\n",
              "        vertical-align: middle;\n",
              "    }\n",
              "\n",
              "    .dataframe tbody tr th {\n",
              "        vertical-align: top;\n",
              "    }\n",
              "\n",
              "    .dataframe thead th {\n",
              "        text-align: right;\n",
              "    }\n",
              "</style>\n",
              "<table border=\"1\" class=\"dataframe\">\n",
              "  <thead>\n",
              "    <tr style=\"text-align: right;\">\n",
              "      <th></th>\n",
              "      <th>High</th>\n",
              "      <th>Low</th>\n",
              "      <th>Open</th>\n",
              "      <th>Close</th>\n",
              "      <th>Volume</th>\n",
              "      <th>Adj Close</th>\n",
              "    </tr>\n",
              "    <tr>\n",
              "      <th>Date</th>\n",
              "      <th></th>\n",
              "      <th></th>\n",
              "      <th></th>\n",
              "      <th></th>\n",
              "      <th></th>\n",
              "      <th></th>\n",
              "    </tr>\n",
              "  </thead>\n",
              "  <tbody>\n",
              "    <tr>\n",
              "      <th>2020-07-07</th>\n",
              "      <td>1.134559</td>\n",
              "      <td>1.126519</td>\n",
              "      <td>1.127281</td>\n",
              "      <td>1.127523</td>\n",
              "      <td>0.0</td>\n",
              "      <td>1.127523</td>\n",
              "    </tr>\n",
              "    <tr>\n",
              "      <th>2020-07-08</th>\n",
              "      <td>1.137268</td>\n",
              "      <td>1.128796</td>\n",
              "      <td>1.133787</td>\n",
              "      <td>1.133915</td>\n",
              "      <td>0.0</td>\n",
              "      <td>1.133915</td>\n",
              "    </tr>\n",
              "    <tr>\n",
              "      <th>2020-07-09</th>\n",
              "      <td>1.132477</td>\n",
              "      <td>1.125720</td>\n",
              "      <td>1.128923</td>\n",
              "      <td>1.128796</td>\n",
              "      <td>0.0</td>\n",
              "      <td>1.128796</td>\n",
              "    </tr>\n",
              "    <tr>\n",
              "      <th>2020-07-12</th>\n",
              "      <td>1.137048</td>\n",
              "      <td>1.130454</td>\n",
              "      <td>1.130876</td>\n",
              "      <td>1.131004</td>\n",
              "      <td>0.0</td>\n",
              "      <td>1.131004</td>\n",
              "    </tr>\n",
              "    <tr>\n",
              "      <th>2020-07-14</th>\n",
              "      <td>1.140771</td>\n",
              "      <td>1.133016</td>\n",
              "      <td>1.134816</td>\n",
              "      <td>1.140251</td>\n",
              "      <td>0.0</td>\n",
              "      <td>1.140251</td>\n",
              "    </tr>\n",
              "  </tbody>\n",
              "</table>\n",
              "</div>"
            ],
            "text/plain": [
              "                High       Low      Open     Close  Volume  Adj Close\n",
              "Date                                                                 \n",
              "2020-07-07  1.134559  1.126519  1.127281  1.127523     0.0   1.127523\n",
              "2020-07-08  1.137268  1.128796  1.133787  1.133915     0.0   1.133915\n",
              "2020-07-09  1.132477  1.125720  1.128923  1.128796     0.0   1.128796\n",
              "2020-07-12  1.137048  1.130454  1.130876  1.131004     0.0   1.131004\n",
              "2020-07-14  1.140771  1.133016  1.134816  1.140251     0.0   1.140251"
            ]
          },
          "metadata": {
            "tags": []
          },
          "execution_count": 13
        }
      ]
    },
    {
      "cell_type": "code",
      "metadata": {
        "id": "9padnSNyz3aA",
        "colab_type": "code",
        "colab": {
          "base_uri": "https://localhost:8080/",
          "height": 235
        },
        "outputId": "00cf779f-c7a9-46e8-c203-4704d6fb5de7"
      },
      "source": [
        "dataset = df[['Adj Close']]\n",
        "dataset.head()"
      ],
      "execution_count": 23,
      "outputs": [
        {
          "output_type": "execute_result",
          "data": {
            "text/html": [
              "<div>\n",
              "<style scoped>\n",
              "    .dataframe tbody tr th:only-of-type {\n",
              "        vertical-align: middle;\n",
              "    }\n",
              "\n",
              "    .dataframe tbody tr th {\n",
              "        vertical-align: top;\n",
              "    }\n",
              "\n",
              "    .dataframe thead th {\n",
              "        text-align: right;\n",
              "    }\n",
              "</style>\n",
              "<table border=\"1\" class=\"dataframe\">\n",
              "  <thead>\n",
              "    <tr style=\"text-align: right;\">\n",
              "      <th></th>\n",
              "      <th>Adj Close</th>\n",
              "    </tr>\n",
              "    <tr>\n",
              "      <th>Date</th>\n",
              "      <th></th>\n",
              "    </tr>\n",
              "  </thead>\n",
              "  <tbody>\n",
              "    <tr>\n",
              "      <th>2012-01-02</th>\n",
              "      <td>1.296008</td>\n",
              "    </tr>\n",
              "    <tr>\n",
              "      <th>2012-01-03</th>\n",
              "      <td>1.294096</td>\n",
              "    </tr>\n",
              "    <tr>\n",
              "      <th>2012-01-04</th>\n",
              "      <td>1.305602</td>\n",
              "    </tr>\n",
              "    <tr>\n",
              "      <th>2012-01-05</th>\n",
              "      <td>1.293142</td>\n",
              "    </tr>\n",
              "    <tr>\n",
              "      <th>2012-01-06</th>\n",
              "      <td>1.279607</td>\n",
              "    </tr>\n",
              "  </tbody>\n",
              "</table>\n",
              "</div>"
            ],
            "text/plain": [
              "            Adj Close\n",
              "Date                 \n",
              "2012-01-02   1.296008\n",
              "2012-01-03   1.294096\n",
              "2012-01-04   1.305602\n",
              "2012-01-05   1.293142\n",
              "2012-01-06   1.279607"
            ]
          },
          "metadata": {
            "tags": []
          },
          "execution_count": 23
        }
      ]
    },
    {
      "cell_type": "code",
      "metadata": {
        "id": "moQXEiZd5ezL",
        "colab_type": "code",
        "colab": {
          "base_uri": "https://localhost:8080/",
          "height": 337
        },
        "outputId": "c13ad5d6-1184-49cf-e557-833d33cef83a"
      },
      "source": [
        "# declaring a variable that holds the number days we want to predict\n",
        "forcast_out = 1\n",
        "# the adj. Close colum in dataset is our indipendent variable\n",
        "# but we need a dependent variable that we will predict close price depends on adj. close price\n",
        "# so now we will create another column in our dataset and will shift 'n' unit up\n",
        "dataset['Predictions'] = dataset[['Adj Close']].shift(-2)\n",
        "dataset.tail()"
      ],
      "execution_count": 29,
      "outputs": [
        {
          "output_type": "stream",
          "text": [
            "/usr/local/lib/python3.6/dist-packages/ipykernel_launcher.py:6: SettingWithCopyWarning: \n",
            "A value is trying to be set on a copy of a slice from a DataFrame.\n",
            "Try using .loc[row_indexer,col_indexer] = value instead\n",
            "\n",
            "See the caveats in the documentation: https://pandas.pydata.org/pandas-docs/stable/user_guide/indexing.html#returning-a-view-versus-a-copy\n",
            "  \n"
          ],
          "name": "stderr"
        },
        {
          "output_type": "execute_result",
          "data": {
            "text/html": [
              "<div>\n",
              "<style scoped>\n",
              "    .dataframe tbody tr th:only-of-type {\n",
              "        vertical-align: middle;\n",
              "    }\n",
              "\n",
              "    .dataframe tbody tr th {\n",
              "        vertical-align: top;\n",
              "    }\n",
              "\n",
              "    .dataframe thead th {\n",
              "        text-align: right;\n",
              "    }\n",
              "</style>\n",
              "<table border=\"1\" class=\"dataframe\">\n",
              "  <thead>\n",
              "    <tr style=\"text-align: right;\">\n",
              "      <th></th>\n",
              "      <th>Adj Close</th>\n",
              "      <th>Predictions</th>\n",
              "    </tr>\n",
              "    <tr>\n",
              "      <th>Date</th>\n",
              "      <th></th>\n",
              "      <th></th>\n",
              "    </tr>\n",
              "  </thead>\n",
              "  <tbody>\n",
              "    <tr>\n",
              "      <th>2020-07-07</th>\n",
              "      <td>1.127523</td>\n",
              "      <td>1.128796</td>\n",
              "    </tr>\n",
              "    <tr>\n",
              "      <th>2020-07-08</th>\n",
              "      <td>1.133915</td>\n",
              "      <td>1.131004</td>\n",
              "    </tr>\n",
              "    <tr>\n",
              "      <th>2020-07-09</th>\n",
              "      <td>1.128796</td>\n",
              "      <td>1.140251</td>\n",
              "    </tr>\n",
              "    <tr>\n",
              "      <th>2020-07-12</th>\n",
              "      <td>1.131004</td>\n",
              "      <td>NaN</td>\n",
              "    </tr>\n",
              "    <tr>\n",
              "      <th>2020-07-14</th>\n",
              "      <td>1.140251</td>\n",
              "      <td>NaN</td>\n",
              "    </tr>\n",
              "  </tbody>\n",
              "</table>\n",
              "</div>"
            ],
            "text/plain": [
              "            Adj Close  Predictions\n",
              "Date                              \n",
              "2020-07-07   1.127523     1.128796\n",
              "2020-07-08   1.133915     1.131004\n",
              "2020-07-09   1.128796     1.140251\n",
              "2020-07-12   1.131004          NaN\n",
              "2020-07-14   1.140251          NaN"
            ]
          },
          "metadata": {
            "tags": []
          },
          "execution_count": 29
        }
      ]
    },
    {
      "cell_type": "markdown",
      "metadata": {
        "id": "eQBHgR0zHSkj",
        "colab_type": "text"
      },
      "source": [
        "data in prediction colum is copied from data in adj close column but shifted two index. Because we want our model to predict the data in prediction column based on adj close column."
      ]
    },
    {
      "cell_type": "code",
      "metadata": {
        "id": "pA1vZMDCFLlo",
        "colab_type": "code",
        "colab": {}
      },
      "source": [
        ""
      ],
      "execution_count": null,
      "outputs": []
    }
  ]
}