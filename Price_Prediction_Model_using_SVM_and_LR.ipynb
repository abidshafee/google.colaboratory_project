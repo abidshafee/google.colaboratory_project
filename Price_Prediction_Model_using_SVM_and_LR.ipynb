{
  "nbformat": 4,
  "nbformat_minor": 0,
  "metadata": {
    "colab": {
      "name": "Price-Prediction Model using SVM and LR",
      "provenance": [],
      "collapsed_sections": [],
      "authorship_tag": "ABX9TyPcJy7g3Dn5Go/1GblQspYs",
      "include_colab_link": true
    },
    "kernelspec": {
      "name": "python3",
      "display_name": "Python 3"
    }
  },
  "cells": [
    {
      "cell_type": "markdown",
      "metadata": {
        "id": "view-in-github",
        "colab_type": "text"
      },
      "source": [
        "<a href=\"https://colab.research.google.com/github/abidshafee/google.colaboratory_projects/blob/master/Price_Prediction_Model_using_SVM_and_LR.ipynb\" target=\"_parent\"><img src=\"https://colab.research.google.com/assets/colab-badge.svg\" alt=\"Open In Colab\"/></a>"
      ]
    },
    {
      "cell_type": "markdown",
      "metadata": {
        "id": "ykxQ9Eo6fFgE",
        "colab_type": "text"
      },
      "source": [
        "# A Program to predict asset price"
      ]
    },
    {
      "cell_type": "code",
      "metadata": {
        "id": "B4yuchLXelIf",
        "colab_type": "code",
        "colab": {
          "base_uri": "https://localhost:8080/",
          "height": 71
        },
        "outputId": "e77c3d8f-9bd9-4e81-f61c-3d4f66d2b3b0"
      },
      "source": [
        "# import quandl\n",
        "import pandas_datareader as web\n",
        "import numpy as np\n",
        "import pandas as pd\n",
        "from sklearn.linear_model import LinearRegression\n",
        "from sklearn.svm import SVR\n",
        "from sklearn.model_selection import train_test_split"
      ],
      "execution_count": 9,
      "outputs": [
        {
          "output_type": "stream",
          "text": [
            "/usr/local/lib/python3.6/dist-packages/pandas_datareader/compat/__init__.py:7: FutureWarning: pandas.util.testing is deprecated. Use the functions in the public API at pandas.testing instead.\n",
            "  from pandas.util.testing import assert_frame_equal\n"
          ],
          "name": "stderr"
        }
      ]
    },
    {
      "cell_type": "code",
      "metadata": {
        "id": "akdBZWdIMu0W",
        "colab_type": "code",
        "colab": {
          "base_uri": "https://localhost:8080/",
          "height": 235
        },
        "outputId": "33afeb6d-50c7-45df-8f7d-67d4eafb64ab"
      },
      "source": [
        "# geting the eurousd quotes\n",
        "df = web.DataReader('EURUSD=X', data_source='yahoo', start='2012-01-1', end='2020-7-14')\n",
        "# view data\n",
        "df.tail()"
      ],
      "execution_count": 13,
      "outputs": [
        {
          "output_type": "execute_result",
          "data": {
            "text/html": [
              "<div>\n",
              "<style scoped>\n",
              "    .dataframe tbody tr th:only-of-type {\n",
              "        vertical-align: middle;\n",
              "    }\n",
              "\n",
              "    .dataframe tbody tr th {\n",
              "        vertical-align: top;\n",
              "    }\n",
              "\n",
              "    .dataframe thead th {\n",
              "        text-align: right;\n",
              "    }\n",
              "</style>\n",
              "<table border=\"1\" class=\"dataframe\">\n",
              "  <thead>\n",
              "    <tr style=\"text-align: right;\">\n",
              "      <th></th>\n",
              "      <th>High</th>\n",
              "      <th>Low</th>\n",
              "      <th>Open</th>\n",
              "      <th>Close</th>\n",
              "      <th>Volume</th>\n",
              "      <th>Adj Close</th>\n",
              "    </tr>\n",
              "    <tr>\n",
              "      <th>Date</th>\n",
              "      <th></th>\n",
              "      <th></th>\n",
              "      <th></th>\n",
              "      <th></th>\n",
              "      <th></th>\n",
              "      <th></th>\n",
              "    </tr>\n",
              "  </thead>\n",
              "  <tbody>\n",
              "    <tr>\n",
              "      <th>2020-07-07</th>\n",
              "      <td>1.134559</td>\n",
              "      <td>1.126519</td>\n",
              "      <td>1.127281</td>\n",
              "      <td>1.127523</td>\n",
              "      <td>0.0</td>\n",
              "      <td>1.127523</td>\n",
              "    </tr>\n",
              "    <tr>\n",
              "      <th>2020-07-08</th>\n",
              "      <td>1.137268</td>\n",
              "      <td>1.128796</td>\n",
              "      <td>1.133787</td>\n",
              "      <td>1.133915</td>\n",
              "      <td>0.0</td>\n",
              "      <td>1.133915</td>\n",
              "    </tr>\n",
              "    <tr>\n",
              "      <th>2020-07-09</th>\n",
              "      <td>1.132477</td>\n",
              "      <td>1.125720</td>\n",
              "      <td>1.128923</td>\n",
              "      <td>1.128796</td>\n",
              "      <td>0.0</td>\n",
              "      <td>1.128796</td>\n",
              "    </tr>\n",
              "    <tr>\n",
              "      <th>2020-07-12</th>\n",
              "      <td>1.137048</td>\n",
              "      <td>1.130454</td>\n",
              "      <td>1.130876</td>\n",
              "      <td>1.131004</td>\n",
              "      <td>0.0</td>\n",
              "      <td>1.131004</td>\n",
              "    </tr>\n",
              "    <tr>\n",
              "      <th>2020-07-14</th>\n",
              "      <td>1.140771</td>\n",
              "      <td>1.133016</td>\n",
              "      <td>1.134816</td>\n",
              "      <td>1.140251</td>\n",
              "      <td>0.0</td>\n",
              "      <td>1.140251</td>\n",
              "    </tr>\n",
              "  </tbody>\n",
              "</table>\n",
              "</div>"
            ],
            "text/plain": [
              "                High       Low      Open     Close  Volume  Adj Close\n",
              "Date                                                                 \n",
              "2020-07-07  1.134559  1.126519  1.127281  1.127523     0.0   1.127523\n",
              "2020-07-08  1.137268  1.128796  1.133787  1.133915     0.0   1.133915\n",
              "2020-07-09  1.132477  1.125720  1.128923  1.128796     0.0   1.128796\n",
              "2020-07-12  1.137048  1.130454  1.130876  1.131004     0.0   1.131004\n",
              "2020-07-14  1.140771  1.133016  1.134816  1.140251     0.0   1.140251"
            ]
          },
          "metadata": {
            "tags": []
          },
          "execution_count": 13
        }
      ]
    },
    {
      "cell_type": "code",
      "metadata": {
        "id": "9padnSNyz3aA",
        "colab_type": "code",
        "colab": {
          "base_uri": "https://localhost:8080/",
          "height": 235
        },
        "outputId": "00cf779f-c7a9-46e8-c203-4704d6fb5de7"
      },
      "source": [
        "dataset = df[['Adj Close']]\n",
        "dataset.head()"
      ],
      "execution_count": 23,
      "outputs": [
        {
          "output_type": "execute_result",
          "data": {
            "text/html": [
              "<div>\n",
              "<style scoped>\n",
              "    .dataframe tbody tr th:only-of-type {\n",
              "        vertical-align: middle;\n",
              "    }\n",
              "\n",
              "    .dataframe tbody tr th {\n",
              "        vertical-align: top;\n",
              "    }\n",
              "\n",
              "    .dataframe thead th {\n",
              "        text-align: right;\n",
              "    }\n",
              "</style>\n",
              "<table border=\"1\" class=\"dataframe\">\n",
              "  <thead>\n",
              "    <tr style=\"text-align: right;\">\n",
              "      <th></th>\n",
              "      <th>Adj Close</th>\n",
              "    </tr>\n",
              "    <tr>\n",
              "      <th>Date</th>\n",
              "      <th></th>\n",
              "    </tr>\n",
              "  </thead>\n",
              "  <tbody>\n",
              "    <tr>\n",
              "      <th>2012-01-02</th>\n",
              "      <td>1.296008</td>\n",
              "    </tr>\n",
              "    <tr>\n",
              "      <th>2012-01-03</th>\n",
              "      <td>1.294096</td>\n",
              "    </tr>\n",
              "    <tr>\n",
              "      <th>2012-01-04</th>\n",
              "      <td>1.305602</td>\n",
              "    </tr>\n",
              "    <tr>\n",
              "      <th>2012-01-05</th>\n",
              "      <td>1.293142</td>\n",
              "    </tr>\n",
              "    <tr>\n",
              "      <th>2012-01-06</th>\n",
              "      <td>1.279607</td>\n",
              "    </tr>\n",
              "  </tbody>\n",
              "</table>\n",
              "</div>"
            ],
            "text/plain": [
              "            Adj Close\n",
              "Date                 \n",
              "2012-01-02   1.296008\n",
              "2012-01-03   1.294096\n",
              "2012-01-04   1.305602\n",
              "2012-01-05   1.293142\n",
              "2012-01-06   1.279607"
            ]
          },
          "metadata": {
            "tags": []
          },
          "execution_count": 23
        }
      ]
    },
    {
      "cell_type": "code",
      "metadata": {
        "id": "moQXEiZd5ezL",
        "colab_type": "code",
        "colab": {
          "base_uri": "https://localhost:8080/",
          "height": 337
        },
        "outputId": "ff6b8e87-e6ee-42fd-ba40-a753a0437876"
      },
      "source": [
        "# declaring a variable that holds the number days we want to predict\n",
        "forcast = 2\n",
        "# the adj. Close colum in dataset is our indipendent variable\n",
        "# but we need a dependent variable that we will predict close price depends on adj. close price\n",
        "# so now we will create another column in our dataset and will shift 'n' unit up\n",
        "dataset['Predictions'] = dataset[['Adj Close']].shift(-forcast)\n",
        "dataset.tail()"
      ],
      "execution_count": 30,
      "outputs": [
        {
          "output_type": "stream",
          "text": [
            "/usr/local/lib/python3.6/dist-packages/ipykernel_launcher.py:6: SettingWithCopyWarning: \n",
            "A value is trying to be set on a copy of a slice from a DataFrame.\n",
            "Try using .loc[row_indexer,col_indexer] = value instead\n",
            "\n",
            "See the caveats in the documentation: https://pandas.pydata.org/pandas-docs/stable/user_guide/indexing.html#returning-a-view-versus-a-copy\n",
            "  \n"
          ],
          "name": "stderr"
        },
        {
          "output_type": "execute_result",
          "data": {
            "text/html": [
              "<div>\n",
              "<style scoped>\n",
              "    .dataframe tbody tr th:only-of-type {\n",
              "        vertical-align: middle;\n",
              "    }\n",
              "\n",
              "    .dataframe tbody tr th {\n",
              "        vertical-align: top;\n",
              "    }\n",
              "\n",
              "    .dataframe thead th {\n",
              "        text-align: right;\n",
              "    }\n",
              "</style>\n",
              "<table border=\"1\" class=\"dataframe\">\n",
              "  <thead>\n",
              "    <tr style=\"text-align: right;\">\n",
              "      <th></th>\n",
              "      <th>Adj Close</th>\n",
              "      <th>Predictions</th>\n",
              "    </tr>\n",
              "    <tr>\n",
              "      <th>Date</th>\n",
              "      <th></th>\n",
              "      <th></th>\n",
              "    </tr>\n",
              "  </thead>\n",
              "  <tbody>\n",
              "    <tr>\n",
              "      <th>2020-07-07</th>\n",
              "      <td>1.127523</td>\n",
              "      <td>1.128796</td>\n",
              "    </tr>\n",
              "    <tr>\n",
              "      <th>2020-07-08</th>\n",
              "      <td>1.133915</td>\n",
              "      <td>1.131004</td>\n",
              "    </tr>\n",
              "    <tr>\n",
              "      <th>2020-07-09</th>\n",
              "      <td>1.128796</td>\n",
              "      <td>1.140251</td>\n",
              "    </tr>\n",
              "    <tr>\n",
              "      <th>2020-07-12</th>\n",
              "      <td>1.131004</td>\n",
              "      <td>NaN</td>\n",
              "    </tr>\n",
              "    <tr>\n",
              "      <th>2020-07-14</th>\n",
              "      <td>1.140251</td>\n",
              "      <td>NaN</td>\n",
              "    </tr>\n",
              "  </tbody>\n",
              "</table>\n",
              "</div>"
            ],
            "text/plain": [
              "            Adj Close  Predictions\n",
              "Date                              \n",
              "2020-07-07   1.127523     1.128796\n",
              "2020-07-08   1.133915     1.131004\n",
              "2020-07-09   1.128796     1.140251\n",
              "2020-07-12   1.131004          NaN\n",
              "2020-07-14   1.140251          NaN"
            ]
          },
          "metadata": {
            "tags": []
          },
          "execution_count": 30
        }
      ]
    },
    {
      "cell_type": "markdown",
      "metadata": {
        "id": "eQBHgR0zHSkj",
        "colab_type": "text"
      },
      "source": [
        "data in prediction colum is copied from data in adj close column but shifted two index. Because we want our model to predict the data in prediction column based on adj close column."
      ]
    },
    {
      "cell_type": "code",
      "metadata": {
        "id": "pA1vZMDCFLlo",
        "colab_type": "code",
        "colab": {
          "base_uri": "https://localhost:8080/",
          "height": 136
        },
        "outputId": "f8f6b959-4624-4fe1-fff3-b025b6ebb85b"
      },
      "source": [
        "# Creaating independent dataset and converting it to numpy array\n",
        "x_dataset = np.array(dataset.drop(['Predictions'], 1))\n",
        "# now removing the last 'forcast' number of rows\n",
        "x_dataset = x_dataset[:-forcast]\n",
        "# independent dataset 'x_dataset' is a list of lists\n",
        "x_dataset"
      ],
      "execution_count": 33,
      "outputs": [
        {
          "output_type": "execute_result",
          "data": {
            "text/plain": [
              "array([[1.29600823],\n",
              "       [1.29409635],\n",
              "       [1.30560231],\n",
              "       ...,\n",
              "       [1.12752283],\n",
              "       [1.13391542],\n",
              "       [1.1287955 ]])"
            ]
          },
          "metadata": {
            "tags": []
          },
          "execution_count": 33
        }
      ]
    },
    {
      "cell_type": "code",
      "metadata": {
        "id": "DrHeySmaKSpd",
        "colab_type": "code",
        "colab": {
          "base_uri": "https://localhost:8080/",
          "height": 51
        },
        "outputId": "035b05a6-c975-4535-fc6b-93dfde71ccb6"
      },
      "source": [
        "# Now creating dependent dataset and converting it also a numpy array including NaN\n",
        "y_dataset = np.array(dataset['Predictions'])\n",
        "# Getting all y_dataset values except the last NaN values\n",
        "y_dataset = y_dataset[:-forcast]\n",
        "# the dependent dataset y_dataset here is a list\n",
        "y_dataset"
      ],
      "execution_count": 36,
      "outputs": [
        {
          "output_type": "execute_result",
          "data": {
            "text/plain": [
              "array([1.30560231, 1.29314244, 1.27960682, ..., 1.1287955 , 1.13100421,\n",
              "       1.14025092])"
            ]
          },
          "metadata": {
            "tags": []
          },
          "execution_count": 36
        }
      ]
    },
    {
      "cell_type": "code",
      "metadata": {
        "id": "PPVZNCUxOI5N",
        "colab_type": "code",
        "colab": {}
      },
      "source": [
        "# Noow spliting the training data and testing data\n",
        "x_train, x_test, y_train, y_test = train_test_split(x_dataset, y_dataset, test_size = 0.2) "
      ],
      "execution_count": 37,
      "outputs": []
    },
    {
      "cell_type": "code",
      "metadata": {
        "id": "kbds4aRAQun6",
        "colab_type": "code",
        "colab": {}
      },
      "source": [
        ""
      ],
      "execution_count": null,
      "outputs": []
    },
    {
      "cell_type": "markdown",
      "metadata": {
        "id": "63AKlqnyQ5E6",
        "colab_type": "text"
      },
      "source": [
        "## Creating Model-1 Using Support Vector Machine (SVM) Algorithm\n",
        "as this is a regression problem therefore we will use SVR or support vector regression Algorithm"
      ]
    },
    {
      "cell_type": "code",
      "metadata": {
        "id": "a6mltxWyRBwq",
        "colab_type": "code",
        "colab": {
          "base_uri": "https://localhost:8080/",
          "height": 51
        },
        "outputId": "5a48adc0-e379-4d8d-a587-64905ecb124b"
      },
      "source": [
        "svr_rbf = SVR(kernel='rbf', C=1e3, gamma=0.1)\n",
        "svr_rbf.fit(x_train, y_train)"
      ],
      "execution_count": 38,
      "outputs": [
        {
          "output_type": "execute_result",
          "data": {
            "text/plain": [
              "SVR(C=1000.0, cache_size=200, coef0=0.0, degree=3, epsilon=0.1, gamma=0.1,\n",
              "    kernel='rbf', max_iter=-1, shrinking=True, tol=0.001, verbose=False)"
            ]
          },
          "metadata": {
            "tags": []
          },
          "execution_count": 38
        }
      ]
    },
    {
      "cell_type": "markdown",
      "metadata": {
        "id": "rSvXyAXcawBw",
        "colab_type": "text"
      },
      "source": [
        "### Testing the SVR Model"
      ]
    },
    {
      "cell_type": "code",
      "metadata": {
        "id": "L9w_k59tYaCR",
        "colab_type": "code",
        "colab": {
          "base_uri": "https://localhost:8080/",
          "height": 34
        },
        "outputId": "cd5efb3d-2b83-4a8c-8270-c115c6d2f263"
      },
      "source": [
        "svm_confidence = svr_rbf.score(x_test, y_test)\n",
        "# best result is 1.0\n",
        "print(svm_confidence)"
      ],
      "execution_count": 42,
      "outputs": [
        {
          "output_type": "stream",
          "text": [
            "0.6938676872993981\n"
          ],
          "name": "stdout"
        }
      ]
    },
    {
      "cell_type": "markdown",
      "metadata": {
        "id": "_IQYh-dkcO2n",
        "colab_type": "text"
      },
      "source": [
        "## Creating another model using linear regression"
      ]
    },
    {
      "cell_type": "code",
      "metadata": {
        "id": "dfTvVNxycV8e",
        "colab_type": "code",
        "colab": {
          "base_uri": "https://localhost:8080/",
          "height": 34
        },
        "outputId": "38a82a95-3bf9-471c-a12f-2fc8d52e94bb"
      },
      "source": [
        "lr_model = LinearRegression()\n",
        "# now training the lr_model\n",
        "lr_model.fit(x_train, y_train)"
      ],
      "execution_count": 43,
      "outputs": [
        {
          "output_type": "execute_result",
          "data": {
            "text/plain": [
              "LinearRegression(copy_X=True, fit_intercept=True, n_jobs=None, normalize=False)"
            ]
          },
          "metadata": {
            "tags": []
          },
          "execution_count": 43
        }
      ]
    },
    {
      "cell_type": "code",
      "metadata": {
        "id": "gLlnD2ync0H-",
        "colab_type": "code",
        "colab": {
          "base_uri": "https://localhost:8080/",
          "height": 34
        },
        "outputId": "2bfc474a-0fc7-4698-b451-2eac2c7666d7"
      },
      "source": [
        "# Testing Score of Linear Regrassion Model\n",
        "lr_confidence = lr_model.score(x_test, y_test)\n",
        "print(lr_confidence)"
      ],
      "execution_count": 45,
      "outputs": [
        {
          "output_type": "stream",
          "text": [
            "0.9923075110449259\n"
          ],
          "name": "stdout"
        }
      ]
    },
    {
      "cell_type": "markdown",
      "metadata": {
        "id": "KOUlAenaeeIl",
        "colab_type": "text"
      },
      "source": [
        "This is really facinating confidence score for linear regression"
      ]
    },
    {
      "cell_type": "code",
      "metadata": {
        "id": "UX64pCtVeney",
        "colab_type": "code",
        "colab": {
          "base_uri": "https://localhost:8080/",
          "height": 51
        },
        "outputId": "b73fa75a-4707-4096-a314-90f345912dfd"
      },
      "source": [
        "# we will forcast the future data using the model\n",
        "x_forcast = np.array(dataset.drop(['Predictions'], 1))[-forcast:]\n",
        "print(x_forcast)"
      ],
      "execution_count": 50,
      "outputs": [
        {
          "output_type": "stream",
          "text": [
            "[[1.13100421]\n",
            " [1.14025092]]\n"
          ],
          "name": "stdout"
        }
      ]
    },
    {
      "cell_type": "markdown",
      "metadata": {
        "id": "mtlsAL2KgQjV",
        "colab_type": "text"
      },
      "source": [
        "Now we will predict the Adj Close price for the next 'forcast' nuber of days "
      ]
    },
    {
      "cell_type": "code",
      "metadata": {
        "id": "4ZPjMXtKgf2j",
        "colab_type": "code",
        "colab": {
          "base_uri": "https://localhost:8080/",
          "height": 34
        },
        "outputId": "b8220741-8ff6-4180-f1b1-ded4c369dc39"
      },
      "source": [
        "# prediction using Linear Regrassion\n",
        "lr_predictions = lr_model.predict(x_forcast)\n",
        "print(lr_predictions)\n",
        "\n",
        "# prediction using SVM\n",
        "\n"
      ],
      "execution_count": 53,
      "outputs": [
        {
          "output_type": "stream",
          "text": [
            "[1.1311747  1.14037181]\n"
          ],
          "name": "stdout"
        }
      ]
    },
    {
      "cell_type": "code",
      "metadata": {
        "id": "zN4V4kMkhBwp",
        "colab_type": "code",
        "colab": {}
      },
      "source": [
        ""
      ],
      "execution_count": null,
      "outputs": []
    }
  ]
}