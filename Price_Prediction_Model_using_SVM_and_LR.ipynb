{
  "nbformat": 4,
  "nbformat_minor": 0,
  "metadata": {
    "colab": {
      "name": "Price-Prediction Model using SVM and LR",
      "provenance": [],
      "collapsed_sections": [],
      "authorship_tag": "ABX9TyOO1UnK8JsLYMfo0lKKob/U",
      "include_colab_link": true
    },
    "kernelspec": {
      "name": "python3",
      "display_name": "Python 3"
    }
  },
  "cells": [
    {
      "cell_type": "markdown",
      "metadata": {
        "id": "view-in-github",
        "colab_type": "text"
      },
      "source": [
        "<a href=\"https://colab.research.google.com/github/abidshafee/google.colaboratory_projects/blob/master/Price_Prediction_Model_using_SVM_and_LR.ipynb\" target=\"_parent\"><img src=\"https://colab.research.google.com/assets/colab-badge.svg\" alt=\"Open In Colab\"/></a>"
      ]
    },
    {
      "cell_type": "markdown",
      "metadata": {
        "id": "ykxQ9Eo6fFgE",
        "colab_type": "text"
      },
      "source": [
        "# A Program to predict asset price"
      ]
    },
    {
      "cell_type": "code",
      "metadata": {
        "id": "B4yuchLXelIf",
        "colab_type": "code",
        "colab": {
          "base_uri": "https://localhost:8080/",
          "height": 71
        },
        "outputId": "e77c3d8f-9bd9-4e81-f61c-3d4f66d2b3b0"
      },
      "source": [
        "# import quandl\n",
        "import pandas_datareader as web\n",
        "import numpy as np\n",
        "import pandas as pd\n",
        "from sklearn.linear_model import LinearRegression\n",
        "from sklearn.svm import SVR\n",
        "from sklearn.model_selection import train_test_split"
      ],
      "execution_count": 9,
      "outputs": [
        {
          "output_type": "stream",
          "text": [
            "/usr/local/lib/python3.6/dist-packages/pandas_datareader/compat/__init__.py:7: FutureWarning: pandas.util.testing is deprecated. Use the functions in the public API at pandas.testing instead.\n",
            "  from pandas.util.testing import assert_frame_equal\n"
          ],
          "name": "stderr"
        }
      ]
    },
    {
      "cell_type": "code",
      "metadata": {
        "id": "akdBZWdIMu0W",
        "colab_type": "code",
        "colab": {
          "base_uri": "https://localhost:8080/",
          "height": 235
        },
        "outputId": "33afeb6d-50c7-45df-8f7d-67d4eafb64ab"
      },
      "source": [
        "# geting the eurousd quotes\n",
        "df = web.DataReader('EURUSD=X', data_source='yahoo', start='2012-01-1', end='2020-7-14')\n",
        "# view data\n",
        "df.tail()"
      ],
      "execution_count": 13,
      "outputs": [
        {
          "output_type": "execute_result",
          "data": {
            "text/html": [
              "<div>\n",
              "<style scoped>\n",
              "    .dataframe tbody tr th:only-of-type {\n",
              "        vertical-align: middle;\n",
              "    }\n",
              "\n",
              "    .dataframe tbody tr th {\n",
              "        vertical-align: top;\n",
              "    }\n",
              "\n",
              "    .dataframe thead th {\n",
              "        text-align: right;\n",
              "    }\n",
              "</style>\n",
              "<table border=\"1\" class=\"dataframe\">\n",
              "  <thead>\n",
              "    <tr style=\"text-align: right;\">\n",
              "      <th></th>\n",
              "      <th>High</th>\n",
              "      <th>Low</th>\n",
              "      <th>Open</th>\n",
              "      <th>Close</th>\n",
              "      <th>Volume</th>\n",
              "      <th>Adj Close</th>\n",
              "    </tr>\n",
              "    <tr>\n",
              "      <th>Date</th>\n",
              "      <th></th>\n",
              "      <th></th>\n",
              "      <th></th>\n",
              "      <th></th>\n",
              "      <th></th>\n",
              "      <th></th>\n",
              "    </tr>\n",
              "  </thead>\n",
              "  <tbody>\n",
              "    <tr>\n",
              "      <th>2020-07-07</th>\n",
              "      <td>1.134559</td>\n",
              "      <td>1.126519</td>\n",
              "      <td>1.127281</td>\n",
              "      <td>1.127523</td>\n",
              "      <td>0.0</td>\n",
              "      <td>1.127523</td>\n",
              "    </tr>\n",
              "    <tr>\n",
              "      <th>2020-07-08</th>\n",
              "      <td>1.137268</td>\n",
              "      <td>1.128796</td>\n",
              "      <td>1.133787</td>\n",
              "      <td>1.133915</td>\n",
              "      <td>0.0</td>\n",
              "      <td>1.133915</td>\n",
              "    </tr>\n",
              "    <tr>\n",
              "      <th>2020-07-09</th>\n",
              "      <td>1.132477</td>\n",
              "      <td>1.125720</td>\n",
              "      <td>1.128923</td>\n",
              "      <td>1.128796</td>\n",
              "      <td>0.0</td>\n",
              "      <td>1.128796</td>\n",
              "    </tr>\n",
              "    <tr>\n",
              "      <th>2020-07-12</th>\n",
              "      <td>1.137048</td>\n",
              "      <td>1.130454</td>\n",
              "      <td>1.130876</td>\n",
              "      <td>1.131004</td>\n",
              "      <td>0.0</td>\n",
              "      <td>1.131004</td>\n",
              "    </tr>\n",
              "    <tr>\n",
              "      <th>2020-07-14</th>\n",
              "      <td>1.140771</td>\n",
              "      <td>1.133016</td>\n",
              "      <td>1.134816</td>\n",
              "      <td>1.140251</td>\n",
              "      <td>0.0</td>\n",
              "      <td>1.140251</td>\n",
              "    </tr>\n",
              "  </tbody>\n",
              "</table>\n",
              "</div>"
            ],
            "text/plain": [
              "                High       Low      Open     Close  Volume  Adj Close\n",
              "Date                                                                 \n",
              "2020-07-07  1.134559  1.126519  1.127281  1.127523     0.0   1.127523\n",
              "2020-07-08  1.137268  1.128796  1.133787  1.133915     0.0   1.133915\n",
              "2020-07-09  1.132477  1.125720  1.128923  1.128796     0.0   1.128796\n",
              "2020-07-12  1.137048  1.130454  1.130876  1.131004     0.0   1.131004\n",
              "2020-07-14  1.140771  1.133016  1.134816  1.140251     0.0   1.140251"
            ]
          },
          "metadata": {
            "tags": []
          },
          "execution_count": 13
        }
      ]
    },
    {
      "cell_type": "code",
      "metadata": {
        "id": "9padnSNyz3aA",
        "colab_type": "code",
        "colab": {
          "base_uri": "https://localhost:8080/",
          "height": 235
        },
        "outputId": "00cf779f-c7a9-46e8-c203-4704d6fb5de7"
      },
      "source": [
        "dataset = df[['Adj Close']]\n",
        "dataset.head()"
      ],
      "execution_count": 23,
      "outputs": [
        {
          "output_type": "execute_result",
          "data": {
            "text/html": [
              "<div>\n",
              "<style scoped>\n",
              "    .dataframe tbody tr th:only-of-type {\n",
              "        vertical-align: middle;\n",
              "    }\n",
              "\n",
              "    .dataframe tbody tr th {\n",
              "        vertical-align: top;\n",
              "    }\n",
              "\n",
              "    .dataframe thead th {\n",
              "        text-align: right;\n",
              "    }\n",
              "</style>\n",
              "<table border=\"1\" class=\"dataframe\">\n",
              "  <thead>\n",
              "    <tr style=\"text-align: right;\">\n",
              "      <th></th>\n",
              "      <th>Adj Close</th>\n",
              "    </tr>\n",
              "    <tr>\n",
              "      <th>Date</th>\n",
              "      <th></th>\n",
              "    </tr>\n",
              "  </thead>\n",
              "  <tbody>\n",
              "    <tr>\n",
              "      <th>2012-01-02</th>\n",
              "      <td>1.296008</td>\n",
              "    </tr>\n",
              "    <tr>\n",
              "      <th>2012-01-03</th>\n",
              "      <td>1.294096</td>\n",
              "    </tr>\n",
              "    <tr>\n",
              "      <th>2012-01-04</th>\n",
              "      <td>1.305602</td>\n",
              "    </tr>\n",
              "    <tr>\n",
              "      <th>2012-01-05</th>\n",
              "      <td>1.293142</td>\n",
              "    </tr>\n",
              "    <tr>\n",
              "      <th>2012-01-06</th>\n",
              "      <td>1.279607</td>\n",
              "    </tr>\n",
              "  </tbody>\n",
              "</table>\n",
              "</div>"
            ],
            "text/plain": [
              "            Adj Close\n",
              "Date                 \n",
              "2012-01-02   1.296008\n",
              "2012-01-03   1.294096\n",
              "2012-01-04   1.305602\n",
              "2012-01-05   1.293142\n",
              "2012-01-06   1.279607"
            ]
          },
          "metadata": {
            "tags": []
          },
          "execution_count": 23
        }
      ]
    },
    {
      "cell_type": "code",
      "metadata": {
        "id": "moQXEiZd5ezL",
        "colab_type": "code",
        "colab": {
          "base_uri": "https://localhost:8080/",
          "height": 337
        },
        "outputId": "57043ca9-871f-44c4-dd72-38d82813ac08"
      },
      "source": [
        "# declaring a variable that holds the number days we want to predict\n",
        "forcast = 5\n",
        "# the adj. Close colum in dataset is our indipendent variable\n",
        "# but we need a dependent variable that we will predict close price depends on adj. close price\n",
        "# so now we will create another column in our dataset and will shift 'n' unit up\n",
        "dataset['Predictions'] = dataset[['Adj Close']].shift(-forcast)\n",
        "dataset.tail()"
      ],
      "execution_count": 58,
      "outputs": [
        {
          "output_type": "stream",
          "text": [
            "/usr/local/lib/python3.6/dist-packages/ipykernel_launcher.py:6: SettingWithCopyWarning: \n",
            "A value is trying to be set on a copy of a slice from a DataFrame.\n",
            "Try using .loc[row_indexer,col_indexer] = value instead\n",
            "\n",
            "See the caveats in the documentation: https://pandas.pydata.org/pandas-docs/stable/user_guide/indexing.html#returning-a-view-versus-a-copy\n",
            "  \n"
          ],
          "name": "stderr"
        },
        {
          "output_type": "execute_result",
          "data": {
            "text/html": [
              "<div>\n",
              "<style scoped>\n",
              "    .dataframe tbody tr th:only-of-type {\n",
              "        vertical-align: middle;\n",
              "    }\n",
              "\n",
              "    .dataframe tbody tr th {\n",
              "        vertical-align: top;\n",
              "    }\n",
              "\n",
              "    .dataframe thead th {\n",
              "        text-align: right;\n",
              "    }\n",
              "</style>\n",
              "<table border=\"1\" class=\"dataframe\">\n",
              "  <thead>\n",
              "    <tr style=\"text-align: right;\">\n",
              "      <th></th>\n",
              "      <th>Adj Close</th>\n",
              "      <th>Predictions</th>\n",
              "    </tr>\n",
              "    <tr>\n",
              "      <th>Date</th>\n",
              "      <th></th>\n",
              "      <th></th>\n",
              "    </tr>\n",
              "  </thead>\n",
              "  <tbody>\n",
              "    <tr>\n",
              "      <th>2020-07-07</th>\n",
              "      <td>1.127523</td>\n",
              "      <td>NaN</td>\n",
              "    </tr>\n",
              "    <tr>\n",
              "      <th>2020-07-08</th>\n",
              "      <td>1.133915</td>\n",
              "      <td>NaN</td>\n",
              "    </tr>\n",
              "    <tr>\n",
              "      <th>2020-07-09</th>\n",
              "      <td>1.128796</td>\n",
              "      <td>NaN</td>\n",
              "    </tr>\n",
              "    <tr>\n",
              "      <th>2020-07-12</th>\n",
              "      <td>1.131004</td>\n",
              "      <td>NaN</td>\n",
              "    </tr>\n",
              "    <tr>\n",
              "      <th>2020-07-14</th>\n",
              "      <td>1.140251</td>\n",
              "      <td>NaN</td>\n",
              "    </tr>\n",
              "  </tbody>\n",
              "</table>\n",
              "</div>"
            ],
            "text/plain": [
              "            Adj Close  Predictions\n",
              "Date                              \n",
              "2020-07-07   1.127523          NaN\n",
              "2020-07-08   1.133915          NaN\n",
              "2020-07-09   1.128796          NaN\n",
              "2020-07-12   1.131004          NaN\n",
              "2020-07-14   1.140251          NaN"
            ]
          },
          "metadata": {
            "tags": []
          },
          "execution_count": 58
        }
      ]
    },
    {
      "cell_type": "markdown",
      "metadata": {
        "id": "eQBHgR0zHSkj",
        "colab_type": "text"
      },
      "source": [
        "data in prediction colum is copied from data in adj close column but shifted two index. Because we want our model to predict the data in prediction column based on adj close column."
      ]
    },
    {
      "cell_type": "code",
      "metadata": {
        "id": "pA1vZMDCFLlo",
        "colab_type": "code",
        "colab": {
          "base_uri": "https://localhost:8080/",
          "height": 136
        },
        "outputId": "0675ce49-92fd-4446-a60c-08205b28f21a"
      },
      "source": [
        "# Creaating independent dataset and converting it to numpy array\n",
        "x_dataset = np.array(dataset.drop(['Predictions'], 1))\n",
        "# now removing the last 'forcast' number of rows\n",
        "x_dataset = x_dataset[:-forcast]\n",
        "# independent dataset 'x_dataset' is a list of lists\n",
        "x_dataset"
      ],
      "execution_count": 59,
      "outputs": [
        {
          "output_type": "execute_result",
          "data": {
            "text/plain": [
              "array([[1.29600823],\n",
              "       [1.29409635],\n",
              "       [1.30560231],\n",
              "       ...,\n",
              "       [1.1237849 ],\n",
              "       [1.12472022],\n",
              "       [1.13128567]])"
            ]
          },
          "metadata": {
            "tags": []
          },
          "execution_count": 59
        }
      ]
    },
    {
      "cell_type": "code",
      "metadata": {
        "id": "DrHeySmaKSpd",
        "colab_type": "code",
        "colab": {
          "base_uri": "https://localhost:8080/",
          "height": 51
        },
        "outputId": "4412dbcb-c262-4527-cecd-5f7a7b3fbb20"
      },
      "source": [
        "# Now creating dependent dataset and converting it also a numpy array including NaN\n",
        "y_dataset = np.array(dataset['Predictions'])\n",
        "# Getting all y_dataset values except the last NaN values\n",
        "y_dataset = y_dataset[:-forcast]\n",
        "# the dependent dataset y_dataset here is a list\n",
        "y_dataset"
      ],
      "execution_count": 60,
      "outputs": [
        {
          "output_type": "execute_result",
          "data": {
            "text/plain": [
              "array([1.2680378 , 1.277596  , 1.27518487, ..., 1.1287955 , 1.13100421,\n",
              "       1.14025092])"
            ]
          },
          "metadata": {
            "tags": []
          },
          "execution_count": 60
        }
      ]
    },
    {
      "cell_type": "code",
      "metadata": {
        "id": "PPVZNCUxOI5N",
        "colab_type": "code",
        "colab": {}
      },
      "source": [
        "# Noow spliting the training data and testing data\n",
        "x_train, x_test, y_train, y_test = train_test_split(x_dataset, y_dataset, test_size = 0.2) "
      ],
      "execution_count": 61,
      "outputs": []
    },
    {
      "cell_type": "code",
      "metadata": {
        "id": "kbds4aRAQun6",
        "colab_type": "code",
        "colab": {}
      },
      "source": [
        ""
      ],
      "execution_count": null,
      "outputs": []
    },
    {
      "cell_type": "markdown",
      "metadata": {
        "id": "63AKlqnyQ5E6",
        "colab_type": "text"
      },
      "source": [
        "## Creating Model-1 Using Support Vector Machine (SVM) Algorithm\n",
        "as this is a regression problem therefore we will use SVR or support vector regression Algorithm"
      ]
    },
    {
      "cell_type": "code",
      "metadata": {
        "id": "a6mltxWyRBwq",
        "colab_type": "code",
        "colab": {
          "base_uri": "https://localhost:8080/",
          "height": 51
        },
        "outputId": "e6c224c9-15c7-4ccf-ce2c-4650ae596a9d"
      },
      "source": [
        "svr_rbf_model = SVR(kernel='rbf', C=1e3, gamma=0.1)\n",
        "svr_rbf_model.fit(x_train, y_train)"
      ],
      "execution_count": 62,
      "outputs": [
        {
          "output_type": "execute_result",
          "data": {
            "text/plain": [
              "SVR(C=1000.0, cache_size=200, coef0=0.0, degree=3, epsilon=0.1, gamma=0.1,\n",
              "    kernel='rbf', max_iter=-1, shrinking=True, tol=0.001, verbose=False)"
            ]
          },
          "metadata": {
            "tags": []
          },
          "execution_count": 62
        }
      ]
    },
    {
      "cell_type": "markdown",
      "metadata": {
        "id": "rSvXyAXcawBw",
        "colab_type": "text"
      },
      "source": [
        "### Testing the SVR Model"
      ]
    },
    {
      "cell_type": "code",
      "metadata": {
        "id": "L9w_k59tYaCR",
        "colab_type": "code",
        "colab": {
          "base_uri": "https://localhost:8080/",
          "height": 34
        },
        "outputId": "10947a8b-717f-434c-9713-e519c835f341"
      },
      "source": [
        "svm_confidence = svr_rbf_model.score(x_test, y_test)\n",
        "# best result is 1.0\n",
        "print(svm_confidence)"
      ],
      "execution_count": 63,
      "outputs": [
        {
          "output_type": "stream",
          "text": [
            "0.7442287425494565\n"
          ],
          "name": "stdout"
        }
      ]
    },
    {
      "cell_type": "markdown",
      "metadata": {
        "id": "_IQYh-dkcO2n",
        "colab_type": "text"
      },
      "source": [
        "## Creating another model using linear regression"
      ]
    },
    {
      "cell_type": "code",
      "metadata": {
        "id": "dfTvVNxycV8e",
        "colab_type": "code",
        "colab": {
          "base_uri": "https://localhost:8080/",
          "height": 34
        },
        "outputId": "5bca4eb5-2c58-4893-a78b-c90ab6d395e0"
      },
      "source": [
        "lr_model = LinearRegression()\n",
        "# now training the lr_model\n",
        "lr_model.fit(x_train, y_train)"
      ],
      "execution_count": 64,
      "outputs": [
        {
          "output_type": "execute_result",
          "data": {
            "text/plain": [
              "LinearRegression(copy_X=True, fit_intercept=True, n_jobs=None, normalize=False)"
            ]
          },
          "metadata": {
            "tags": []
          },
          "execution_count": 64
        }
      ]
    },
    {
      "cell_type": "code",
      "metadata": {
        "id": "gLlnD2ync0H-",
        "colab_type": "code",
        "colab": {
          "base_uri": "https://localhost:8080/",
          "height": 34
        },
        "outputId": "d4c86599-1d2a-49db-95cb-55d45648c31d"
      },
      "source": [
        "# Testing Score of Linear Regrassion Model\n",
        "lr_confidence = lr_model.score(x_test, y_test)\n",
        "print(lr_confidence)"
      ],
      "execution_count": 65,
      "outputs": [
        {
          "output_type": "stream",
          "text": [
            "0.982530747464107\n"
          ],
          "name": "stdout"
        }
      ]
    },
    {
      "cell_type": "markdown",
      "metadata": {
        "id": "KOUlAenaeeIl",
        "colab_type": "text"
      },
      "source": [
        "This is really facinating confidence score for linear regression"
      ]
    },
    {
      "cell_type": "code",
      "metadata": {
        "id": "UX64pCtVeney",
        "colab_type": "code",
        "colab": {
          "base_uri": "https://localhost:8080/",
          "height": 102
        },
        "outputId": "fd0e0785-da42-44bf-e647-04353a1c66d9"
      },
      "source": [
        "# we will forcast the future data using the model\n",
        "x_forcast = np.array(dataset.drop(['Predictions'], 1))[-forcast:]\n",
        "print(x_forcast)"
      ],
      "execution_count": 66,
      "outputs": [
        {
          "output_type": "stream",
          "text": [
            "[[1.12752283]\n",
            " [1.13391542]\n",
            " [1.1287955 ]\n",
            " [1.13100421]\n",
            " [1.14025092]]\n"
          ],
          "name": "stdout"
        }
      ]
    },
    {
      "cell_type": "markdown",
      "metadata": {
        "id": "mtlsAL2KgQjV",
        "colab_type": "text"
      },
      "source": [
        "Now we will predict the Adj Close price for the next 'forcast' nuber of days "
      ]
    },
    {
      "cell_type": "code",
      "metadata": {
        "id": "4ZPjMXtKgf2j",
        "colab_type": "code",
        "colab": {
          "base_uri": "https://localhost:8080/",
          "height": 51
        },
        "outputId": "cddc38a4-49b9-4d4f-dc5b-8e3e2f6bb295"
      },
      "source": [
        "# prediction using Linear Regrassion\n",
        "lr_predictions = lr_model.predict(x_forcast)\n",
        "print(lr_predictions)\n",
        "\n",
        "# prediction using SVM # not acceptable literary because cofidence rate is below 70%\n",
        "svr_prediction = svr_rbf_model.predict(x_forcast)\n",
        "print(svr_prediction)"
      ],
      "execution_count": 67,
      "outputs": [
        {
          "output_type": "stream",
          "text": [
            "[1.12774082 1.13407573 1.12900201 1.13119079 1.14035405]\n",
            "[1.16465461 1.16788297 1.16529722 1.1664126  1.1710838 ]\n"
          ],
          "name": "stdout"
        }
      ]
    },
    {
      "cell_type": "code",
      "metadata": {
        "id": "zN4V4kMkhBwp",
        "colab_type": "code",
        "colab": {}
      },
      "source": [
        ""
      ],
      "execution_count": null,
      "outputs": []
    }
  ]
}