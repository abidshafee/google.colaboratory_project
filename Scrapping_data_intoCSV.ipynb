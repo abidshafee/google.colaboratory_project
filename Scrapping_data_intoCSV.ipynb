{
  "nbformat": 4,
  "nbformat_minor": 0,
  "metadata": {
    "colab": {
      "name": "Scrapping-data-intoCSV.ipynb",
      "provenance": [],
      "authorship_tag": "ABX9TyN0FZVAo/90RWvAZkvE3JlE",
      "include_colab_link": true
    },
    "kernelspec": {
      "name": "python3",
      "display_name": "Python 3"
    }
  },
  "cells": [
    {
      "cell_type": "markdown",
      "metadata": {
        "id": "view-in-github",
        "colab_type": "text"
      },
      "source": [
        "<a href=\"https://colab.research.google.com/github/abidshafee/google.colaboratory_projects/blob/master/Scrapping_data_intoCSV.ipynb\" target=\"_parent\"><img src=\"https://colab.research.google.com/assets/colab-badge.svg\" alt=\"Open In Colab\"/></a>"
      ]
    },
    {
      "cell_type": "code",
      "metadata": {
        "id": "Rmhj5xpRHeGc",
        "colab_type": "code",
        "colab": {}
      },
      "source": [
        "import requests\n",
        "from bs4 import BeautifulSoup as soup\n",
        "import pandas as pd"
      ],
      "execution_count": 17,
      "outputs": []
    },
    {
      "cell_type": "code",
      "metadata": {
        "id": "uyNwB1hIWeHU",
        "colab_type": "code",
        "colab": {}
      },
      "source": [
        "columns = ['Rank', 'Name', 'Strikeouts']\n",
        "df = pd.DataFrame(columns=columns)\n",
        "# for trs in table1:\n",
        "#   td = table1.find_all('td')"
      ],
      "execution_count": 12,
      "outputs": []
    },
    {
      "cell_type": "code",
      "metadata": {
        "id": "A3emdwzrSTkx",
        "colab_type": "code",
        "colab": {
          "base_uri": "https://localhost:8080/",
          "height": 197
        },
        "outputId": "dc075913-7976-4f0e-83ef-eb825b5306a2"
      },
      "source": [
        "url = 'https://www.baseball-reference.com/leaders/SO_p_career.shtml'\n",
        "url2 = 'https://en.wikipedia.org/wiki/List_of_Major_League_Baseball_career_strikeout_leaders#cite_note-2'\n",
        "\n",
        "headers = {'User-Agent': 'Mozilla/5.0 (Windows NT 10.0; Win64; x64) AppleWebKit/537.36 (KHTML, like Gecko) Chrome/84.0.4147.89 Safari/537.36'}\n",
        "\n",
        "webClient = requests.get(url2, headers=headers).text\n",
        "webpage = soup(webClient)\n",
        "\n",
        "# table1 = webpage.find_all('tr')[2:]\n",
        "for tr in webpage.find_all('tr'):\n",
        "    tds = tr.find_all('td')\n",
        "    # rows = [td.text for td in tds]\n",
        "    # df = df.append(pd.Series(rows, index=columns), ignore_index=True)\n",
        "    # print(tds)\n",
        "    print (\"Rank: %s, Name: %s, Strikeouts: %s\" +\n",
        "          tds[0].text, tds[1].text, tds[2].text)"
      ],
      "execution_count": 23,
      "outputs": [
        {
          "output_type": "error",
          "ename": "IndexError",
          "evalue": "ignored",
          "traceback": [
            "\u001b[0;31m---------------------------------------------------------------------------\u001b[0m",
            "\u001b[0;31mIndexError\u001b[0m                                Traceback (most recent call last)",
            "\u001b[0;32m<ipython-input-23-00daaf16eed6>\u001b[0m in \u001b[0;36m<module>\u001b[0;34m()\u001b[0m\n\u001b[1;32m     14\u001b[0m     \u001b[0;31m# print(tds)\u001b[0m\u001b[0;34m\u001b[0m\u001b[0;34m\u001b[0m\u001b[0;34m\u001b[0m\u001b[0m\n\u001b[1;32m     15\u001b[0m     print (\"Rank: %s, Name: %s, Strikeouts: %s\" +\n\u001b[0;32m---> 16\u001b[0;31m           tds[0].text, tds[1].text, tds[2].text)\n\u001b[0m",
            "\u001b[0;31mIndexError\u001b[0m: list index out of range"
          ]
        }
      ]
    },
    {
      "cell_type": "code",
      "metadata": {
        "id": "OAkhG0KT8ouo",
        "colab_type": "code",
        "colab": {}
      },
      "source": [
        ""
      ],
      "execution_count": null,
      "outputs": []
    }
  ]
}